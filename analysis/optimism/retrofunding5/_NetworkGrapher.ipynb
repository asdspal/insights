{
 "cells": [
  {
   "cell_type": "code",
   "execution_count": 9,
   "id": "f4610ba9-07f1-4f54-ab1b-0b23e9a7f0ea",
   "metadata": {},
   "outputs": [],
   "source": [
    "from google.cloud import bigquery\n",
    "\n",
    "import os\n",
    "import pandas as pd"
   ]
  },
  {
   "cell_type": "code",
   "execution_count": 14,
   "id": "78ffd9f2-b4ac-4f7c-9069-fd8247bae2ec",
   "metadata": {},
   "outputs": [],
   "source": [
    "# add GCP project and credentials here\n",
    "YOUR_PROJECT_NAME = 'opensource-observer'\n",
    "os.environ['GOOGLE_APPLICATION_CREDENTIALS'] = '../../../gcp_credentials.json'\n",
    "\n",
    "# connect to OSO\n",
    "client = bigquery.Client()"
   ]
  },
  {
   "cell_type": "code",
   "execution_count": 39,
   "id": "bc5c87f9-c45b-489e-aed8-89b36ccbb370",
   "metadata": {},
   "outputs": [],
   "source": [
    "query = f\"\"\"\n",
    "select distinct\n",
    "  fid,\n",
    "  target_fid,\n",
    "  timestamp\n",
    "from `{YOUR_PROJECT_NAME}.farcaster.links`\n",
    "where\n",
    "  deleted_at is null\n",
    "  and type = 'follow'\n",
    "order by timestamp\n",
    "\"\"\"  \n",
    "\n",
    "result = client.query(query)\n",
    "df = result.to_dataframe()"
   ]
  },
  {
   "cell_type": "code",
   "execution_count": 54,
   "id": "b8495b9e-b43c-457c-be60-75d6980527cb",
   "metadata": {},
   "outputs": [],
   "source": [
    "P = 4\n",
    "partition = len(df) // P\n",
    "j = 0\n",
    "for i in range(P):\n",
    "    k = min(j + partition, len(df))\n",
    "    dff = df.iloc[j:k]\n",
    "    min_date = dff['timestamp'].min().strftime(\"%Y%m%d%H%M%S\")\n",
    "    max_date = dff['timestamp'].max().strftime(\"%Y%m%d%H%M%S\")\n",
    "    dff[['fid', 'target_fid']].to_csv(f\"{min_date}_{max_date}_farcaster_graph.csv\")\n",
    "    j = k"
   ]
  },
  {
   "cell_type": "code",
   "execution_count": 66,
   "id": "82f7fbb7-ce49-4b43-ab2e-1a7a43fb5dff",
   "metadata": {},
   "outputs": [],
   "source": [
    "query = f\"\"\"\n",
    "select\n",
    "  user_artifacts.artifact_name as git_user,\n",
    "  repo_artifacts.artifact_namespace as repo_owner,\n",
    "  repo_artifacts.artifact_name as repo_name,\n",
    "  events.event_type,\n",
    "  sum(amount) as amount\n",
    "from `{YOUR_PROJECT_NAME}.oso.timeseries_events_by_artifact_v0` as events\n",
    "join `{YOUR_PROJECT_NAME}.oso.artifacts_v1` as user_artifacts\n",
    "  on events.from_artifact_id = user_artifacts.artifact_id\n",
    "join `{YOUR_PROJECT_NAME}.oso.artifacts_v1` as repo_artifacts\n",
    "  on events.to_artifact_id = repo_artifacts.artifact_id\n",
    "where\n",
    "    events.time >= '2023-09-01'\n",
    "    and event_type in ('COMMIT_CODE', 'STARRED', 'FORKED', 'ISSUE_OPENED', 'ISSUE_COMMENT')\n",
    "group by 1,2,3,4\n",
    "\"\"\"\n",
    "\n",
    "result = client.query(query)\n",
    "df = result.to_dataframe()"
   ]
  },
  {
   "cell_type": "code",
   "execution_count": 67,
   "id": "ec6eb450-5d01-4b13-a553-7ed65b337ba3",
   "metadata": {},
   "outputs": [
    {
     "data": {
      "text/plain": [
       "846954"
      ]
     },
     "execution_count": 67,
     "metadata": {},
     "output_type": "execute_result"
    }
   ],
   "source": [
    "len(df)"
   ]
  },
  {
   "cell_type": "code",
   "execution_count": 68,
   "id": "44d35bde-2178-4483-88ba-c3498fa16372",
   "metadata": {},
   "outputs": [
    {
     "data": {
      "text/html": [
       "<div>\n",
       "<style scoped>\n",
       "    .dataframe tbody tr th:only-of-type {\n",
       "        vertical-align: middle;\n",
       "    }\n",
       "\n",
       "    .dataframe tbody tr th {\n",
       "        vertical-align: top;\n",
       "    }\n",
       "\n",
       "    .dataframe thead th {\n",
       "        text-align: right;\n",
       "    }\n",
       "</style>\n",
       "<table border=\"1\" class=\"dataframe\">\n",
       "  <thead>\n",
       "    <tr style=\"text-align: right;\">\n",
       "      <th></th>\n",
       "      <th>git_user</th>\n",
       "      <th>repo_owner</th>\n",
       "      <th>repo_name</th>\n",
       "      <th>event_type</th>\n",
       "      <th>amount</th>\n",
       "    </tr>\n",
       "  </thead>\n",
       "  <tbody>\n",
       "    <tr>\n",
       "      <th>0</th>\n",
       "      <td>a7ex12</td>\n",
       "      <td>ethereum</td>\n",
       "      <td>pyethereum</td>\n",
       "      <td>FORKED</td>\n",
       "      <td>1.0</td>\n",
       "    </tr>\n",
       "    <tr>\n",
       "      <th>1</th>\n",
       "      <td>sarnaz1304</td>\n",
       "      <td>cyfrin</td>\n",
       "      <td>cyfrin-audit-reports</td>\n",
       "      <td>FORKED</td>\n",
       "      <td>1.0</td>\n",
       "    </tr>\n",
       "    <tr>\n",
       "      <th>2</th>\n",
       "      <td>jsunjava</td>\n",
       "      <td>kkrt-labs</td>\n",
       "      <td>kakarot</td>\n",
       "      <td>FORKED</td>\n",
       "      <td>1.0</td>\n",
       "    </tr>\n",
       "    <tr>\n",
       "      <th>3</th>\n",
       "      <td>chloe-tan</td>\n",
       "      <td>uniswap</td>\n",
       "      <td>v3-sdk</td>\n",
       "      <td>FORKED</td>\n",
       "      <td>1.0</td>\n",
       "    </tr>\n",
       "    <tr>\n",
       "      <th>4</th>\n",
       "      <td>lehuynhphat2808</td>\n",
       "      <td>mofalabs</td>\n",
       "      <td>zklogin</td>\n",
       "      <td>FORKED</td>\n",
       "      <td>1.0</td>\n",
       "    </tr>\n",
       "  </tbody>\n",
       "</table>\n",
       "</div>"
      ],
      "text/plain": [
       "          git_user repo_owner             repo_name event_type  amount\n",
       "0           a7ex12   ethereum            pyethereum     FORKED     1.0\n",
       "1       sarnaz1304     cyfrin  cyfrin-audit-reports     FORKED     1.0\n",
       "2         jsunjava  kkrt-labs               kakarot     FORKED     1.0\n",
       "3        chloe-tan    uniswap                v3-sdk     FORKED     1.0\n",
       "4  lehuynhphat2808   mofalabs               zklogin     FORKED     1.0"
      ]
     },
     "execution_count": 68,
     "metadata": {},
     "output_type": "execute_result"
    }
   ],
   "source": [
    "df.head()"
   ]
  },
  {
   "cell_type": "code",
   "execution_count": 69,
   "id": "3d545de1-15ef-44c9-b689-2adab203bf82",
   "metadata": {},
   "outputs": [],
   "source": [
    "df.to_csv(\"20230901_20240915_github.csv\")"
   ]
  },
  {
   "cell_type": "code",
   "execution_count": 70,
   "id": "c6c0a0a5-b5e3-43a1-b137-24b445e29305",
   "metadata": {},
   "outputs": [
    {
     "data": {
      "text/html": [
       "<div>\n",
       "<style scoped>\n",
       "    .dataframe tbody tr th:only-of-type {\n",
       "        vertical-align: middle;\n",
       "    }\n",
       "\n",
       "    .dataframe tbody tr th {\n",
       "        vertical-align: top;\n",
       "    }\n",
       "\n",
       "    .dataframe thead th {\n",
       "        text-align: right;\n",
       "    }\n",
       "</style>\n",
       "<table border=\"1\" class=\"dataframe\">\n",
       "  <thead>\n",
       "    <tr style=\"text-align: right;\">\n",
       "      <th></th>\n",
       "      <th>git_user</th>\n",
       "      <th>repo_owner</th>\n",
       "      <th>repo_name</th>\n",
       "      <th>event_type</th>\n",
       "      <th>amount</th>\n",
       "    </tr>\n",
       "  </thead>\n",
       "  <tbody>\n",
       "    <tr>\n",
       "      <th>0</th>\n",
       "      <td>a7ex12</td>\n",
       "      <td>ethereum</td>\n",
       "      <td>pyethereum</td>\n",
       "      <td>FORKED</td>\n",
       "      <td>1.0</td>\n",
       "    </tr>\n",
       "    <tr>\n",
       "      <th>1</th>\n",
       "      <td>sarnaz1304</td>\n",
       "      <td>cyfrin</td>\n",
       "      <td>cyfrin-audit-reports</td>\n",
       "      <td>FORKED</td>\n",
       "      <td>1.0</td>\n",
       "    </tr>\n",
       "    <tr>\n",
       "      <th>2</th>\n",
       "      <td>jsunjava</td>\n",
       "      <td>kkrt-labs</td>\n",
       "      <td>kakarot</td>\n",
       "      <td>FORKED</td>\n",
       "      <td>1.0</td>\n",
       "    </tr>\n",
       "    <tr>\n",
       "      <th>3</th>\n",
       "      <td>chloe-tan</td>\n",
       "      <td>uniswap</td>\n",
       "      <td>v3-sdk</td>\n",
       "      <td>FORKED</td>\n",
       "      <td>1.0</td>\n",
       "    </tr>\n",
       "    <tr>\n",
       "      <th>4</th>\n",
       "      <td>lehuynhphat2808</td>\n",
       "      <td>mofalabs</td>\n",
       "      <td>zklogin</td>\n",
       "      <td>FORKED</td>\n",
       "      <td>1.0</td>\n",
       "    </tr>\n",
       "    <tr>\n",
       "      <th>...</th>\n",
       "      <td>...</td>\n",
       "      <td>...</td>\n",
       "      <td>...</td>\n",
       "      <td>...</td>\n",
       "      <td>...</td>\n",
       "    </tr>\n",
       "    <tr>\n",
       "      <th>846949</th>\n",
       "      <td>codegovindz</td>\n",
       "      <td>huggingface</td>\n",
       "      <td>transformers</td>\n",
       "      <td>ISSUE_COMMENT</td>\n",
       "      <td>1.0</td>\n",
       "    </tr>\n",
       "    <tr>\n",
       "      <th>846950</th>\n",
       "      <td>shahad-mahmud</td>\n",
       "      <td>huggingface</td>\n",
       "      <td>transformers</td>\n",
       "      <td>ISSUE_COMMENT</td>\n",
       "      <td>2.0</td>\n",
       "    </tr>\n",
       "    <tr>\n",
       "      <th>846951</th>\n",
       "      <td>moghadas76</td>\n",
       "      <td>huggingface</td>\n",
       "      <td>transformers</td>\n",
       "      <td>ISSUE_COMMENT</td>\n",
       "      <td>3.0</td>\n",
       "    </tr>\n",
       "    <tr>\n",
       "      <th>846952</th>\n",
       "      <td>zhangjunyi111</td>\n",
       "      <td>huggingface</td>\n",
       "      <td>transformers</td>\n",
       "      <td>ISSUE_COMMENT</td>\n",
       "      <td>1.0</td>\n",
       "    </tr>\n",
       "    <tr>\n",
       "      <th>846953</th>\n",
       "      <td>oops343</td>\n",
       "      <td>huggingface</td>\n",
       "      <td>transformers</td>\n",
       "      <td>ISSUE_COMMENT</td>\n",
       "      <td>3.0</td>\n",
       "    </tr>\n",
       "  </tbody>\n",
       "</table>\n",
       "<p>846954 rows × 5 columns</p>\n",
       "</div>"
      ],
      "text/plain": [
       "               git_user   repo_owner             repo_name     event_type  \\\n",
       "0                a7ex12     ethereum            pyethereum         FORKED   \n",
       "1            sarnaz1304       cyfrin  cyfrin-audit-reports         FORKED   \n",
       "2              jsunjava    kkrt-labs               kakarot         FORKED   \n",
       "3             chloe-tan      uniswap                v3-sdk         FORKED   \n",
       "4       lehuynhphat2808     mofalabs               zklogin         FORKED   \n",
       "...                 ...          ...                   ...            ...   \n",
       "846949      codegovindz  huggingface          transformers  ISSUE_COMMENT   \n",
       "846950    shahad-mahmud  huggingface          transformers  ISSUE_COMMENT   \n",
       "846951       moghadas76  huggingface          transformers  ISSUE_COMMENT   \n",
       "846952    zhangjunyi111  huggingface          transformers  ISSUE_COMMENT   \n",
       "846953          oops343  huggingface          transformers  ISSUE_COMMENT   \n",
       "\n",
       "        amount  \n",
       "0          1.0  \n",
       "1          1.0  \n",
       "2          1.0  \n",
       "3          1.0  \n",
       "4          1.0  \n",
       "...        ...  \n",
       "846949     1.0  \n",
       "846950     2.0  \n",
       "846951     3.0  \n",
       "846952     1.0  \n",
       "846953     3.0  \n",
       "\n",
       "[846954 rows x 5 columns]"
      ]
     },
     "execution_count": 70,
     "metadata": {},
     "output_type": "execute_result"
    }
   ],
   "source": [
    "df"
   ]
  },
  {
   "cell_type": "code",
   "execution_count": 71,
   "id": "21c6c357-1d92-442e-9754-b940f0f081b1",
   "metadata": {},
   "outputs": [
    {
     "data": {
      "text/plain": [
       "event_type\n",
       "STARRED          491327\n",
       "FORKED           164050\n",
       "ISSUE_COMMENT     96458\n",
       "ISSUE_OPENED      54920\n",
       "COMMIT_CODE       40199\n",
       "Name: count, dtype: int64"
      ]
     },
     "execution_count": 71,
     "metadata": {},
     "output_type": "execute_result"
    }
   ],
   "source": [
    "df['event_type'].value_counts()"
   ]
  }
 ],
 "metadata": {
  "kernelspec": {
   "display_name": "Python 3 (ipykernel)",
   "language": "python",
   "name": "python3"
  },
  "language_info": {
   "codemirror_mode": {
    "name": "ipython",
    "version": 3
   },
   "file_extension": ".py",
   "mimetype": "text/x-python",
   "name": "python",
   "nbconvert_exporter": "python",
   "pygments_lexer": "ipython3",
   "version": "3.11.7"
  }
 },
 "nbformat": 4,
 "nbformat_minor": 5
}

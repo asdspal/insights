{
 "cells": [
  {
   "cell_type": "code",
   "execution_count": 1,
   "id": "51df3609-f53e-43d5-a547-12df0065ad61",
   "metadata": {},
   "outputs": [],
   "source": [
    "from collections import defaultdict\n",
    "import json\n",
    "import numpy as np\n",
    "import pandas as pd\n",
    "import requests"
   ]
  },
  {
   "cell_type": "code",
   "execution_count": 2,
   "id": "4fd09186-a7c9-4f06-9057-dd79d7e38fac",
   "metadata": {},
   "outputs": [],
   "source": [
    "TOTAL_FUNDING = 8_000_000\n",
    "MAX_CAP = 1_000_000\n",
    "MIN_CAP = 10_000"
   ]
  },
  {
   "cell_type": "code",
   "execution_count": 3,
   "id": "f189fc27-2bd9-42fa-b2cf-9f9e0ea24e4b",
   "metadata": {},
   "outputs": [
    {
     "name": "stdout",
     "output_type": "stream",
     "text": [
      "Fetch the data...\n"
     ]
    }
   ],
   "source": [
    "# placeholder for making API calls\n",
    "\n",
    "KEY = 'your_key'\n",
    "CURSOR = 0\n",
    "f\"\"\"\n",
    "curl -X 'GET' \\\n",
    "  'https://vote.optimism.io/api/v1/retrofunding/rounds/5/projects?limit=100&offset={CURSOR}&category=all' \\\n",
    "  -H 'accept: application/json' \\\n",
    "  -H 'Authorization: Bearer {KEY}'\n",
    "\"\"\"\n",
    "\n",
    "print(\"Fetch the data...\")"
   ]
  },
  {
   "cell_type": "code",
   "execution_count": 4,
   "id": "4ab554bd-54c2-4d71-a830-09b176bd4814",
   "metadata": {},
   "outputs": [
    {
     "data": {
      "text/plain": [
       "{'voter_id': '0x3d1f2b3b6be449c6b58ba2d7f6f78d741f7dcca1',\n",
       " 'budget': 2250000,\n",
       " 'category_assignment': 'eth_core',\n",
       " 'category_allocations': {'eth_core': 29.879978503612588,\n",
       "  'op_tooling': 25.401564459306144,\n",
       "  'op_rnd': 44.718457037081265},\n",
       " 'project_allocations': {'0x82ef80ecf81b0bab897fe9ab595544db44b14708993f91c5f5f457f869d2af1d': 0.0,\n",
       "  '0xbdc75c7f2d9d4f797174656b47ef920cc968b82a1235efec4a37816fc8077ef9': 6.312743072075623,\n",
       "  '0xdda0798a5eb762366cd5aa5de87f042567946b47f5cf1d776077a2b00d75c575': 0.0,\n",
       "  '0xd7f9140cd24d5332f81c9a12d5d7da80f0c61f69db015073727064f0b975c875': 1.9952551195310064,\n",
       "  '0xf615a763fa6599d40e52ee2e15ec77f208324c5863a157cdeb243639936476e8': 0.0,\n",
       "  '0x383672f18d21daf99befe6f41d201f357f70f1883daba5260ac992413edd1ba2': 2.8919126219371885,\n",
       "  '0x73deb2a75792f7c688dc87a3080ce18637b7d241ad2b551272fb21aee72d6bf7': 0.0,\n",
       "  '0x762c363ac739a057eb4d414fd17916a2b098a00c7ddeae32d021f6df572561e1': 4.713293804721525,\n",
       "  '0x29e10fc68e78b9b22e5c088a87a2779f918c5c47fff3ccf58dcb02aea267e329': 6.272557225365293,\n",
       "  '0x56cb9a566631cf918d682a40877cb4ffe7dfc4d3cbec30f5cc9a1a71c8083618': 0.0,\n",
       "  '0x210e805889bc45966ef7381f68819132404ee27f598c4193d9aa55ce13efdbf8': 0.0,\n",
       "  '0x0af93b34c4c047485dca950b6a1f063727ea08ea6363988322a45240cba1562a': 0.0,\n",
       "  '0x2f6cbef6708256634282c33f3a51305d3e2b83bf811c19690a28d4b2c2e9d303': 3.05848897260907,\n",
       "  '0xc35c7e857f2c5e5462e81b9d9a08a3898a85d5286b8dde0421a44751e7f072e2': 3.36351738774113,\n",
       "  '0x1eb235ab9f68ef85535d538ee652c00ef5dfaa4d6271b4a8ad3c3bf2ba2ec069': 0.0,\n",
       "  '0x7a961a94239bf5be5d066881e36c769ee6e1102242bdf0f4c19a849a9d738ebe': 5.360064807785573,\n",
       "  '0xe950477ad2f79bdbf93133a3b7d0984f25b4fbea78c103de8c09e767d84a7191': 2.1370270576984756,\n",
       "  '0xee00e0894f37d1654e674cfcba09ac32004ea0a33178040f71a90be75659cdcd': 0.0,\n",
       "  '0x2f6e0f7fe7d657d7558899e1a8e7670dc817e4c64bde86f473cefa1b1403db92': 3.030933563743104,\n",
       "  '0x6c97a1517ef2f72228131c288c1a9256c7e4d47bba01d069b16df2f7ca81bd85': 0.0,\n",
       "  '0x4176bd17655c79257d454d781a811f547c350196b4cc4e7b5331a309ac30e1df': 3.32764602194971,\n",
       "  '0x6621d15bdec0eb8a9007f6a0cb83ca672860b7c6ed80faf817659c090009ed50': 0.0,\n",
       "  '0xe07d57e306683c8da55db7e36be5e80b7167f140d7c967f6a888861ed0109b12': 0.0,\n",
       "  '0xc46c0ad78b304a03237cbc59ddca40b5d94b9a50af3aada085f860a137bb4fe6': 4.660955680352683,\n",
       "  '0x6aeb3dad89f6557ec81a11d4c59afd43afda97e8358145eba8a701462f1923d2': 4.350808871266689,\n",
       "  '0xdc268cb6ac74238769f4b9f0b07e3f108fae3c40fe251d5c18efed935eb96b0c': 0.0,\n",
       "  '0xf2021d8979bd4aa2227f27cfe6490815952fca725e8da6271e1f6dba49ba0701': 3.6380287782376275,\n",
       "  '0xd345713159a30fc657c3ddb5661f69309915b7acd304bb3200f09bd5e258febe': 2.0545738272000067,\n",
       "  '0x620bda9a2e3c3e849fedd4cc80eaea99a53e4d3e50a217bd20e1fbe678fd6128': 4.800850276032422,\n",
       "  '0xa958c93582454042b966df568c686264553dedd4262f890f98e1443123277eae': 6.273809448427351,\n",
       "  '0xb3cd16830a3a4cbeb390c0f2ad66c8155a90d0bd22279e3dc306a27c27e2411c': 2.2937942236489204,\n",
       "  '0x44d86a248df1cfb4fa6aa1ffe30c391192ab43e77662af2d9dd6878796739a04': 2.9001099995504007,\n",
       "  '0x35d707d93c0ad28953c4254bd3888ae0be2ed1693dcf8fd28ac82b359cef2554': 2.2211902600127913,\n",
       "  '0x40a862a9e7faff61ea712ca35128dbf5062dcb597a8005edfc7cb4c764b50d3e': 5.09890726787166,\n",
       "  '0x0971d7b1728a90ecbcfb72b7c12a27dabcab6c4279accb68dff6e3268039a26d': 4.430173294528461,\n",
       "  '0xda2e782872ee0cf3a9a94158f8527ca85b1b4dc19e5a1a7dc53e7552a098df65': 0.0,\n",
       "  '0x468cadd4109849a20903110bd6d3db97555cc811e981a4d12df3cc2cd1387f8a': 1.9992010391067854,\n",
       "  '0x00a4cee5f0f74e92b03b87fd619b37c9bb7ae054738c0143ef83346464046a75': 0.0,\n",
       "  '0x86f20a2671ef751e9fdf181bfe8d2c6e0647f67679489b197c26cb25dad5458f': None,\n",
       "  '0xc0dac906167f299014aeb6ad6d31d5194c2c73c7fe73405b5b9bef7d172a1487': 0.0,\n",
       "  '0x8e2e74a7ee11d1b34278912d4457fbadd0da7b5cc650616a2ba79cb7968909a9': 0.0,\n",
       "  '0x539cf7777f9ca3ec7a4ed2983c3248c36f3691cb004eddce3e0d377d0ef73375': 2.599255570528326,\n",
       "  '0x28f35448643982186de0449e9a7f47b94ee2f93a8de7069a8f91fb94e21bfd2c': 0.0,\n",
       "  '0xa890fad98dd1b5179eef8c2d3a4ac52a51327d1ef51f826d5f583e725880af89': 3.2412433556710654,\n",
       "  '0x2fc7eb20b6c544cb7dd32ad1033e0eca2d56fdbb1565af181362a1f34cfae475': 3.088676499396497,\n",
       "  '0xcdebeb77a8d4ebbf16aff97d72dcea3d080ae73e7848d858c2f051eb2d2aed2c': 3.8849819530106213}}"
      ]
     },
     "execution_count": 4,
     "metadata": {},
     "output_type": "execute_result"
    }
   ],
   "source": [
    "synthetic_data = json.load(open(\"data/rf5_synthetic_ballots.json\"))\n",
    "synthetic_data[-2]"
   ]
  },
  {
   "cell_type": "code",
   "execution_count": 5,
   "id": "35fce79f-8adc-44a0-9f10-650c9c617090",
   "metadata": {},
   "outputs": [
    {
     "name": "stdout",
     "output_type": "stream",
     "text": [
      "['eth_core', 'op_tooling', 'op_rnd']\n"
     ]
    }
   ],
   "source": [
    "NUM_VOTERS = len(synthetic_data)\n",
    "CATEGORIES = list(synthetic_data[-1]['category_allocations'].keys())\n",
    "NUM_CATEGORIES = len(CATEGORIES)\n",
    "PROJECTS = list(set([p for vote in synthetic_data for p in vote['project_allocations'].keys()]))\n",
    "NUM_PROJECTS = len(PROJECTS)\n",
    "print(CATEGORIES)"
   ]
  },
  {
   "cell_type": "code",
   "execution_count": 6,
   "id": "8f51d8c6-9388-45fd-a3dd-0874f083c71a",
   "metadata": {},
   "outputs": [
    {
     "name": "stdout",
     "output_type": "stream",
     "text": [
      "\n",
      "Median Budget: 7225000.0\n",
      "\n",
      "Category: eth_core\n",
      "-----------------\n",
      "Median Allocation: 31.3%\n",
      "Total Projects: 46\n",
      "Check: Sum of Project Allocations Within Category: 100.0%\n",
      "\n",
      "\n",
      "Category: op_tooling\n",
      "-----------------\n",
      "Median Allocation: 33.4%\n",
      "Total Projects: 40\n",
      "Check: Sum of Project Allocations Within Category: 100.0%\n",
      "\n",
      "\n",
      "Category: op_rnd\n",
      "-----------------\n",
      "Median Allocation: 35.2%\n",
      "Total Projects: 34\n",
      "Check: Sum of Project Allocations Within Category: 100.0%\n",
      "\n",
      "******************\n",
      "\n",
      "Check: Sum of Project Allocations Across All Categories: 100.0%\n"
     ]
    }
   ],
   "source": [
    "# Step 0. Parse all the ballots (and remove null votes)\n",
    "budget_votes = []\n",
    "category_scores = defaultdict(list)\n",
    "project_scores = defaultdict(lambda: defaultdict(list))\n",
    "for ballot in synthetic_data:\n",
    "    budget_votes.append(ballot['budget'])\n",
    "    assigned_category = ballot['category_assignment']\n",
    "    for category, category_percentage in ballot['category_allocations'].items():\n",
    "        category_scores[category].append(category_percentage)\n",
    "\n",
    "    for project, project_percentage in ballot['project_allocations'].items():\n",
    "        if project_percentage:\n",
    "            project_scores[assigned_category][project].append(project_percentage)\n",
    "\n",
    "# Step 1A. Calculate total funding for the round based on median budget vote\n",
    "total_budget = np.median(budget_votes)\n",
    "\n",
    "# Step 1B. Calculate medians for categories and normalize to weights across categories\n",
    "category_medians = {k: np.median(v)/100 for k, v in category_scores.items()}    \n",
    "category_total = sum(category_medians.values())\n",
    "category_weights = {k: v/category_total for k, v in category_medians.items()}\n",
    "\n",
    "# Step 2. Calculate medians for projects and normalize to weights within a category\n",
    "project_weights = defaultdict(lambda: defaultdict(list))\n",
    "for category, project_dict in project_scores.items():\n",
    "    for project, scores in project_dict.items():\n",
    "        project_weights[category][project] = np.median(scores) / 100\n",
    "    category_subtotal = sum(project_weights[category].values())\n",
    "    for k, v in project_weights[category].items():\n",
    "        project_weights[category][k] = v/category_subtotal \n",
    "\n",
    "# Step 3. Create an initial series of project funding allocations\n",
    "initial_project_allocations = pd.Series()\n",
    "for category, projects in project_weights.items():\n",
    "    for project, score in projects.items():\n",
    "        initial_project_allocations.loc[project] = score * category_weights[category] #* total_budget\n",
    "\n",
    "# Check the results makes sense\n",
    "print(\"\\nMedian Budget:\", total_budget)\n",
    "for c in CATEGORIES:\n",
    "    print(\"\\nCategory:\", c)\n",
    "    print(\"-----------------\")\n",
    "    print(f\"Median Allocation: {category_weights[c]*100:.1f}%\")\n",
    "    print(\"Total Projects:\", len(project_weights[c]))\n",
    "    print(f\"Check: Sum of Project Allocations Within Category: {sum(project_weights[c].values())*100:.1f}%\\n\")\n",
    "print(\"******************\")    \n",
    "print(f\"\\nCheck: Sum of Project Allocations Across All Categories: {initial_project_allocations.sum()*100:.1f}%\")"
   ]
  },
  {
   "cell_type": "code",
   "execution_count": 7,
   "id": "3d7e0431-0a88-4e89-9d79-6c01f611dbb7",
   "metadata": {},
   "outputs": [
    {
     "name": "stdout",
     "output_type": "stream",
     "text": [
      "Final Results:\n",
      " - Projects: 120\n",
      " - Voters: 100\n",
      " - Funding Available: 7225000.0\n",
      " - Funding Awarded: 7225000\n"
     ]
    },
    {
     "data": {
      "image/png": "[encoded data removed]",
      "text/plain": [
       "<Figure size 640x480 with 1 Axes>"
      ]
     },
     "metadata": {},
     "output_type": "display_data"
    }
   ],
   "source": [
    "def allocate_funding(project_scores, funding_balance):\n",
    "    \"\"\"\n",
    "    Helper for allocating and redistributing funding balances\n",
    "    \"\"\"\n",
    "    score_balance = project_scores.sum()\n",
    "    allocations = pd.Series()\n",
    "    \n",
    "    for project, score in project_scores.sort_values(ascending=False).items():\n",
    "        uncapped_funding_alloc = score / score_balance * funding_balance\n",
    "        capped_funding_alloc = min(uncapped_funding_alloc, MAX_CAP)\n",
    "        allocations.loc[project] = capped_funding_alloc\n",
    "        funding_balance -= capped_funding_alloc\n",
    "        score_balance -= score\n",
    "\n",
    "    return allocations\n",
    "\n",
    "\n",
    "# Step 4. Implement max cap and redistribute excess\n",
    "capped_allocations = allocate_funding(initial_project_allocations, total_budget)\n",
    "\n",
    "# Step 5. Set the funding for projects below the minimum cap to 0\n",
    "capped_allocations.loc[capped_allocations < MIN_CAP] = 0\n",
    "\n",
    "# Step 6. Allocate the remaining funding to projects below the maximum cap\n",
    "max_cap_funding = capped_allocations[capped_allocations == MAX_CAP].sum()\n",
    "remaining_funding = total_budget - max_cap_funding\n",
    "remaining_projects = capped_allocations[capped_allocations < MAX_CAP]\n",
    "capped_allocations.update(allocate_funding(remaining_projects, funding_balance=remaining_funding))\n",
    "\n",
    "capped_allocations.to_csv('data/rf5_synthetic_ballots_results.csv', header=['allocation'])\n",
    "\n",
    "# Check the results\n",
    "capped_allocations.plot(xticks=[])\n",
    "print(\"Final Results:\")\n",
    "print(\" - Projects:\", NUM_PROJECTS)\n",
    "print(\" - Voters:\", NUM_VOTERS)\n",
    "print(\" - Funding Available:\", total_budget)\n",
    "print(\" - Funding Awarded:\", round(capped_allocations.sum()))"
   ]
  }
 ],
 "metadata": {
  "kernelspec": {
   "display_name": "Python 3 (ipykernel)",
   "language": "python",
   "name": "python3"
  },
  "language_info": {
   "codemirror_mode": {
    "name": "ipython",
    "version": 3
   },
   "file_extension": ".py",
   "mimetype": "text/x-python",
   "name": "python",
   "nbconvert_exporter": "python",
   "pygments_lexer": "ipython3",
   "version": "3.11.7"
  }
 },
 "nbformat": 4,
 "nbformat_minor": 5
}

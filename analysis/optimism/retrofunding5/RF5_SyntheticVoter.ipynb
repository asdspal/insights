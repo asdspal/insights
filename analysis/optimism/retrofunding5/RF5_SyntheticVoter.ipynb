{
 "cells": [
  {
   "cell_type": "code",
   "execution_count": 1,
   "id": "51df3609-f53e-43d5-a547-12df0065ad61",
   "metadata": {},
   "outputs": [],
   "source": [
    "from collections import defaultdict\n",
    "import json\n",
    "import random\n",
    "import secrets"
   ]
  },
  {
   "cell_type": "code",
   "execution_count": 4,
   "id": "2ae93ac8-adc0-4f61-a7be-18192be2d207",
   "metadata": {},
   "outputs": [],
   "source": [
    "# Simulation constants\n",
    "CATEGORIES = ['eth_core', 'op_tooling', 'op_rnd']\n",
    "NUM_CATEGORIES = len(CATEGORIES)\n",
    "NUM_PROJECTS = 100\n",
    "NUM_VOTERS = 100\n",
    "MAX_OP = 1_000_000\n",
    "MIN_OP = 1000\n",
    "TOTAL_OP = 8_000_000\n",
    "MAX_COI_PROJECTS = 10"
   ]
  },
  {
   "cell_type": "code",
   "execution_count": 5,
   "id": "6030e2a7-d5e6-43ac-ab4f-51a420c3e4a2",
   "metadata": {},
   "outputs": [
    {
     "data": {
      "text/plain": [
       "['0x61ba972590a5d0a76a1a948dc8c328c2a6242aec822018200788a7c5babaabac',\n",
       " '0x09c8a4b5407c62b342aa3737d2b0a45364d6fa7867d028ba5169221e6fd694bc',\n",
       " '0x7e1ee810b60eec3b703e6db02550401f915049d2d02f557e2dd41c93708f5c21',\n",
       " '0x859466ef73b6991aebad89f9a3b6ec56581ebcd7a45d8270ee36aa39bd21a4e5',\n",
       " '0xdbfe0ee23e645e4d7323cae80919a23cabfa87ce09ca3986c6efb3422ea90db5',\n",
       " '0xe63c69bf5b748f5660107720e5abbc20b3b499134933d6faf466d5d876957797',\n",
       " '0x0e86fdd04b544d2e6214f44bab5e0cb5b25a459db8813c2ca5b576885a3c8e97',\n",
       " '0x0612554881ba9aa5bffc9cda7ec3a414995afb1cceb705adb0730c6bf33c1762',\n",
       " '0xaf2782ad1e11e6ee32f93b326f5961ec8c8752834f0a1b5a1d31c1b2752b1941',\n",
       " '0x2812a63b8a270f80f4e9ca47b06f7d6872f5e2bbfa474e082129f116dbbe73e6',\n",
       " '0x7cbc2a042b24ab34f2cf767b2c635ebd63b4d090a16333ea1a7f308b4e5cbfbe',\n",
       " '0x5693db309b2e3db862bd8baa40a9e76a0240f12ccd746ad6b55ac4cd5be21d34',\n",
       " '0xc5c5c6b6a7c68fa442b2085ad897069cdf2c3d9d711077b76ecc9bb422896985',\n",
       " '0x021e6e1ff49e11bf4e0976501ccc12c542ae369eec772192388be9cedd6b0cab',\n",
       " '0xc4bc33064f2860ad54ed0b2b8927b800c4b36c08e6a8aa136dc57cd6c53cb01b',\n",
       " '0x05b75e65cbebd5c9b0990694107e2414eaab4fcc6c178af8ae1e77d598137e78',\n",
       " '0x6ad38017fceb9dfa810654175e8342b785985dcedbf91f6d26833c3de689653b',\n",
       " '0x7b9cafc6714ba1ba9fbcff5fe32312969a4a3e2894c35847b28f8ce356db84aa',\n",
       " '0x7ec0b63eefdb3b568bd0d0e15763044c5dff4c3a43f587e54504bedfd27983a5',\n",
       " '0x9cd103ff17c066b5e4c28db9813942c3ca6de303400aece0730191df7c6e77b5',\n",
       " '0x65fa88396ccdf766cd54df30f776628d632f3a67bf4bc7f49008f35a0f099867',\n",
       " '0x9c94158448bf20addfda1d55989800be7e96c61cf609684036aa1008f14f383a',\n",
       " '0x2fead01dbc3f279513f49f2bb02a1aa03097c2bd1acd05bb09eb2366400dab44',\n",
       " '0xfa102e86c9f2d30fb894a90302263cd22df0cdecd1d0c13022110449da438727',\n",
       " '0x36206534e181c1f524f81b2338179036b97040b57bcb4b3b255da4fcb6f19edc',\n",
       " '0x67a156d452b6fa18b25bc006ffaf4831af2de4d6bc73ce3032c9a85dc55bf070',\n",
       " '0x6da45e87fbcab2357dce0dea6756e23c24437b73b401a789905e7df2b5b58f71',\n",
       " '0x6190aeeac49b9d21ac6dc47243c06f14b1d4d3021e5f07429b870e424edd745a',\n",
       " '0x046723d1480b1e0f160ad683d518e3bd239a93598a06a74b8de556db01bb1780',\n",
       " '0x54478d939e89090e47f6c0cd4b1bb820ba121a5e1d16473fcd26183af439b4ec',\n",
       " '0xbda2983b49b5f7ea8fe715a60ab73a5f6bcba0385d5a5623e1bfbf13299d50ec',\n",
       " '0x8236040146a2da2b5a5a3ba289f5c39105cdc00ce5b7786488499fcf9f1b4896',\n",
       " '0xb12acd1d717c863f3071d46064ffa5f3f188d3fc40ccc09d24bb9946910a516a',\n",
       " '0xfb1014ee9dede8dff77df929a1717e5c0aba90e04ee2674ddeb821e48d4c16d5',\n",
       " '0xa884550496868cc9ce792a48abdbf998ddc198b5e7db2aa05b84188d1264a4db',\n",
       " '0x59762fa16c471929afb2b0606453a4f826c00cf7bc3d4366bec40d2c0e2735b6',\n",
       " '0x8e3e812092e7965cb771f376d1ebb27fccbd4598061bb14cc41d412106333118',\n",
       " '0xdf95c1f2a2476e3d2e35d4f6dd7b7cb88d567c84e5c47195e37c38bf61a75876',\n",
       " '0xacec18444814d8a47d39521c322fee94e2b238d1b9244734df0bb8492238d191',\n",
       " '0xb8564ad1a85bd51b510e20328930f3b8631e697a1cf2321c366ced32c7de3d57',\n",
       " '0xe4443b7dce4e8715bd4dd6f9b12ff5870539082aad2e2406cd0c5a99098092f5',\n",
       " '0xca1ffe3e4805dcfd93d5c4bedf32f24cc392f969d59b985072533168170a0ccf',\n",
       " '0xaa208f4f155801b6c0098971bbb6fb3192a1b286d7b103aadfff82928a6a27a4',\n",
       " '0x146dbe28192b5389e1f1c9ea7b87cb1b2001a26bcdaedeffc9de4d9c056431b8',\n",
       " '0xee6caf18f260e762866ac440ae567d1ac7b8a904d0dea731f432090cca507a89',\n",
       " '0xedbc568d80655f976a2a9ff9064f608e051060bb54ebe29aeec0281bc24bc080',\n",
       " '0x4424f34881a88899c6a0cffee5781b9a3b32abd14b6ac0dae572b6eb6e7cc70d']"
      ]
     },
     "execution_count": 5,
     "metadata": {},
     "output_type": "execute_result"
    }
   ],
   "source": [
    "# Initialize categories and projects\n",
    "\n",
    "# Randomly generate project UIDs\n",
    "projects = [\n",
    "    f\"0x{secrets.token_hex(32)}\"\n",
    "    for _ in range(NUM_PROJECTS)\n",
    "]\n",
    "\n",
    "# Randomly allocate projects to categories\n",
    "projects_by_category = defaultdict(list)\n",
    "for project in projects:\n",
    "    category = random.choice(CATEGORIES)\n",
    "    projects_by_category[category].append(project)\n",
    "\n",
    "# Test\n",
    "projects_by_category['op_tooling']"
   ]
  },
  {
   "cell_type": "code",
   "execution_count": 6,
   "id": "e0b66548-3e47-4ca4-9c88-22ca78f8163c",
   "metadata": {},
   "outputs": [],
   "source": [
    "# Generate voter ballots\n",
    "def generate_ballot():\n",
    "\n",
    "    # Generate random category for the voter\n",
    "    assigned_category = random.sample(CATEGORIES, 1)[0]\n",
    "\n",
    "    # Generate random COI list for each voter (for simplicity, random projects)\n",
    "    coi_projects = list(random.sample(projects, random.randint(0, MAX_COI_PROJECTS)))\n",
    "\n",
    "    # Create a random threshold (up to 10%) for the voter to \"zero\" vote projects they don't like\n",
    "    zero_thresh = random.randint(0, 1000)/100 \n",
    "    \n",
    "    #  Determine category allocations\n",
    "    category_allocations = {category: random.randint(0, 10000)/100. for category in CATEGORIES}\n",
    "    total = sum(category_allocations.values())\n",
    "    category_allocations = {k: (v * 100 / total) for k, v in category_allocations.items()}\n",
    "\n",
    "    # Determine project allocations within a category\n",
    "    for category, proj_list in projects_by_category.items():\n",
    "        if category != assigned_category:\n",
    "            continue\n",
    "\n",
    "        project_allocations = defaultdict(list)\n",
    "        for project in proj_list:            \n",
    "            alloc = random.randint(0, 10000)/100.\n",
    "            if alloc < zero_thresh or project in coi_projects:\n",
    "                alloc = 0\n",
    "            project_allocations[project] = alloc\n",
    "        \n",
    "        total = sum(project_allocations.values())\n",
    "        project_allocations = {\n",
    "            k: v * 100 / total if k not in coi_projects else None\n",
    "            for k, v in project_allocations.items()\n",
    "        }\n",
    "\n",
    "    return {\n",
    "        \"voter_id\": f\"0x{secrets.token_hex(20)}\",\n",
    "        \"category_allocations\": category_allocations,\n",
    "        \"project_allocations\": project_allocations\n",
    "    }\n",
    "\n",
    "# Generate all voter ballots\n",
    "voter_ballots = [generate_ballot() for _ in range(NUM_VOTERS)]"
   ]
  },
  {
   "cell_type": "code",
   "execution_count": 7,
   "id": "a6283275-fb1b-443d-ac5c-aefbc040ab89",
   "metadata": {},
   "outputs": [
    {
     "data": {
      "text/plain": [
       "{'voter_id': '0xa44612da01605231677e4dbb21c464f97c047f9b',\n",
       " 'category_allocations': {'eth_core': 21.383616383616385,\n",
       "  'op_tooling': 42.67732267732268,\n",
       "  'op_rnd': 35.939060939060944},\n",
       " 'project_allocations': {'0x3fb02be6887e54023a5ef466a87bf2699bb51915388946bad061918ddc7372ff': 1.314087012776969,\n",
       "  '0xde4a16f5e53fa4828545ff795d2f3a52cc91b54f7db3eab33d4e8de959ac857b': 8.870087336244541,\n",
       "  '0x720d996d227d4829d008986f3b200562854e2858ee6ad6873d5ea983f14bae71': 7.697517386382016,\n",
       "  '0xb21fb67655a28de6ce101bfa7380d7d02f0f71c70bd87a19a1c22529e45c3a9c': None,\n",
       "  '0x6d905c4732a686a1f6860c1e64d8f0704d3213ec6934cd61c835b6111f020fc1': 5.634400776322173,\n",
       "  '0xca5335357470b0bee691a32c4ae5645a85e575cec328d7ba278afe9f387cc42c': 7.2982371017305505,\n",
       "  '0x3542e38f31412fccba991e3b893cffdff69bf10b3586e1efb4df0a05e0ed95a1': 3.657205240174672,\n",
       "  '0xca4a8fd9c4585d5773ca36a07054939c0be7a5d9c0a2067cd2264d86b3cc1615': None,\n",
       "  '0x9607cf6387e290e9a8d0def71cc4e147d334eea1e7c263ebd0e3c0e059b4c4f4': 2.702975901665858,\n",
       "  '0x42f27ad1761eb4dbd40fb263f6d3384fd3cd11399946c537644a8dce13e6cfef': 8.77102539220443,\n",
       "  '0x6d24f57de185849e45f50a95624d7507315965eb40547bcd016edff1d2377ed9': 1.3828238719068413,\n",
       "  '0x0efa7d3aafc836caee044d02893f9c7a67140e5958903fffa1e1791386831245': 2.3259340126152352,\n",
       "  '0x5e987fa167709786c70027a3a8a7a6acd04b9cc32bb3cc925dbfa162f78fd347': 7.827915251496036,\n",
       "  '0x01b4a162321b957e9f9d2f96fd5919ba5d6f863f7fb7556d3c37ad09011508b2': 4.56594695131813,\n",
       "  '0x9f587a3c199e79cbda264a5ccd652f44f65fa7bd13c537d68f41a41a44958f12': 2.107593401261523,\n",
       "  '0x49eba29a2012e53c4423365a708b75fbbc09de15366b6e48ba4ecdcfd04ee889': 2.1409509946627847,\n",
       "  '0xe5b4582f1f8f4bdfcbe925c28a920427be240663a2dfce6ad13187cb5446e03f': 7.854196991751576,\n",
       "  '0xbfeef9a9d92b7ccd0ea70889c86ed15675e292d812a050401282ca94fe06107a': 9.8981077147016,\n",
       "  '0x1a6353e8442547d21f86069d6d5a63c3ea67ca3f1624201d17a143700b87daf4': 2.9900533721494416,\n",
       "  '0xcbe8e8b27f61c80006bfa6b94565c0f4dec6139979c6fd34c9dc3edc43e82ed0': 8.67398512049167,\n",
       "  '0x10f231dc68762053ef5856ed56bfaab5347671628c54c819cf368638c3153534': 4.2869561701439425}}"
      ]
     },
     "execution_count": 7,
     "metadata": {},
     "output_type": "execute_result"
    }
   ],
   "source": [
    "voter_ballots[-1]"
   ]
  },
  {
   "cell_type": "code",
   "execution_count": 8,
   "id": "5b4a0b14-812f-4e5b-8082-001ae0fc0728",
   "metadata": {},
   "outputs": [],
   "source": [
    "with open(\"rf5_synthetic_ballots.json\", \"w\") as f:\n",
    "    json.dump(voter_ballots, f, indent=2)"
   ]
  }
 ],
 "metadata": {
  "kernelspec": {
   "display_name": "Python 3 (ipykernel)",
   "language": "python",
   "name": "python3"
  },
  "language_info": {
   "codemirror_mode": {
    "name": "ipython",
    "version": 3
   },
   "file_extension": ".py",
   "mimetype": "text/x-python",
   "name": "python",
   "nbconvert_exporter": "python",
   "pygments_lexer": "ipython3",
   "version": "3.11.7"
  }
 },
 "nbformat": 4,
 "nbformat_minor": 5
}

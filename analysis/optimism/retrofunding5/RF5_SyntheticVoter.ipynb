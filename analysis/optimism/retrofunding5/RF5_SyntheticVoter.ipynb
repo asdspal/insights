{
 "cells": [
  {
   "cell_type": "code",
   "execution_count": 1,
   "id": "51df3609-f53e-43d5-a547-12df0065ad61",
   "metadata": {},
   "outputs": [],
   "source": [
    "from collections import defaultdict\n",
    "import json\n",
    "import random\n",
    "import secrets"
   ]
  },
  {
   "cell_type": "code",
   "execution_count": 2,
   "id": "2ae93ac8-adc0-4f61-a7be-18192be2d207",
   "metadata": {},
   "outputs": [],
   "source": [
    "# Simulation constants\n",
    "CATEGORIES = ['eth_core', 'op_tooling', 'op_rnd']\n",
    "NUM_CATEGORIES = len(CATEGORIES)\n",
    "NUM_PROJECTS = 100\n",
    "NUM_VOTERS = 100\n",
    "MAX_OP = 1_000_000\n",
    "MIN_OP = 1000\n",
    "TOTAL_OP = 8_000_000\n",
    "MAX_COI_PROJECTS = 10"
   ]
  },
  {
   "cell_type": "code",
   "execution_count": 3,
   "id": "6030e2a7-d5e6-43ac-ab4f-51a420c3e4a2",
   "metadata": {},
   "outputs": [
    {
     "data": {
      "text/plain": [
       "['0xfa636fa46131cb77a649998711fcf85ed9d03043f81a03601c58dafd67a1a7f4',\n",
       " '0xa8674c328a4993d6aa956985666d19eeb18599146dd6256af6390cb290fad145',\n",
       " '0x05a0e52bd1f8e36356edb50b0228a27d40744b7ab0e77f4db076043ec0982e1a',\n",
       " '0xfe01389f86caeb50e682acf04c6450bb2286156152f1c3730dc11c373b0b8956',\n",
       " '0x637e9769e9b494db77a683868d944668c2bdf40311ed2037aaa7c5ad5cf33867']"
      ]
     },
     "execution_count": 3,
     "metadata": {},
     "output_type": "execute_result"
    }
   ],
   "source": [
    "# Initialize categories and projects\n",
    "\n",
    "# Randomly generate project UIDs\n",
    "projects = [\n",
    "    f\"0x{secrets.token_hex(32)}\"\n",
    "    for _ in range(NUM_PROJECTS)\n",
    "]\n",
    "\n",
    "# Randomly allocate projects to categories\n",
    "projects_by_category = defaultdict(list)\n",
    "for project in projects:\n",
    "    category = random.choice(CATEGORIES)\n",
    "    projects_by_category[category].append(project)\n",
    "\n",
    "# Test\n",
    "projects_by_category['op_tooling'][:5]"
   ]
  },
  {
   "cell_type": "code",
   "execution_count": 4,
   "id": "e0b66548-3e47-4ca4-9c88-22ca78f8163c",
   "metadata": {},
   "outputs": [],
   "source": [
    "# Generate voter ballots\n",
    "def generate_ballot():\n",
    "\n",
    "    # Generate random category for the voter\n",
    "    assigned_category = random.sample(CATEGORIES, 1)[0]\n",
    "\n",
    "    # Generate random COI list for each voter (for simplicity, random projects)\n",
    "    coi_projects = list(random.sample(projects, random.randint(0, MAX_COI_PROJECTS)))\n",
    "\n",
    "    # Create a random threshold (up to 10%) for the voter to \"zero\" vote projects they don't like\n",
    "    zero_thresh = random.randint(0, 1000)/100 \n",
    "    \n",
    "    #  Determine category allocations\n",
    "    category_allocations = {category: random.randint(0, 10000)/100. for category in CATEGORIES}\n",
    "    total = sum(category_allocations.values())\n",
    "    category_allocations = {k: (v * 100 / total) for k, v in category_allocations.items()}\n",
    "\n",
    "    # Determine project allocations within a category\n",
    "    for category, proj_list in projects_by_category.items():\n",
    "        if category != assigned_category:\n",
    "            continue\n",
    "\n",
    "        project_allocations = defaultdict(list)\n",
    "        for project in proj_list:            \n",
    "            alloc = random.randint(0, 10000)/100.\n",
    "            if alloc < zero_thresh or project in coi_projects:\n",
    "                alloc = 0\n",
    "            project_allocations[project] = alloc\n",
    "        \n",
    "        total = sum(project_allocations.values())\n",
    "        project_allocations = {\n",
    "            k: v * 100 / total if k not in coi_projects else None\n",
    "            for k, v in project_allocations.items()\n",
    "        }\n",
    "\n",
    "    return {\n",
    "        \"voter_id\": f\"0x{secrets.token_hex(20)}\",\n",
    "        \"category_assignment\": assigned_category,\n",
    "        \"category_allocations\": category_allocations,\n",
    "        \"project_allocations\": project_allocations\n",
    "    }\n",
    "\n",
    "# Generate all voter ballots\n",
    "voter_ballots = [generate_ballot() for _ in range(NUM_VOTERS)]"
   ]
  },
  {
   "cell_type": "code",
   "execution_count": 5,
   "id": "a6283275-fb1b-443d-ac5c-aefbc040ab89",
   "metadata": {},
   "outputs": [
    {
     "data": {
      "text/plain": [
       "{'voter_id': '0xd981dccbd77a9d5c6a4cf56f282ea37f0dd3a03e',\n",
       " 'category_assignment': 'op_tooling',\n",
       " 'category_allocations': {'eth_core': 57.13966147192604,\n",
       "  'op_tooling': 35.00857505033182,\n",
       "  'op_rnd': 7.8517634777421526},\n",
       " 'project_allocations': {'0xfa636fa46131cb77a649998711fcf85ed9d03043f81a03601c58dafd67a1a7f4': 5.137959129745443,\n",
       "  '0xa8674c328a4993d6aa956985666d19eeb18599146dd6256af6390cb290fad145': 0.7074121377609444,\n",
       "  '0x05a0e52bd1f8e36356edb50b0228a27d40744b7ab0e77f4db076043ec0982e1a': 4.050691447194575,\n",
       "  '0xfe01389f86caeb50e682acf04c6450bb2286156152f1c3730dc11c373b0b8956': 5.096119968290321,\n",
       "  '0x637e9769e9b494db77a683868d944668c2bdf40311ed2037aaa7c5ad5cf33867': 2.830199066326082,\n",
       "  '0xb88e8372eeca84abe0912315160dfe7859627aec3d23a28f3d179e95628e5cc4': 4.208138817933587,\n",
       "  '0x44242a24f31bb88fd8ed33e56e627640950ec038ee036860bb8d0920f8d47ace': 3.537060688804722,\n",
       "  '0x53efdebc2838bd0be6653421be0d4ed63d4e9813bcf09b448cd8273eecf26df5': 4.065004844534485,\n",
       "  '0xa3816b50347a001a0c24aa9ad19c80fb0bd9ef9cd7f8357cbca870ab6ef76b2a': 1.0894697436800849,\n",
       "  '0x6d33872986b435307ebe9c97572fd663fa06677a04c2efb0bd8f49359a012f78': 2.902867083590241,\n",
       "  '0xd3ddd7086b79f1e20d24286ec88c4206e6f0db14651d6c702921f8537e31d12a': None,\n",
       "  '0x5cac1bbaf86c7914a96c00b05bd502a46865f092db2258d5b48f02c128fce5d6': 3.7330441293050303,\n",
       "  '0xb992294b6fd0c363fa3387ae98cb4985109c829c349f0204e5dcf79e091c0939': 3.064718576587687,\n",
       "  '0xd0c23432e456b9e3f19c9ebaa484b6464468bcb63c0585cf054a0937150f22c5': 2.8830485334272886,\n",
       "  '0xba9119f81f6ddd29f0931fedca53f9dbce923508f0ebe9d44dafd1b94d0c0d6e': 4.713511847088876,\n",
       "  '0x48b5796bb650b9827f7b2f1767bad4e39b4352790ea0dcd87e49751fc70b80ba': 2.9777371619836175,\n",
       "  '0xca50c67c9163fb43ec118868325756d2221668cc5102ce7316f778ca2e235845': 3.532106051263984,\n",
       "  '0x581edb88bcca847e0b8380d03c6eae2c46aa9d83f463ab259c195499a0342651': 4.8929798291200575,\n",
       "  '0x31910f800095587974c6a0c446fe44de9177b6cb92ccb40a5ca3886dc5241bc3': 1.408218092134238,\n",
       "  '0x18c40a33110859c4364287da740bf50a58f9f9b877b995f8ef63f5a65ce7ed3d': 2.4685105258521984,\n",
       "  '0xae5c551f56abf8b6afc2cf36bd1592cb6054b7c113fae89cd3d49fc8ed3d051e': 3.8354399718136185,\n",
       "  '0x78c9010f601af1107358700ca4131549e46d43b1de29d777fde73b4903321c14': 4.982163304853344,\n",
       "  '0xb56f4621fbcb18e3a6f5bbf787670839589d2034309519d4b0b12a2b12906798': 1.6548489386065361,\n",
       "  '0x1bdc0d21a4d302bdf1298e80e048db02d7a9352bdc82f6302b450464d4fbb353': 1.6119087465868056,\n",
       "  '0xa883c96fc3c9c21ec1452f1cfcd2d7930af406b9dcbb2a7f2667014b60e80479': 4.765810798907779,\n",
       "  '0x0a16d635369414b0a0397df9289c953d88969cf882c6c121c93daa14269635a6': 0.6215317537214835,\n",
       "  '0x02c4e2a0a901f592019e3e69031e95d8aee9941a41bcdbfe71deb43f2bbd9af4': 4.06170175284066,\n",
       "  '0x0c20a4a27b10c05b166cfd99a45f3d56bae7f02341baa49bdd5bdb035bfd228e': 0.0,\n",
       "  '0xe2fae5504987e59024a7aebe5c5fd1ac53618394d9145a7231fad68b8d9647ee': 5.284946710120674,\n",
       "  '0x0495fee78a54b1f9f4049326586a6c003e55f5d75aada86ee02f48d2835913db': 2.2202281335329874,\n",
       "  '0x2d0f993adb0c2b085a62159d5316e55ee460e5507eb4ab5de1ef7e7b5571b946': 2.338038403946094,\n",
       "  '0x5da16a997f467521b1a8ed43ddbcc5760df006fd453a448bdc4402ba3998f9b0': 1.6933850083678328,\n",
       "  '0xb3a0b49bd7d4c40039f75575a1faa53e45c8d9c36deae318342968f25606fa73': 3.631198802078746}}"
      ]
     },
     "execution_count": 5,
     "metadata": {},
     "output_type": "execute_result"
    }
   ],
   "source": [
    "voter_ballots[-3]"
   ]
  },
  {
   "cell_type": "code",
   "execution_count": 6,
   "id": "5b4a0b14-812f-4e5b-8082-001ae0fc0728",
   "metadata": {},
   "outputs": [],
   "source": [
    "with open(\"rf5_synthetic_ballots.json\", \"w\") as f:\n",
    "    json.dump(voter_ballots, f, indent=2)"
   ]
  }
 ],
 "metadata": {
  "kernelspec": {
   "display_name": "Python 3 (ipykernel)",
   "language": "python",
   "name": "python3"
  },
  "language_info": {
   "codemirror_mode": {
    "name": "ipython",
    "version": 3
   },
   "file_extension": ".py",
   "mimetype": "text/x-python",
   "name": "python",
   "nbconvert_exporter": "python",
   "pygments_lexer": "ipython3",
   "version": "3.11.7"
  }
 },
 "nbformat": 4,
 "nbformat_minor": 5
}

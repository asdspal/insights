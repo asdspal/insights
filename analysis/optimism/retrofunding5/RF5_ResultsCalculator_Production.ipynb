{
 "cells": [
  {
   "cell_type": "code",
   "execution_count": 1,
   "id": "51df3609-f53e-43d5-a547-12df0065ad61",
   "metadata": {},
   "outputs": [],
   "source": [
    "from collections import defaultdict\n",
    "import json\n",
    "import numpy as np\n",
    "import pandas as pd\n",
    "import requests"
   ]
  },
  {
   "cell_type": "markdown",
   "id": "37cbbde8",
   "metadata": {},
   "source": [
    "# 1. Setup and pre-processing"
   ]
  },
  {
   "cell_type": "code",
   "execution_count": 2,
   "id": "a09d93dd",
   "metadata": {},
   "outputs": [
    {
     "name": "stdout",
     "output_type": "stream",
     "text": [
      "['ETHEREUM_CORE_CONTRIBUTIONS', 'OP_STACK_TOOLING', 'OP_STACK_RESEARCH_AND_DEVELOPMENT']\n"
     ]
    }
   ],
   "source": [
    "PROJECT_CATEGORIES = json.load(open(\"data/categories.json\"))\n",
    "CATEGORIES = list(PROJECT_CATEGORIES.keys())\n",
    "print(CATEGORIES)"
   ]
  },
  {
   "cell_type": "code",
   "execution_count": 3,
   "id": "cb887171",
   "metadata": {},
   "outputs": [],
   "source": [
    "flagged_ballots = [\n",
    "    '0x2aa64e6d80390f5c017f0313cb908051be2fd35e',\n",
    "    '0xf39fd6e51aad88f6f4ce6ab8827279cfffb92266',\n",
    "    '0xdcde54571cd1d54e9172d0290b3ff2f65b566bbc',\n",
    "    '0x92084bed8635d82db600e100539a61a6d4209403',\n",
    "    '0xb42543cf0584f41f7af8e4e7c25349ad3ccd5e43',\n",
    "    '0xe3b4b326d34686ea3a44dfa1e19e5ffd0dff04f3',\n",
    "    '0x6aaa8733cfee3931d826c2d2ad4679db9accf6bb',\n",
    "    '0x6df5195e2990bb29fb6e220df98dc26ebde9ed9a',\n",
    "    '0x31f87f1475f81ccfff6a33a064cae812baeebcc6',\n",
    "    '0x6b07602dbaacfd95d4a3a358438e39275538cc76',\n",
    "    '0xe406938368062cc09f00c65278d209de5ac6dc4c'\n",
    "]"
   ]
  },
  {
   "cell_type": "code",
   "execution_count": 4,
   "id": "2d63c163",
   "metadata": {},
   "outputs": [],
   "source": [
    "def process_csv(csv_path):\n",
    "    csv_data = pd.read_csv(csv_path)\n",
    "    data = []\n",
    "    for _, row in csv_data.iterrows():\n",
    "        if row['Status'] == 'SUBMITTED':\n",
    "            if row['Address'] in flagged_ballots:\n",
    "                continue\n",
    "            payload = json.loads(row['Payload'])\n",
    "            projects_payload = payload['project_allocations']\n",
    "            ballot_projects = []\n",
    "            for votes in projects_payload:\n",
    "                project_id = list(votes.keys())[0]\n",
    "                ballot_projects.append(project_id)\n",
    "            for cat, proj_list in PROJECT_CATEGORIES.items():\n",
    "                if set(ballot_projects).intersection(proj_list):\n",
    "                    payload.update({'category_assignment': cat})\n",
    "                    break\n",
    "            data.append(payload)\n",
    "    return data"
   ]
  },
  {
   "cell_type": "code",
   "execution_count": 5,
   "id": "4ab554bd-54c2-4d71-a830-09b176bd4814",
   "metadata": {},
   "outputs": [
    {
     "name": "stdout",
     "output_type": "stream",
     "text": [
      "Ballots: 36\n",
      "\n",
      "Sample Ballot:\n"
     ]
    },
    {
     "data": {
      "text/plain": [
       "{'budget': 8000000,\n",
       " 'project_allocations': [{'0x8ce52931f5528de3a378ae58d1281083744b62b47dff98fcd71b54434fa840b5': '11'},\n",
       "  {'0x078cf11f1d64911d10f1d57c1da9c09d67a167472afc530f3412c304ee0f239e': '11'},\n",
       "  {'0xac859a911407aa694e23d1616d9ce086d3d53b90789186a94bfbbb8e7294036b': '9'},\n",
       "  {'0xcd76f92636f76d63419d461b6e79cfc76979b24598d164226e90f27bd5ad996b': '8'},\n",
       "  {'0xcf7477b956b4001b44a618139890f8decf0ad34ae55f0db1f01789040a17af0c': '7'},\n",
       "  {'0x6c524b0afee6ab66e507b86f07f0338c5d1e5b7257c4b6fd80efdc56f30899df': '6'},\n",
       "  {'0x3ba0b3e5456e209ea494e8f58197f3b46c20040a3cda99ae448fa355509132f4': '6'},\n",
       "  {'0x38f4b51e1d89c1efce3c71fd155fa253d7fffe73cd239fcbd2f9309e4cc6e67b': '5'},\n",
       "  {'0x2da519cc5be2bf70ab4fd79c979bf2d7d956e5a11be5eefb1f21d9363928d07f': '4'},\n",
       "  {'0xa555f2cc261179e744f961525e3c506a0a53cc02389cb8d59b93c8a9220ed7d7': '4'},\n",
       "  {'0xe8bfa7f5bee60dc487b7f61e9f95b933e7302383570de2339ff557f829140268': '3'},\n",
       "  {'0x1ebd314438920197b1b37ab41de3678c4f7d5e0b844420527d5e0e2b437bed17': '4'},\n",
       "  {'0x6fc3b802b42153f99ca38a0a5b28f9d675b44aafa6317fddb7e33280b50e8d0a': '4'},\n",
       "  {'0x596cd6262d7f32e44aa79e79ee75d60d191e28b5eab1206204ed22f24666f23f': '4'},\n",
       "  {'0x8c9dc48abd56b9dd087c330879d38ad10c1be80349adaa14e0cbcc232dbe3918': '4'},\n",
       "  {'0x62855986b48353248f0feaea9e4afceb298505ec0cc1a515c3fc9cbffaff62e0': '3'},\n",
       "  {'0xdbb1c00bcb783a6d57f89e21708b28a2f46e68012eba282142a05f2616c90dce': '3'},\n",
       "  {'0x7b1045ef17287fe42e987ccf2960f710cbe2f6d55c1237f260c7c7801dd9c34c': '3'},\n",
       "  {'0x5960585d5dd67b7778d390be4b8fce7da98d5f056efd2c892e340faebb1d7bc6': '0.75'},\n",
       "  {'0x6e299c690e4ea63ec248ed245b97dd1a03bcf4d08a7721f660e74c8eae6d50ee': '0.25'}],\n",
       " 'category_allocations': [{'OP_STACK_TOOLING': '40'},\n",
       "  {'ETHEREUM_CORE_CONTRIBUTIONS': '40'},\n",
       "  {'OP_STACK_RESEARCH_AND_DEVELOPMENT': '20'}],\n",
       " 'category_assignment': 'OP_STACK_TOOLING'}"
      ]
     },
     "execution_count": 5,
     "metadata": {},
     "output_type": "execute_result"
    }
   ],
   "source": [
    "raw_voting_data = process_csv('data/_local/Early_data.csv')\n",
    "NUM_VOTERS = len(raw_voting_data)\n",
    "print(\"Ballots:\", NUM_VOTERS)\n",
    "print(\"\\nSample Ballot:\")\n",
    "raw_voting_data[-1]"
   ]
  },
  {
   "cell_type": "code",
   "execution_count": 6,
   "id": "35fce79f-8adc-44a0-9f10-650c9c617090",
   "metadata": {},
   "outputs": [
    {
     "name": "stdout",
     "output_type": "stream",
     "text": [
      "Projects: 79\n"
     ]
    }
   ],
   "source": [
    "PROJECTS = list(set([\n",
    "    list(p.keys())[0] for vote in raw_voting_data\n",
    "    for p in vote['project_allocations']\n",
    "]))\n",
    "NUM_PROJECTS = len(PROJECTS)\n",
    "print(\"Projects:\", NUM_PROJECTS)"
   ]
  },
  {
   "cell_type": "markdown",
   "id": "21a65c67",
   "metadata": {},
   "source": [
    "# 2. Calculate median budget totals and category allocations"
   ]
  },
  {
   "cell_type": "code",
   "execution_count": 7,
   "id": "8f51d8c6-9388-45fd-a3dd-0874f083c71a",
   "metadata": {},
   "outputs": [
    {
     "name": "stdout",
     "output_type": "stream",
     "text": [
      "\n",
      "Median Budget: 8,000,000\n",
      "\n",
      "Category: ETHEREUM_CORE_CONTRIBUTIONS\n",
      "-----------------\n",
      "Median Allocation: 39.801%\n",
      "Total Projects: 30\n",
      "Check: Sum of Project Allocations Within Category: 100.0%\n",
      "\n",
      "\n",
      "Category: OP_STACK_TOOLING\n",
      "-----------------\n",
      "Median Allocation: 24.876%\n",
      "Total Projects: 20\n",
      "Check: Sum of Project Allocations Within Category: 100.0%\n",
      "\n",
      "\n",
      "Category: OP_STACK_RESEARCH_AND_DEVELOPMENT\n",
      "-----------------\n",
      "Median Allocation: 35.323%\n",
      "Total Projects: 29\n",
      "Check: Sum of Project Allocations Within Category: 100.0%\n",
      "\n"
     ]
    }
   ],
   "source": [
    "budget_allocation = []\n",
    "category_scores = defaultdict(list)\n",
    "project_scores = defaultdict(lambda: defaultdict(list))\n",
    "for ballot in raw_voting_data:\n",
    "    \n",
    "    budget_allocation.append(ballot['budget'])\n",
    "    assigned_category = ballot['category_assignment']\n",
    "\n",
    "    for category_allocations in ballot['category_allocations']:\n",
    "        category = list(category_allocations.keys())[0]\n",
    "        category_percentage = float(list(category_allocations.values())[0])\n",
    "        category_scores[category].append(category_percentage)\n",
    "\n",
    "    for project_allocations in ballot['project_allocations']:\n",
    "        project = list(project_allocations.keys())[0]\n",
    "        project_percentage = list(project_allocations.values())[0]\n",
    "        if pd.isnull(project_percentage):\n",
    "            continue\n",
    "        project_percentage = float(project_percentage)\n",
    "        project_scores[assigned_category][project].append(project_percentage)\n",
    "\n",
    "# Step 1A. Calculate total funding for the round based on median budget vote\n",
    "median_total_budget = np.median(budget_allocation)\n",
    "print(f\"\\nMedian Budget: {median_total_budget:,.0f}\")\n",
    "\n",
    "# Step 1B. Calculate medians for categories and normalize to weights across categories\n",
    "category_medians = {k: np.median(v)/100 for k, v in category_scores.items()}    \n",
    "category_total = sum(category_medians.values())\n",
    "category_weights = {k: v/category_total for k, v in category_medians.items()}\n",
    "\n",
    "# Step 2. Calculate medians for projects and normalize to weights within a category\n",
    "project_weights = defaultdict(lambda: defaultdict(list))\n",
    "for category, project_dict in project_scores.items():\n",
    "    for project, scores in project_dict.items():\n",
    "        project_weights[category][project] = np.median(scores) / 100\n",
    "    category_subtotal = sum(project_weights[category].values())\n",
    "    for k, v in project_weights[category].items():\n",
    "        project_weights[category][k] = v/category_subtotal \n",
    "\n",
    "# Check the results makes sense\n",
    "\n",
    "for c in CATEGORIES:\n",
    "    print(\"\\nCategory:\", c)\n",
    "    print(\"-----------------\")\n",
    "    print(f\"Median Allocation: {category_weights[c]*100:.3f}%\")\n",
    "    print(\"Total Projects:\", len(project_weights[c]))\n",
    "#     for project in project_weights[c]:\n",
    "#         print(f\"{project}: {project_weights[c][project]*100:,.2f}%\")\n",
    "    print(f\"Check: Sum of Project Allocations Within Category: {sum(project_weights[c].values())*100:.1f}%\\n\")"
   ]
  },
  {
   "cell_type": "markdown",
   "id": "2170a1c7",
   "metadata": {},
   "source": [
    "# 3. Normalize and allocate funding"
   ]
  },
  {
   "cell_type": "code",
   "execution_count": 8,
   "id": "4fd09186-a7c9-4f06-9057-dd79d7e38fac",
   "metadata": {},
   "outputs": [],
   "source": [
    "MIN_CAP = 1_000\n",
    "MAX_CAP_PCT = .125\n",
    "MAX_CAP = median_total_budget * MAX_CAP_PCT"
   ]
  },
  {
   "cell_type": "code",
   "execution_count": 9,
   "id": "08d0fd7f",
   "metadata": {},
   "outputs": [
    {
     "name": "stdout",
     "output_type": "stream",
     "text": [
      "\n",
      "Category: OP_STACK_TOOLING 0.24875621890547267\n",
      "\n",
      "Category: ETHEREUM_CORE_CONTRIBUTIONS 0.3980099502487563\n",
      "\n",
      "Category: OP_STACK_RESEARCH_AND_DEVELOPMENT 0.35323383084577115\n"
     ]
    }
   ],
   "source": [
    "# Step 3. Create an initial series of project funding allocations\n",
    "initial_project_allocations = pd.Series()\n",
    "for category, projects in project_weights.items():\n",
    "    print(\"\\nCategory:\", category, category_weights[category])\n",
    "    for project, score in projects.items():\n",
    "        normalized_score = score * category_weights[category]\n",
    "        #print(f\"{project}: {normalized_score*100:.2f}%\")\n",
    "        initial_project_allocations.loc[project] = normalized_score * median_total_budget"
   ]
  },
  {
   "cell_type": "code",
   "execution_count": 10,
   "id": "3d7e0431-0a88-4e89-9d79-6c01f611dbb7",
   "metadata": {},
   "outputs": [
    {
     "name": "stdout",
     "output_type": "stream",
     "text": [
      "Final Results:\n",
      " - Projects: 79\n",
      " - Voters: 36\n",
      " - Funding Available: 8000000.0\n",
      " - Funding Awarded: 8000000\n"
     ]
    },
    {
     "data": {
      "image/png": "[encoded data removed]",
      "text/plain": [
       "<Figure size 640x480 with 1 Axes>"
      ]
     },
     "metadata": {},
     "output_type": "display_data"
    }
   ],
   "source": [
    "def allocate_funding(project_scores, funding_balance):\n",
    "    \"\"\"\n",
    "    Helper for allocating and redistributing funding balances\n",
    "    \"\"\"\n",
    "    score_balance = project_scores.sum()\n",
    "    allocations = pd.Series()\n",
    "    \n",
    "    for project, score in project_scores.sort_values(ascending=False).items():\n",
    "        uncapped_funding_alloc = score / score_balance * funding_balance\n",
    "        capped_funding_alloc = min(uncapped_funding_alloc, MAX_CAP)\n",
    "        allocations.loc[project] = capped_funding_alloc\n",
    "        funding_balance -= capped_funding_alloc\n",
    "        score_balance -= score\n",
    "\n",
    "    return allocations\n",
    "\n",
    "# Step 4. Implement max cap and redistribute excess\n",
    "capped_allocations = allocate_funding(initial_project_allocations, median_total_budget)\n",
    "\n",
    "# Step 5. Set the funding for projects below the minimum cap to 0\n",
    "capped_allocations.loc[capped_allocations < MIN_CAP] = 0\n",
    "\n",
    "# Step 6. Allocate the remaining funding to projects below the maximum cap\n",
    "max_cap_funding = capped_allocations[capped_allocations == MAX_CAP].sum()\n",
    "remaining_funding = median_total_budget - max_cap_funding\n",
    "remaining_projects = capped_allocations[capped_allocations < MAX_CAP]\n",
    "capped_allocations.update(allocate_funding(remaining_projects, funding_balance=remaining_funding))\n",
    "\n",
    "#capped_allocations.to_csv('data/rf5_early_ballots_results.csv', header=['allocation'])\n",
    "\n",
    "# Check the results\n",
    "capped_allocations.plot(xticks=[])\n",
    "print(\"Final Results:\")\n",
    "print(\" - Projects:\", NUM_PROJECTS)\n",
    "print(\" - Voters:\", NUM_VOTERS)\n",
    "print(\" - Funding Available:\", median_total_budget)\n",
    "print(\" - Funding Awarded:\", round(capped_allocations.sum()))"
   ]
  }
 ],
 "metadata": {
  "kernelspec": {
   "display_name": "Python 3 (ipykernel)",
   "language": "python",
   "name": "python3"
  },
  "language_info": {
   "codemirror_mode": {
    "name": "ipython",
    "version": 3
   },
   "file_extension": ".py",
   "mimetype": "text/x-python",
   "name": "python",
   "nbconvert_exporter": "python",
   "pygments_lexer": "ipython3",
   "version": "3.11.5"
  }
 },
 "nbformat": 4,
 "nbformat_minor": 5
}

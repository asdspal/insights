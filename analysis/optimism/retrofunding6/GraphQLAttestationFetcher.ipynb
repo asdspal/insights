{
 "cells": [
  {
   "cell_type": "code",
   "execution_count": 1,
   "id": "5239fe77",
   "metadata": {},
   "outputs": [],
   "source": [
    "import json\n",
    "import requests\n",
    "import time"
   ]
  },
  {
   "cell_type": "code",
   "execution_count": 2,
   "id": "8148ddb6",
   "metadata": {},
   "outputs": [],
   "source": [
    "json_path = 'data/attestations.json'\n",
    "with open(json_path, 'r') as f:\n",
    "    data = json.load(f)"
   ]
  },
  {
   "cell_type": "code",
   "execution_count": 3,
   "id": "ef4ff774",
   "metadata": {},
   "outputs": [],
   "source": [
    "def fetch_attestations(schema_id, time_created_after=0):\n",
    "\n",
    "    url = 'https://optimism.easscan.org/graphql'\n",
    "    query_limit = 100\n",
    "\n",
    "    query = '''\n",
    "    query Attestations($schemaId: StringFilter!, $skip: Int!, $take: Int!, $timeCreatedAfter: IntFilter) {\n",
    "        attestations(where: {schemaId: $schemaId, timeCreated: $timeCreatedAfter}, take: $take, skip: $skip) {\n",
    "            id\n",
    "            attester\n",
    "            recipient\n",
    "            refUID\n",
    "            revocable\n",
    "            revocationTime\n",
    "            expirationTime\n",
    "            timeCreated \n",
    "            decodedDataJson    \n",
    "        }\n",
    "    }\n",
    "    '''\n",
    "    \n",
    "    variables = {\n",
    "        \"schemaId\": {\n",
    "            \"equals\": schema_id\n",
    "        },\n",
    "        \"skip\": 0,\n",
    "        \"take\": query_limit,\n",
    "        \"timeCreatedAfter\": {\n",
    "            \"gt\": time_created_after\n",
    "        },\n",
    "    }\n",
    "\n",
    "    headers = {\n",
    "        'Content-Type': 'application/json',\n",
    "    }\n",
    "\n",
    "    all_attestations = []\n",
    "\n",
    "    while True:\n",
    "        payload = {\n",
    "            'query': query,\n",
    "            'variables': variables\n",
    "        }\n",
    "\n",
    "        try:\n",
    "            response = requests.post(url, headers=headers, data=json.dumps(payload))\n",
    "            response.raise_for_status()\n",
    "\n",
    "            data = response.json()\n",
    "            attestations = data.get('data', {}).get('attestations', [])\n",
    "            all_attestations.extend(attestations)\n",
    "\n",
    "            if len(attestations) < query_limit:\n",
    "                break\n",
    "\n",
    "            variables[\"skip\"] += query_limit\n",
    "\n",
    "        except (requests.exceptions.RequestException, json.JSONDecodeError) as e:\n",
    "            print(f\"Failed to fetch attestations for {schema_id}: {str(e)}\")\n",
    "            break\n",
    "\n",
    "    print(f\"Total attestations for Schema ID {schema_id}: {len(all_attestations)}\")\n",
    "    return all_attestations"
   ]
  },
  {
   "cell_type": "code",
   "execution_count": 4,
   "id": "1e3c41e6",
   "metadata": {},
   "outputs": [
    {
     "name": "stdout",
     "output_type": "stream",
     "text": [
      "Total attestations for Schema ID 0xc9bc703e3c48be23c1c09e2f58b2b6657e42d8794d2008e3738b4ab0e2a3a8b6: 149\n"
     ]
    }
   ],
   "source": [
    "attestations = fetch_attestations('0xc9bc703e3c48be23c1c09e2f58b2b6657e42d8794d2008e3738b4ab0e2a3a8b6')"
   ]
  },
  {
   "cell_type": "code",
   "execution_count": 5,
   "id": "080d3b25",
   "metadata": {},
   "outputs": [],
   "source": [
    "headers = {\n",
    "    'User-Agent': 'Mozilla/5.0 (Windows NT 10.0; Win64; x64) AppleWebKit/537.36 (KHTML, like Gecko) Chrome/58.0.3029.110 Safari/537.3',\n",
    "    'Referer': 'https://metricsgarden.xyz'\n",
    "}\n",
    "\n",
    "def get_metadata(uri, tries=0):\n",
    "    if tries == 3:\n",
    "        print(\"Too many tries.\")\n",
    "        return\n",
    "\n",
    "    response = requests.get(uri, headers=headers)\n",
    "    if response.status_code == 200:\n",
    "        return response.json()\n",
    "    \n",
    "    if response.status_code == 429:\n",
    "        time.sleep(180)\n",
    "        return get_metadata(uri, tries=tries+1)\n",
    "    \n",
    "    else:\n",
    "        print(f\"Error {response.status} at {uri}\")\n",
    "        return\n",
    "\n",
    "    \n",
    "def process_attestation(a):\n",
    "    attestation_data = {\n",
    "        'id': a['id'],\n",
    "        'attester': a['attester'],\n",
    "        'recipient': a['recipient'],\n",
    "        'timeCreated': a['timeCreated']\n",
    "    }\n",
    "    decoded_json = json.loads(a['decodedDataJson'])\n",
    "    for obj in decoded_json:\n",
    "        obj_name = obj['name']\n",
    "        obj_value = obj['value']['value']\n",
    "        attestation_data.update({obj_name:obj_value})\n",
    "        if obj_name == 'metadataurl':\n",
    "            print(obj_value)\n",
    "            metadata = get_metadata(obj_value)\n",
    "            if not metadata:\n",
    "                return\n",
    "            attestation_data.update({'metadata': metadata})\n",
    "    return attestation_data"
   ]
  },
  {
   "cell_type": "code",
   "execution_count": 7,
   "id": "f9a04946",
   "metadata": {},
   "outputs": [],
   "source": [
    "idx = len(data)\n",
    "if idx < len(attestations):\n",
    "    for a in attestations[idx:]:\n",
    "        if a['revocationTime']:\n",
    "            continue\n",
    "        attestation_data = process_attestation(a)\n",
    "        if attestation_data:\n",
    "            data.append(attestation_data)\n",
    "            \n",
    "    with open(json_path, \"w\") as f:\n",
    "        json.dump(data, f, indent=2)"
   ]
  }
 ],
 "metadata": {
  "kernelspec": {
   "display_name": "Python 3 (ipykernel)",
   "language": "python",
   "name": "python3"
  },
  "language_info": {
   "codemirror_mode": {
    "name": "ipython",
    "version": 3
   },
   "file_extension": ".py",
   "mimetype": "text/x-python",
   "name": "python",
   "nbconvert_exporter": "python",
   "pygments_lexer": "ipython3",
   "version": "3.11.7"
  }
 },
 "nbformat": 4,
 "nbformat_minor": 5
}

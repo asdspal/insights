{
 "cells": [
  {
   "cell_type": "code",
   "execution_count": 1,
   "id": "7b36248f",
   "metadata": {},
   "outputs": [],
   "source": [
    "import datetime\n",
    "import json\n",
    "import numpy as np\n",
    "import pandas as pd\n",
    "import random\n",
    "import secrets"
   ]
  },
  {
   "cell_type": "markdown",
   "id": "2e8015a5-f4b3-4851-a310-564f4d79f936",
   "metadata": {},
   "source": [
    "# Load real impact attestations"
   ]
  },
  {
   "cell_type": "code",
   "execution_count": 2,
   "id": "d09d1beb",
   "metadata": {},
   "outputs": [
    {
     "name": "stdout",
     "output_type": "stream",
     "text": [
      "149\n"
     ]
    }
   ],
   "source": [
    "json_path = 'data/attestations.json'\n",
    "with open(json_path, 'r') as f:\n",
    "    data = json.load(f)\n",
    "print(len(data))    "
   ]
  },
  {
   "cell_type": "code",
   "execution_count": 3,
   "id": "ff937d48",
   "metadata": {},
   "outputs": [],
   "source": [
    "relevant_attestations = []\n",
    "for a in data:\n",
    "    qs = a.get('metadata', {}).get('impactAttestations', [])\n",
    "    \n",
    "    if len(qs) < 2:\n",
    "        continue\n",
    "    \n",
    "    nps = pmf = None\n",
    "    for q in qs:\n",
    "        val = q.get('value')\n",
    "        if not val:\n",
    "            continue\n",
    "        if q['name'] == 'Likely to Recommend':\n",
    "            nps = val\n",
    "        elif q['name'] == 'Feeling if didnt exist':\n",
    "            pmf = val\n",
    "    \n",
    "    if not (nps or pmf):\n",
    "        continue\n",
    "        \n",
    "    relevant_attestations.append({\n",
    "        'id': a['id'],\n",
    "        'attester': a['attester'],\n",
    "        'recipient': a['recipient'],\n",
    "        'farcasterID': a['farcasterID'],\n",
    "        'projectRegUID': a['projectRegUID'],\n",
    "        'timeCreated': datetime.datetime.utcfromtimestamp(a['timeCreated']),\n",
    "        'issuer': a['issuer'],\n",
    "        'metadataurl': a['metadataurl'],\n",
    "        'nps_score': pd.to_numeric(nps),\n",
    "        'pmf_score': pd.to_numeric(pmf)\n",
    "    })"
   ]
  },
  {
   "cell_type": "code",
   "execution_count": 4,
   "id": "a2f784f0",
   "metadata": {},
   "outputs": [
    {
     "data": {
      "text/html": [
       "<div>\n",
       "<style scoped>\n",
       "    .dataframe tbody tr th:only-of-type {\n",
       "        vertical-align: middle;\n",
       "    }\n",
       "\n",
       "    .dataframe tbody tr th {\n",
       "        vertical-align: top;\n",
       "    }\n",
       "\n",
       "    .dataframe thead th {\n",
       "        text-align: right;\n",
       "    }\n",
       "</style>\n",
       "<table border=\"1\" class=\"dataframe\">\n",
       "  <thead>\n",
       "    <tr style=\"text-align: right;\">\n",
       "      <th></th>\n",
       "      <th>15</th>\n",
       "    </tr>\n",
       "  </thead>\n",
       "  <tbody>\n",
       "    <tr>\n",
       "      <th>id</th>\n",
       "      <td>0xecc8d17aa547682ffc8b4b69c1ed59bd642fad4dc6c8...</td>\n",
       "    </tr>\n",
       "    <tr>\n",
       "      <th>attester</th>\n",
       "      <td>0x7484aABFef9f39464F332e632047983b67571C0a</td>\n",
       "    </tr>\n",
       "    <tr>\n",
       "      <th>recipient</th>\n",
       "      <td>0x5d36a202687fD6Bd0f670545334bF0B4827Cc1E2</td>\n",
       "    </tr>\n",
       "    <tr>\n",
       "      <th>farcasterID</th>\n",
       "      <td>{'type': 'BigNumber', 'hex': '0x2d4c'}</td>\n",
       "    </tr>\n",
       "    <tr>\n",
       "      <th>projectRegUID</th>\n",
       "      <td>0x82169691e4026be1d950f20c2d36500b06fb6f3e0c03...</td>\n",
       "    </tr>\n",
       "    <tr>\n",
       "      <th>timeCreated</th>\n",
       "      <td>2024-10-02 06:16:34</td>\n",
       "    </tr>\n",
       "    <tr>\n",
       "      <th>issuer</th>\n",
       "      <td>MGL</td>\n",
       "    </tr>\n",
       "    <tr>\n",
       "      <th>metadataurl</th>\n",
       "      <td>https://gateway.pinata.cloud/ipfs/QmeYyTJzXsXS...</td>\n",
       "    </tr>\n",
       "    <tr>\n",
       "      <th>nps_score</th>\n",
       "      <td>6</td>\n",
       "    </tr>\n",
       "    <tr>\n",
       "      <th>pmf_score</th>\n",
       "      <td>2.0</td>\n",
       "    </tr>\n",
       "  </tbody>\n",
       "</table>\n",
       "</div>"
      ],
      "text/plain": [
       "                                                              15\n",
       "id             0xecc8d17aa547682ffc8b4b69c1ed59bd642fad4dc6c8...\n",
       "attester              0x7484aABFef9f39464F332e632047983b67571C0a\n",
       "recipient             0x5d36a202687fD6Bd0f670545334bF0B4827Cc1E2\n",
       "farcasterID               {'type': 'BigNumber', 'hex': '0x2d4c'}\n",
       "projectRegUID  0x82169691e4026be1d950f20c2d36500b06fb6f3e0c03...\n",
       "timeCreated                                  2024-10-02 06:16:34\n",
       "issuer                                                       MGL\n",
       "metadataurl    https://gateway.pinata.cloud/ipfs/QmeYyTJzXsXS...\n",
       "nps_score                                                      6\n",
       "pmf_score                                                    2.0"
      ]
     },
     "execution_count": 4,
     "metadata": {},
     "output_type": "execute_result"
    }
   ],
   "source": [
    "df_attestations_actual = pd.DataFrame(relevant_attestations)\n",
    "df_attestations_actual.tail(1).T"
   ]
  },
  {
   "cell_type": "markdown",
   "id": "4d480119",
   "metadata": {},
   "source": [
    "# Create some dummy data attestations"
   ]
  },
  {
   "cell_type": "code",
   "execution_count": 5,
   "id": "55e61b3e",
   "metadata": {},
   "outputs": [],
   "source": [
    "NUM_PROJECTS = 30\n",
    "NUM_ATTESTERS = 100\n",
    "NUM_ATTESTATIONS = 1000\n",
    "PMF_SCALE = 5\n",
    "NPS_SCALE = 10\n",
    "\n",
    "COUNCILS = ['Anticapture Commission', 'Code of Conduct Council', 'Collective Feedback Committee',\n",
    "            'Developer Advisory Board', 'Grants Council', 'Security Council']\n",
    "\n",
    "projects = {\n",
    "    f\"0x{secrets.token_hex(32)}\": random.random()\n",
    "    for _ in range(NUM_PROJECTS)\n",
    "}\n",
    "\n",
    "attesters = {}\n",
    "for a in range(NUM_ATTESTERS):\n",
    "    addr = f\"0x{secrets.token_hex(20)}\"\n",
    "    \n",
    "    is_citizen = random.randint(0,10) < 6\n",
    "    is_delegate = random.randint(0,10) < 3\n",
    "    councils = set()\n",
    "    if is_citizen or is_delegate:\n",
    "        for _ in range(2):\n",
    "            idx = random.randint(0,10)\n",
    "            if idx < len(COUNCILS):\n",
    "                councils.add(COUNCILS[idx])\n",
    "    attesters.update({\n",
    "        addr:{\n",
    "            'is_citizen': is_citizen,\n",
    "            'is_top_delegate': is_delegate,\n",
    "            'governance_membership': list(councils)\n",
    "        }\n",
    "    })\n",
    "\n",
    "attestations = []\n",
    "for i in range(NUM_ATTESTATIONS):\n",
    "    random_project = random.choice(list(projects.keys()))\n",
    "    random_attester = random.choice(list(attesters.keys()))\n",
    "    project_impact = projects.get(random_project)\n",
    "    pmf_score = random.randint(int(project_impact*PMF_SCALE), PMF_SCALE)\n",
    "    nps_score = random.randint(int(project_impact*NPS_SCALE), NPS_SCALE)\n",
    "    attestations.append({\n",
    "        'uid': f\"0x{secrets.token_hex(32)}\",\n",
    "        'attester': random_attester,\n",
    "        'rf6_applicationUID': random_project,\n",
    "        'pmf_score': max(1,pmf_score),\n",
    "        'nps_score': max(1,nps_score),\n",
    "        **attesters[random_attester]\n",
    "    })"
   ]
  },
  {
   "cell_type": "code",
   "execution_count": 6,
   "id": "3fc6d3a6-d7c4-4bcd-8902-afa656505e84",
   "metadata": {},
   "outputs": [
    {
     "data": {
      "text/plain": [
       "{'uid': '0x0c845fd444022ef274699b918996c1e3a3ad7887fd92083646bce3df9d7a4922',\n",
       " 'attester': '0x13a5995756acf96e62b80009d37538f140370e37',\n",
       " 'rf6_applicationUID': '0x59ccc24d38de83c3db70f5326d3d12ddcbca3fc9eb1eeb3df57322f730662f2f',\n",
       " 'pmf_score': 2,\n",
       " 'nps_score': 1,\n",
       " 'is_citizen': True,\n",
       " 'is_top_delegate': False,\n",
       " 'governance_membership': ['Anticapture Commission',\n",
       "  'Developer Advisory Board']}"
      ]
     },
     "execution_count": 6,
     "metadata": {},
     "output_type": "execute_result"
    }
   ],
   "source": [
    "with open(\"data/dummy_attestations.json\", \"w\") as f:\n",
    "    json.dump(attestations,f,indent=2)\n",
    "\n",
    "attestations[0]"
   ]
  },
  {
   "cell_type": "markdown",
   "id": "35247a47-a521-42e7-b061-f9cc22c63b1f",
   "metadata": {},
   "source": [
    "# Implement a few of the metrics"
   ]
  },
  {
   "cell_type": "markdown",
   "id": "874f6ccf",
   "metadata": {},
   "source": [
    "1. Number of Attestations (only want the count from Citizens and Top Delegates)\n",
    "2. Number of Attestations by Citizens\n",
    "3. Number of Attestations by Top delegates\n",
    "4. Average NPS score of Citizens and Top delegates\n",
    "5. Most positive superlative\n",
    "6. \"Can't live without\" superlative\n",
    "7. Percentage distribution of different ratings by citizens and top delegates [Extremely upset, Somewhat upset, Neutral]\n",
    "    1. Percentage distribution of different ratings by citizens\n",
    "    2. Percentage distribution of different ratings by delegates\n",
    "8. Number of elected governance members that attested\n",
    "    1. Number of each group of elected governance members that attested\n",
    "    2. Average NPS score per elected governance group\n",
    "    3. Average feeling per elected governance group"
   ]
  },
  {
   "cell_type": "code",
   "execution_count": 7,
   "id": "7e311a74",
   "metadata": {},
   "outputs": [
    {
     "data": {
      "text/html": [
       "<div>\n",
       "<style scoped>\n",
       "    .dataframe tbody tr th:only-of-type {\n",
       "        vertical-align: middle;\n",
       "    }\n",
       "\n",
       "    .dataframe tbody tr th {\n",
       "        vertical-align: top;\n",
       "    }\n",
       "\n",
       "    .dataframe thead th {\n",
       "        text-align: right;\n",
       "    }\n",
       "</style>\n",
       "<table border=\"1\" class=\"dataframe\">\n",
       "  <thead>\n",
       "    <tr style=\"text-align: right;\">\n",
       "      <th></th>\n",
       "      <th>uid</th>\n",
       "      <th>attester</th>\n",
       "      <th>rf6_applicationUID</th>\n",
       "      <th>pmf_score</th>\n",
       "      <th>nps_score</th>\n",
       "      <th>is_citizen</th>\n",
       "      <th>is_top_delegate</th>\n",
       "      <th>governance_membership</th>\n",
       "    </tr>\n",
       "  </thead>\n",
       "  <tbody>\n",
       "    <tr>\n",
       "      <th>999</th>\n",
       "      <td>0xff064eefee632c3aa0476cb57407f45e8dd55597bcd5...</td>\n",
       "      <td>0x8e13c224a18ae97a6ecfa64d3c1313c93970f5b0</td>\n",
       "      <td>0xfb558086c0823285b276ce47e53b7628536f94f99759...</td>\n",
       "      <td>4</td>\n",
       "      <td>3</td>\n",
       "      <td>True</td>\n",
       "      <td>False</td>\n",
       "      <td>[Grants Council]</td>\n",
       "    </tr>\n",
       "  </tbody>\n",
       "</table>\n",
       "</div>"
      ],
      "text/plain": [
       "                                                   uid  \\\n",
       "999  0xff064eefee632c3aa0476cb57407f45e8dd55597bcd5...   \n",
       "\n",
       "                                       attester  \\\n",
       "999  0x8e13c224a18ae97a6ecfa64d3c1313c93970f5b0   \n",
       "\n",
       "                                    rf6_applicationUID  pmf_score  nps_score  \\\n",
       "999  0xfb558086c0823285b276ce47e53b7628536f94f99759...          4          3   \n",
       "\n",
       "     is_citizen  is_top_delegate governance_membership  \n",
       "999        True            False      [Grants Council]  "
      ]
     },
     "execution_count": 7,
     "metadata": {},
     "output_type": "execute_result"
    }
   ],
   "source": [
    "df_sim = pd.DataFrame(attestations)\n",
    "df_sim.tail(1)"
   ]
  },
  {
   "cell_type": "code",
   "execution_count": 8,
   "id": "10c86ede",
   "metadata": {},
   "outputs": [
    {
     "data": {
      "text/plain": [
       "rf6_applicationUID\n",
       "0x05ff156dd52db407d3857d3547cf3e41129ad6bc59ce123a75ec6342e7719d97    7.076923\n",
       "0x0ea28b549e68cb209e3dbb5a6fd7cb8bb4c0f5b67c1d57daa7502252840a7621    8.368421\n",
       "0x1373963ae5eb556c030a63b258412a32cac7bd3f22c9816b4715f035e010f7e9    7.147059\n",
       "0x1457d66e809cab15ba9fcf7c88aa77c3315d9791e7207a11e7590c4e9f9d37f3    7.103448\n",
       "0x1e4c7fe036325be4fceb6e6b72f7def4bf8903ff93a6db551c295d155f78778e    7.861111\n",
       "0x22e9d4cda0e51827329bc47034d2b5e207295eeab74ac8c9dfc499696e5d9e47    7.085714\n",
       "0x2fa20eecf487ae5880a905e0703fe2d3b101c28d76724f34243b7149e56ef0f0    6.696970\n",
       "0x33a567a56f28e046f2bc1aa179edf1fec1cc345bac657e6d258e259d6dda6ef5    7.027778\n",
       "0x3b2a0ae3c6fe60df4d5891f29cc16d592f4801243e32de69297ab7a0a44567a3    6.241379\n",
       "0x3bea3a266677fdad230f7d25443fb8ae1cf70e3c6680e70d9d17b485c69dc9b2    5.576923\n",
       "0x3e2c1e257a7f54945d1ebd8a1393d910085e95e0f66e7c2c96b3c788d45eaf43    5.529412\n",
       "0x4735271db4c5d0bad6553f3c5e0ab9c12be1e15c7577be059b05e1f807c83948    6.343750\n",
       "0x4d818dfe170046b0cb16f2534ae211ce8db194793400be3f9f82520a7495760e    6.186047\n",
       "0x55ad8f81d9ca4896d7f47b6bd410f8d1502ffab58abe6e2eba576af4eef341b9    5.652174\n",
       "0x59ccc24d38de83c3db70f5326d3d12ddcbca3fc9eb1eeb3df57322f730662f2f    5.038462\n",
       "0x5f18d0eac7ed1bd5a1a0980e2620bca02b87c8384d1c1e1ff06192f2b0ec29c3    7.769231\n",
       "0x72f400f063c56972096482772b1e2ff8f799657fb27f07021259ee2fd671cf57    8.513514\n",
       "0x7e3148754241be61cefb73b6ae961780200bfa310bd2adc4ed540b59dff831a9    7.935484\n",
       "0x886648e53dbace6281d3d234271d6efb805653b4afd2ca32d0d9c48666e45aff    6.861111\n",
       "0x91b3e055d39bcbbc3e6cdc323bfd17db8373be476f09156bdbc6209daa8defbc    4.365854\n",
       "0x950035e27f8b1a002f0aefee692c46d25de6778f1d84b4d56c4f3c118790d93c    5.878788\n",
       "0x9bb33edbe94ee78fd8a181737b0dde6539af47669f4e7f4f1287388acae7b675    8.185185\n",
       "0xc13f53a62d6d3b6fc39097b8a65de53885ba510e80875617baf2b7b801c2969e    5.222222\n",
       "0xc79bc9f5156ba41bd7e4c5ae36f10f1f5431ed4a71a9c455c42334aa0c18daa3    9.575758\n",
       "0xe17d6f65ba380465614727a450dd5b5cd0ddd5980c13481b082e9bca1563cf19    6.341463\n",
       "0xe66adf581481cbf130d69b34eb5d280a8aa421a736258c60d4db924219c4f12b    8.925926\n",
       "0xe6cb3cfeb9cd2a7c1cb8e39758792b0fbb72c9862b93ae19cadbefdc571ff550    8.625000\n",
       "0xee80009c35ba53f1fac6d4b8fda805040dd1152e5b21f672f70542fcb20bd24f    7.333333\n",
       "0xf826c386040efe323bf83133bbb5b1531bd62c9a4c650920f78f24dc3cbe3f21    8.409091\n",
       "0xfb558086c0823285b276ce47e53b7628536f94f997591056ff0515d4b17bc8db    7.025641\n",
       "Name: avg_nps_score, dtype: float64"
      ]
     },
     "execution_count": 8,
     "metadata": {},
     "output_type": "execute_result"
    }
   ],
   "source": [
    "count_total_attestations = df_sim.groupby('rf6_applicationUID')['uid'].count().rename('count_total_attestations')\n",
    "count_citizen_attestations = df_sim[df_sim.is_citizen].groupby('rf6_applicationUID')['uid'].count().rename('count_citizen_attestations')\n",
    "count_delegate_attestations = df_sim[df_sim.is_top_delegate].groupby('rf6_applicationUID')['uid'].count().rename('count_delegate_attestations')\n",
    "avg_nps_score = df_sim.groupby('rf6_applicationUID')['nps_score'].mean().rename('avg_nps_score')\n",
    "avg_nps_score"
   ]
  }
 ],
 "metadata": {
  "kernelspec": {
   "display_name": "Python 3 (ipykernel)",
   "language": "python",
   "name": "python3"
  },
  "language_info": {
   "codemirror_mode": {
    "name": "ipython",
    "version": 3
   },
   "file_extension": ".py",
   "mimetype": "text/x-python",
   "name": "python",
   "nbconvert_exporter": "python",
   "pygments_lexer": "ipython3",
   "version": "3.11.7"
  }
 },
 "nbformat": 4,
 "nbformat_minor": 5
}

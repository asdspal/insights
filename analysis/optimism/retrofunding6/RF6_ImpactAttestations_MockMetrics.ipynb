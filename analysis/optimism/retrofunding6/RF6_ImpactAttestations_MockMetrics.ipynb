{
 "cells": [
  {
   "cell_type": "markdown",
   "id": "4e3d661c",
   "metadata": {},
   "source": [
    "# Testing RF6 Impact Attestation Metrics\n",
    "\n",
    "Spec [here](https://plaid-cement-e44.notion.site/Impact-Attestations-Data-b8b1c79a624c46ad94305c74def64783)\n",
    "\n",
    "1. Number of Attestations (only want the count from Citizens and Top Delegates)\n",
    "2. Number of Attestations by Citizens\n",
    "3. Number of Attestations by Top delegates\n",
    "4. Average NPS score of Citizens and Top delegates\n",
    "5. Most positive superlative\n",
    "    1. At least 20 citizen or top delegates reviews\n",
    "    2. Over 95% of those reviews feel “extremely upset”\n",
    "    3. Over 95% of those reviews rate very likely to recommend (9-10)\n",
    "6. \"Can't live without\" superlative\n",
    "    1. At least 20 citizen or top delegate reviews\n",
    "    2. Over 90% of those reviews feel “extremely upset”\n",
    "7. Percentage distribution of different ratings by citizens and top delegates [Extremely upset, Somewhat upset, Neutral]\n",
    "    1. Percentage distribution of different ratings by citizens\n",
    "    2. Percentage distribution of different ratings by delegates\n",
    "8. Number of elected governance members that attested\n",
    "    1. Number of each group of elected governance members that attested\n",
    "    2. Average NPS score per elected governance group\n",
    "    3. Average feeling per elected governance group"
   ]
  },
  {
   "cell_type": "code",
   "execution_count": 1,
   "id": "7b36248f",
   "metadata": {},
   "outputs": [],
   "source": [
    "import datetime\n",
    "from dotenv import load_dotenv\n",
    "import json\n",
    "import numpy as np\n",
    "import os\n",
    "import pandas as pd\n",
    "import random\n",
    "import requests\n",
    "import secrets"
   ]
  },
  {
   "cell_type": "markdown",
   "id": "91f9a9a5",
   "metadata": {},
   "source": [
    "# Get delegate info"
   ]
  },
  {
   "cell_type": "code",
   "execution_count": 2,
   "id": "9687d9ba",
   "metadata": {},
   "outputs": [],
   "source": [
    "load_dotenv()\n",
    "AGORA_API_KEY = os.environ['AGORA_API_KEY']"
   ]
  },
  {
   "cell_type": "code",
   "execution_count": 3,
   "id": "ded0a237",
   "metadata": {},
   "outputs": [],
   "source": [
    "url = 'https://vote.optimism.io/api/v1/delegates'\n",
    "params = {'limit': 100, 'offset': 0, 'sort': 'most_delegators'}\n",
    "headers = {\n",
    "    'accept': 'application/json',\n",
    "    'Authorization': f'Bearer {AGORA_API_KEY}'\n",
    "}\n",
    "response = requests.get(url, params=params, headers=headers)\n",
    "if response.status_code == 200:\n",
    "    agora_data = response.json()\n",
    "else:\n",
    "    print(f\"Request failed with status code: {response.status_code}\")\n",
    "    print(response.text)"
   ]
  },
  {
   "cell_type": "code",
   "execution_count": 4,
   "id": "19ade0a9",
   "metadata": {},
   "outputs": [],
   "source": [
    "DELEGATES = [x['address'].lower() for x in agora_data['data']]"
   ]
  },
  {
   "cell_type": "markdown",
   "id": "2c8cb123",
   "metadata": {},
   "source": [
    "# Load relevant attestations"
   ]
  },
  {
   "cell_type": "code",
   "execution_count": 5,
   "id": "b4f706b5",
   "metadata": {},
   "outputs": [],
   "source": [
    "def load_json(json_path):\n",
    "    with open(json_path, 'r') as f:\n",
    "        data = json.load(f)\n",
    "    return data"
   ]
  },
  {
   "cell_type": "code",
   "execution_count": 6,
   "id": "61c14fda",
   "metadata": {},
   "outputs": [
    {
     "name": "stdout",
     "output_type": "stream",
     "text": [
      "Project attestations: 975\n",
      "Badgeholder attestations: 713\n",
      "Gov Council attestations: 86\n",
      "Impact attestations: 188\n"
     ]
    }
   ],
   "source": [
    "project_attestation_data = load_json('data/RetroFunding_ApplicationAttestations.json')\n",
    "print(\"Project attestations:\", len(project_attestation_data))\n",
    "\n",
    "badgeholder_attestation_data = load_json('data/RetroFunding_BadgeholderAttestations.json')\n",
    "print(\"Badgeholder attestations:\", len(badgeholder_attestation_data))\n",
    "\n",
    "gov_council_attestation_data = load_json('data/Governance_CouncilAttestations.json')\n",
    "print(\"Gov Council attestations:\", len(gov_council_attestation_data))\n",
    "\n",
    "impact_attestation_data = load_json('data/MGL_ImpactAttestations.json')\n",
    "print(\"Impact attestations:\", len(impact_attestation_data))"
   ]
  },
  {
   "cell_type": "markdown",
   "id": "2e8015a5-f4b3-4851-a310-564f4d79f936",
   "metadata": {},
   "source": [
    "# Clean / filter attestation data"
   ]
  },
  {
   "cell_type": "code",
   "execution_count": 7,
   "id": "e386efde",
   "metadata": {},
   "outputs": [
    {
     "name": "stdout",
     "output_type": "stream",
     "text": [
      "Relevant project attestations: 362\n"
     ]
    }
   ],
   "source": [
    "relevant_project_attestations = []\n",
    "for a in project_attestation_data:\n",
    "    if a['attester'] != '0xF6872D315CC2E1AfF6abae5dd814fd54755fE97C':\n",
    "        continue\n",
    "    if int(a['round']) < 5:\n",
    "        continue\n",
    "    relevant_project_attestations.append({\n",
    "        'id': a['id'].lower(),\n",
    "        'attester': a['attester'].lower(),\n",
    "        'recipient': a['recipient'].lower(),\n",
    "        'projectRefUID': a['projectRefUID'].lower(),\n",
    "        'timeCreated': datetime.datetime.utcfromtimestamp(a['timeCreated'])\n",
    "    })\n",
    "        \n",
    "df_projects = pd.DataFrame(relevant_project_attestations)        \n",
    "print(\"Relevant project attestations:\", len(relevant_project_attestations))        "
   ]
  },
  {
   "cell_type": "code",
   "execution_count": 8,
   "id": "ff1c8e6b",
   "metadata": {},
   "outputs": [
    {
     "name": "stdout",
     "output_type": "stream",
     "text": [
      "Relevant badgeholder attestations: 216\n"
     ]
    }
   ],
   "source": [
    "relevant_badgeholder_attestations = []\n",
    "for a in badgeholder_attestation_data:\n",
    "    if a['attester'] != '0x621477dBA416E12df7FF0d48E14c4D20DC85D7D9':\n",
    "        continue\n",
    "    relevant_badgeholder_attestations.append({\n",
    "        'id': a['id'].lower(),\n",
    "        'attester': a['attester'].lower(),\n",
    "        'recipient': a['recipient'].lower(),\n",
    "        'rpgfRound': a['rpgfRound'],\n",
    "        'timeCreated': datetime.datetime.utcfromtimestamp(a['timeCreated'])\n",
    "    })\n",
    "print(\"Relevant badgeholder attestations:\", len(relevant_badgeholder_attestations))            "
   ]
  },
  {
   "cell_type": "code",
   "execution_count": 9,
   "id": "6d8e3482",
   "metadata": {},
   "outputs": [
    {
     "name": "stdout",
     "output_type": "stream",
     "text": [
      "Relevant gov council attestations: 43\n"
     ]
    }
   ],
   "source": [
    "relevant_gov_council_attestations = []\n",
    "for a in gov_council_attestation_data:\n",
    "    if a['attester'] != '0xE4553b743E74dA3424Ac51f8C1E586fd43aE226F':\n",
    "        continue\n",
    "    if int(a['govSeason']) < 5:\n",
    "        continue\n",
    "    relevant_gov_council_attestations.append({\n",
    "        'id': a['id'].lower(),\n",
    "        'attester': a['attester'].lower(),\n",
    "        'recipient': a['recipient'].lower(),\n",
    "        'govRole': a['govRole'],\n",
    "        'timeCreated': datetime.datetime.utcfromtimestamp(a['timeCreated'])\n",
    "    })\n",
    "print(\"Relevant gov council attestations:\", len(relevant_gov_council_attestations))            "
   ]
  },
  {
   "cell_type": "code",
   "execution_count": 10,
   "id": "ff937d48",
   "metadata": {},
   "outputs": [
    {
     "name": "stdout",
     "output_type": "stream",
     "text": [
      "Relevant impact attestations: 36\n"
     ]
    }
   ],
   "source": [
    "relevant_impact_attestations = []\n",
    "for a in impact_attestation_data:\n",
    "    qs = a.get('metadata', {}).get('impactAttestations', [])\n",
    "    \n",
    "    if len(qs) < 2:\n",
    "        continue\n",
    "    \n",
    "    nps = pmf = None\n",
    "    for q in qs:\n",
    "        val = q.get('value')\n",
    "        if not val:\n",
    "            continue\n",
    "        if q['name'] == 'Likely to Recommend':\n",
    "            nps = val\n",
    "        elif q['name'] == 'Feeling if didnt exist':\n",
    "            pmf = val\n",
    "    \n",
    "    if not (nps or pmf):\n",
    "        continue\n",
    "        \n",
    "    relevant_impact_attestations.append({\n",
    "        'id': a['id'].lower(),\n",
    "        'attester': a['attester'].lower(),\n",
    "        'recipient': a['recipient'].lower(),\n",
    "        'farcasterID': a['farcasterID'],\n",
    "        'projectRegUID': a['projectRegUID'].lower(),\n",
    "        'timeCreated': datetime.datetime.utcfromtimestamp(a['timeCreated']),\n",
    "        'issuer': a['issuer'],\n",
    "        'metadataurl': a['metadataurl'],\n",
    "        'nps_score': pd.to_numeric(nps),\n",
    "        'pmf_score': pd.to_numeric(pmf)\n",
    "    })\n",
    "    \n",
    "print(\"Relevant impact attestations:\", len(relevant_impact_attestations))"
   ]
  },
  {
   "cell_type": "code",
   "execution_count": 11,
   "id": "a2f784f0",
   "metadata": {},
   "outputs": [
    {
     "data": {
      "text/html": [
       "<div>\n",
       "<style scoped>\n",
       "    .dataframe tbody tr th:only-of-type {\n",
       "        vertical-align: middle;\n",
       "    }\n",
       "\n",
       "    .dataframe tbody tr th {\n",
       "        vertical-align: top;\n",
       "    }\n",
       "\n",
       "    .dataframe thead th {\n",
       "        text-align: right;\n",
       "    }\n",
       "</style>\n",
       "<table border=\"1\" class=\"dataframe\">\n",
       "  <thead>\n",
       "    <tr style=\"text-align: right;\">\n",
       "      <th></th>\n",
       "      <th>35</th>\n",
       "    </tr>\n",
       "  </thead>\n",
       "  <tbody>\n",
       "    <tr>\n",
       "      <th>id</th>\n",
       "      <td>0xfa0eae3eacef3911aab96912f012db75443fa7a99d50...</td>\n",
       "    </tr>\n",
       "    <tr>\n",
       "      <th>attester</th>\n",
       "      <td>0x7484aabfef9f39464f332e632047983b67571c0a</td>\n",
       "    </tr>\n",
       "    <tr>\n",
       "      <th>recipient</th>\n",
       "      <td>0x4a6894dd556fab996f8d50b521f900caeedc168e</td>\n",
       "    </tr>\n",
       "    <tr>\n",
       "      <th>farcasterID</th>\n",
       "      <td>{'type': 'BigNumber', 'hex': '0x050fa9'}</td>\n",
       "    </tr>\n",
       "    <tr>\n",
       "      <th>projectRegUID</th>\n",
       "      <td>0x51504348243d8e8fa59cf2ba983d9255373e5eb23fe2...</td>\n",
       "    </tr>\n",
       "    <tr>\n",
       "      <th>timeCreated</th>\n",
       "      <td>2024-10-10 04:10:35</td>\n",
       "    </tr>\n",
       "    <tr>\n",
       "      <th>issuer</th>\n",
       "      <td>MGL</td>\n",
       "    </tr>\n",
       "    <tr>\n",
       "      <th>metadataurl</th>\n",
       "      <td>https://gateway.pinata.cloud/ipfs/QmRod9xTy6fR...</td>\n",
       "    </tr>\n",
       "    <tr>\n",
       "      <th>nps_score</th>\n",
       "      <td>8.0</td>\n",
       "    </tr>\n",
       "    <tr>\n",
       "      <th>pmf_score</th>\n",
       "      <td>3.0</td>\n",
       "    </tr>\n",
       "  </tbody>\n",
       "</table>\n",
       "</div>"
      ],
      "text/plain": [
       "                                                              35\n",
       "id             0xfa0eae3eacef3911aab96912f012db75443fa7a99d50...\n",
       "attester              0x7484aabfef9f39464f332e632047983b67571c0a\n",
       "recipient             0x4a6894dd556fab996f8d50b521f900caeedc168e\n",
       "farcasterID             {'type': 'BigNumber', 'hex': '0x050fa9'}\n",
       "projectRegUID  0x51504348243d8e8fa59cf2ba983d9255373e5eb23fe2...\n",
       "timeCreated                                  2024-10-10 04:10:35\n",
       "issuer                                                       MGL\n",
       "metadataurl    https://gateway.pinata.cloud/ipfs/QmRod9xTy6fR...\n",
       "nps_score                                                    8.0\n",
       "pmf_score                                                    3.0"
      ]
     },
     "execution_count": 11,
     "metadata": {},
     "output_type": "execute_result"
    }
   ],
   "source": [
    "df_attestations_actual = pd.DataFrame(relevant_impact_attestations)\n",
    "df_attestations_actual.tail(1).T"
   ]
  },
  {
   "cell_type": "markdown",
   "id": "b3a30c6d",
   "metadata": {},
   "source": [
    "# Determine constants"
   ]
  },
  {
   "cell_type": "code",
   "execution_count": 12,
   "id": "8d821694",
   "metadata": {},
   "outputs": [
    {
     "data": {
      "text/plain": [
       "362"
      ]
     },
     "execution_count": 12,
     "metadata": {},
     "output_type": "execute_result"
    }
   ],
   "source": [
    "PROJECTS = [a['projectRefUID'] for a in relevant_project_attestations]\n",
    "len(PROJECTS)"
   ]
  },
  {
   "cell_type": "code",
   "execution_count": 13,
   "id": "69dcfc8f",
   "metadata": {},
   "outputs": [
    {
     "data": {
      "text/plain": [
       "['Optimism Grants Council Member',\n",
       " 'Anticapture Commission Member',\n",
       " 'Developer Advisory Board Member',\n",
       " 'Code of Conduct Council Member',\n",
       " 'Code of Conduct Council',\n",
       " 'ACC (Second half)']"
      ]
     },
     "execution_count": 13,
     "metadata": {},
     "output_type": "execute_result"
    }
   ],
   "source": [
    "COUNCILS = ['Anticapture Commission', 'Code of Conduct Council', 'Collective Feedback Committee',\n",
    "            'Developer Advisory Board', 'Grants Council', 'Security Council']\n",
    "\n",
    "COUNCILS = list(pd.DataFrame(relevant_gov_council_attestations)['govRole'].unique())\n",
    "COUNCILS"
   ]
  },
  {
   "cell_type": "code",
   "execution_count": 14,
   "id": "7d2efc98",
   "metadata": {},
   "outputs": [
    {
     "data": {
      "text/plain": [
       "149"
      ]
     },
     "execution_count": 14,
     "metadata": {},
     "output_type": "execute_result"
    }
   ],
   "source": [
    "BADGEHOLDERS = set([a['recipient'] for a in relevant_badgeholder_attestations])\n",
    "len(BADGEHOLDERS)"
   ]
  },
  {
   "cell_type": "code",
   "execution_count": 15,
   "id": "f1684da2",
   "metadata": {},
   "outputs": [],
   "source": [
    "ATTESTERS = {}\n",
    "for addr in BADGEHOLDERS:\n",
    "    if addr not in ATTESTERS:\n",
    "        ATTESTERS.update({\n",
    "            addr: {\n",
    "                'is_citizen': True,\n",
    "                'is_top_delegate': False,\n",
    "                'governance_membership': set()                \n",
    "            }\n",
    "        })\n",
    "for addr in DELEGATES:\n",
    "    if addr not in ATTESTERS:\n",
    "        ATTESTERS.update({\n",
    "            addr: {\n",
    "                'is_citizen': False,\n",
    "                'is_top_delegate': True,\n",
    "                'governance_membership': set()\n",
    "            }\n",
    "        })\n",
    "    else:\n",
    "        ATTESTERS[addr]['is_top_delegate'] = True\n",
    "\n",
    "for a in relevant_gov_council_attestations:\n",
    "    addr = a['recipient'].lower()\n",
    "    if addr in ATTESTERS:\n",
    "        ATTESTERS[addr]['governance_membership'].add(a['govRole'])  \n",
    "        \n",
    "for addr in ATTESTERS:\n",
    "    ATTESTERS[addr]['governance_membership'] = list(ATTESTERS[addr]['governance_membership'])        "
   ]
  },
  {
   "cell_type": "markdown",
   "id": "4d480119",
   "metadata": {},
   "source": [
    "# Create some dummy data attestations"
   ]
  },
  {
   "cell_type": "code",
   "execution_count": 16,
   "id": "55e61b3e",
   "metadata": {},
   "outputs": [],
   "source": [
    "NUM_PROJECTS = 30\n",
    "NUM_ATTESTERS = 100\n",
    "NUM_ATTESTATIONS = 1000\n",
    "PMF_SCALE = 5\n",
    "NPS_SCALE = 10\n",
    "\n",
    "\n",
    "projects = {\n",
    "    p: random.random()\n",
    "    for p in random.choices(PROJECTS, k=NUM_PROJECTS)\n",
    "}\n",
    "\n",
    "attesters = {\n",
    "    addr:ATTESTERS[addr]\n",
    "    for addr in random.choices(list(ATTESTERS.keys()), k=NUM_ATTESTERS)\n",
    "}\n",
    "\n",
    "attestations = []\n",
    "for i in range(NUM_ATTESTATIONS):\n",
    "    random_project = random.choice(list(projects.keys()))\n",
    "    random_attester = random.choice(list(attesters.keys()))\n",
    "    project_impact = projects.get(random_project)\n",
    "    pmf_score = random.randint(int(project_impact*PMF_SCALE), PMF_SCALE)\n",
    "    nps_score = random.randint(int(project_impact*NPS_SCALE), NPS_SCALE)\n",
    "    attestations.append({\n",
    "        'uid': f\"0x{secrets.token_hex(32)}\",\n",
    "        'attester': random_attester,\n",
    "        'rf6_applicationUID': random_project,\n",
    "        'pmf_score': max(1,pmf_score),\n",
    "        'nps_score': max(1,nps_score),\n",
    "        **attesters[random_attester]\n",
    "    })"
   ]
  },
  {
   "cell_type": "code",
   "execution_count": 17,
   "id": "3fc6d3a6-d7c4-4bcd-8902-afa656505e84",
   "metadata": {},
   "outputs": [
    {
     "data": {
      "text/plain": [
       "{'uid': '0x926c043b8bf7b2515c71976f8c95e640735d7b761b50a8417a20417078f9a6ed',\n",
       " 'attester': '0xf9551c66995ed3ff9bb05c9fd7ff148bd75dc99a',\n",
       " 'rf6_applicationUID': '0x81af86360a8e964cc907a5689a62e94231c7e42e05f49c0586716975d72e2e2e',\n",
       " 'pmf_score': 5,\n",
       " 'nps_score': 2,\n",
       " 'is_citizen': False,\n",
       " 'is_top_delegate': True,\n",
       " 'governance_membership': []}"
      ]
     },
     "execution_count": 17,
     "metadata": {},
     "output_type": "execute_result"
    }
   ],
   "source": [
    "with open(\"data/dummy_attestations.json\", \"w\") as f:\n",
    "    json.dump(attestations,f,indent=2)\n",
    "\n",
    "attestations[0]"
   ]
  },
  {
   "cell_type": "markdown",
   "id": "35247a47-a521-42e7-b061-f9cc22c63b1f",
   "metadata": {},
   "source": [
    "# Implement a few of the metrics"
   ]
  },
  {
   "cell_type": "code",
   "execution_count": 18,
   "id": "7e311a74",
   "metadata": {},
   "outputs": [],
   "source": [
    "df_sim = pd.DataFrame(attestations)\n",
    "df_sim = df_sim[df_sim.is_citizen | df_sim.is_top_delegate]"
   ]
  },
  {
   "cell_type": "code",
   "execution_count": 19,
   "id": "4c66f3ec",
   "metadata": {},
   "outputs": [],
   "source": [
    "def most_positive_superlative(rf6_app_uid):\n",
    "    dff_sim = df_sim[df_sim['rf6_applicationUID'] == rf6_app_uid]\n",
    "    num_reviews = len(dff_sim)\n",
    "    pmf_pos_reviews = (dff_sim['pmf_score'] > 4).sum() / num_reviews\n",
    "    nps_pos_reviews = (dff_sim['nps_score'] > 8).sum() / num_reviews\n",
    "    \n",
    "    # lower thresholds for testing only\n",
    "    result = (num_reviews >= 20) and (pmf_pos_reviews >= .5) and (nps_pos_reviews >= .5)\n",
    "    \n",
    "    return str(result)\n",
    "\n",
    "def cant_live_without_superlative(rf6_app_uid):\n",
    "    dff_sim = df_sim[df_sim['rf6_applicationUID'] == rf6_app_uid]\n",
    "    num_reviews = len(dff_sim)\n",
    "    pmf_pos_reviews = (dff_sim['pmf_score'] > 4).sum() / num_reviews\n",
    "    \n",
    "    # lower thresholds for testing only\n",
    "    result = (num_reviews >= 20) and (pmf_pos_reviews >= .50)\n",
    "    \n",
    "    return str(result)\n",
    "\n",
    "def ratings_distribution(rf6_app_uid):\n",
    "    dff_sim = df_sim[df_sim['rf6_applicationUID'] == rf6_app_uid]\n",
    "    dff_pos = dff_sim[dff_sim['pmf_score'] >= 3]\n",
    "    dff_citizens = dff_sim[dff_sim.is_citizen == True]\n",
    "    dff_delegates = dff_sim[dff_sim.is_top_delegate == True]\n",
    "    return {\n",
    "        'citizens': {\n",
    "            'extremely_upset': (dff_citizens['pmf_score'] == 5).sum() / len(dff_citizens),\n",
    "            'somewhat_upset': (dff_citizens['pmf_score'] == 4).sum() / len(dff_citizens),\n",
    "            'neutral': (dff_citizens['pmf_score'] == 3).sum() / len(dff_citizens)\n",
    "        },\n",
    "        'top_delegates': {\n",
    "            'extremely_upset': (dff_delegates['pmf_score'] == 5).sum() / len(dff_delegates),\n",
    "            'somewhat_upset': (dff_delegates['pmf_score'] == 4).sum() / len(dff_delegates),\n",
    "            'neutral': (dff_delegates['pmf_score'] == 3).sum() / len(dff_delegates)\n",
    "        }\n",
    "    }\n",
    "\n",
    "def councils_distribution(rf6_app_uid):\n",
    "    dff_sim = df_sim[df_sim['rf6_applicationUID'] == rf6_app_uid]\n",
    "    result = {}\n",
    "    for council in COUNCILS:\n",
    "        dff_council = dff_sim[dff_sim['governance_membership'].apply(lambda x: council in x)]\n",
    "        if dff_council.empty:\n",
    "            continue\n",
    "        result.update({\n",
    "            council.replace(' ','_').lower(): {\n",
    "                'count_attestations': len(dff_council),\n",
    "                'avg_pmf_score': dff_council['pmf_score'].mean(),\n",
    "                'avg_nps_score': dff_council['nps_score'].mean()\n",
    "            }\n",
    "        })\n",
    "    return result"
   ]
  },
  {
   "cell_type": "code",
   "execution_count": 20,
   "id": "5ad94884",
   "metadata": {},
   "outputs": [],
   "source": [
    "metrics = []\n",
    "metrics.append({\n",
    "    'name': 'count_total_attestations',\n",
    "    'description': 'Number of Attestations',\n",
    "    'data': df_sim.groupby('rf6_applicationUID')['uid'].count().to_dict()\n",
    "})\n",
    "metrics.append({\n",
    "    'name': 'count_citizen_attestations',\n",
    "    'description': 'Number of Attestations by Citizens',\n",
    "    'data': df_sim[df_sim.is_citizen].groupby('rf6_applicationUID')['uid'].count().to_dict()\n",
    "})\n",
    "metrics.append({\n",
    "    'name': 'count_delegate_attestations',\n",
    "    'description': 'Number of Attestations by Top Delegates',\n",
    "    'data': df_sim[df_sim.is_top_delegate].groupby('rf6_applicationUID')['uid'].count().to_dict()    \n",
    "})\n",
    "metrics.append({\n",
    "    'name': 'avg_nps_score',\n",
    "    'description': 'Average NPS score of Citizens and Top Delegates',\n",
    "    'data': df_sim.groupby('rf6_applicationUID')['nps_score'].mean().to_dict()\n",
    "})\n",
    "metrics.append({\n",
    "    'name': 'most_positive_superlative',\n",
    "    'description': 'Most positive superlative (20 reviews, 95% high PMF and 95% high NPS)',\n",
    "    'data': {uid: most_positive_superlative(uid) for uid in df_sim['rf6_applicationUID'].unique()}\n",
    "})\n",
    "metrics.append({\n",
    "    'name': 'cant_live_without_superlative',\n",
    "    'description': \"Can't live without superlative (20 reviews, 90% high PMF)\",\n",
    "    'data': {uid: cant_live_without_superlative(uid) for uid in df_sim['rf6_applicationUID'].unique()}\n",
    "})\n",
    "metrics.append({\n",
    "    'name': 'percentage_distributions',\n",
    "    'description': \"Percentage distribution of different ratings by citizens and top delegates\",\n",
    "    'data': {uid: ratings_distribution(uid) for uid in df_sim['rf6_applicationUID'].unique()}\n",
    "})    \n",
    "metrics.append({\n",
    "    'name': 'elected_governance_reviews',\n",
    "    'description': 'Reviews from elected governance members',\n",
    "    'data': {uid: councils_distribution(uid) for uid in df_sim['rf6_applicationUID'].unique()}\n",
    "})"
   ]
  },
  {
   "cell_type": "code",
   "execution_count": 21,
   "id": "45f84684",
   "metadata": {},
   "outputs": [],
   "source": [
    "with open(\"data/dummy_metrics.json\", \"w\") as f:\n",
    "    json.dump(metrics,f,indent=2)"
   ]
  },
  {
   "cell_type": "code",
   "execution_count": 22,
   "id": "03940636",
   "metadata": {},
   "outputs": [],
   "source": [
    "df_sim.to_csv(\"data/normalized_attestations.csv\")"
   ]
  }
 ],
 "metadata": {
  "kernelspec": {
   "display_name": "Python 3 (ipykernel)",
   "language": "python",
   "name": "python3"
  },
  "language_info": {
   "codemirror_mode": {
    "name": "ipython",
    "version": 3
   },
   "file_extension": ".py",
   "mimetype": "text/x-python",
   "name": "python",
   "nbconvert_exporter": "python",
   "pygments_lexer": "ipython3",
   "version": "3.11.5"
  }
 },
 "nbformat": 4,
 "nbformat_minor": 5
}

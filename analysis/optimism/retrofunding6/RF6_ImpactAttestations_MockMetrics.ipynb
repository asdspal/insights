{
 "cells": [
  {
   "cell_type": "code",
   "execution_count": 1,
   "id": "7b36248f",
   "metadata": {},
   "outputs": [],
   "source": [
    "import datetime\n",
    "import json\n",
    "import pandas as pd"
   ]
  },
  {
   "cell_type": "code",
   "execution_count": 2,
   "id": "d09d1beb",
   "metadata": {},
   "outputs": [
    {
     "name": "stdout",
     "output_type": "stream",
     "text": [
      "149\n"
     ]
    }
   ],
   "source": [
    "json_path = 'data/attestations.json'\n",
    "with open(json_path, 'r') as f:\n",
    "    data = json.load(f)\n",
    "print(len(data))    "
   ]
  },
  {
   "cell_type": "code",
   "execution_count": 3,
   "id": "ff937d48",
   "metadata": {},
   "outputs": [],
   "source": [
    "relevant_attestations = []\n",
    "for a in data:\n",
    "    qs = a.get('metadata', {}).get('impactAttestations', [])\n",
    "    \n",
    "    if len(qs) < 2:\n",
    "        continue\n",
    "    \n",
    "    nps = pmf = None\n",
    "    for q in qs:\n",
    "        val = q.get('value')\n",
    "        if not val:\n",
    "            continue\n",
    "        if q['name'] == 'Likely to Recommend':\n",
    "            nps = val\n",
    "        elif q['name'] == 'Feeling if didnt exist':\n",
    "            pmf = val\n",
    "    \n",
    "    if not (nps or pmf):\n",
    "        continue\n",
    "        \n",
    "    relevant_attestations.append({\n",
    "        'id': a['id'],\n",
    "        'attester': a['attester'],\n",
    "        'recipient': a['recipient'],\n",
    "        'farcasterID': a['farcasterID'],\n",
    "        'projectRegUID': a['projectRegUID'],\n",
    "        'timeCreated': datetime.datetime.utcfromtimestamp(a['timeCreated']),\n",
    "        'issuer': a['issuer'],\n",
    "        'metadataurl': a['metadataurl'],\n",
    "        'nps_score': pd.to_numeric(nps),\n",
    "        'pmf_score': pd.to_numeric(pmf)\n",
    "    })"
   ]
  },
  {
   "cell_type": "code",
   "execution_count": 4,
   "id": "a2f784f0",
   "metadata": {},
   "outputs": [
    {
     "data": {
      "text/html": [
       "<div>\n",
       "<style scoped>\n",
       "    .dataframe tbody tr th:only-of-type {\n",
       "        vertical-align: middle;\n",
       "    }\n",
       "\n",
       "    .dataframe tbody tr th {\n",
       "        vertical-align: top;\n",
       "    }\n",
       "\n",
       "    .dataframe thead th {\n",
       "        text-align: right;\n",
       "    }\n",
       "</style>\n",
       "<table border=\"1\" class=\"dataframe\">\n",
       "  <thead>\n",
       "    <tr style=\"text-align: right;\">\n",
       "      <th></th>\n",
       "      <th>id</th>\n",
       "      <th>attester</th>\n",
       "      <th>recipient</th>\n",
       "      <th>farcasterID</th>\n",
       "      <th>projectRegUID</th>\n",
       "      <th>timeCreated</th>\n",
       "      <th>issuer</th>\n",
       "      <th>metadataurl</th>\n",
       "      <th>nps_score</th>\n",
       "      <th>pmf_score</th>\n",
       "    </tr>\n",
       "  </thead>\n",
       "  <tbody>\n",
       "    <tr>\n",
       "      <th>15</th>\n",
       "      <td>0xecc8d17aa547682ffc8b4b69c1ed59bd642fad4dc6c8...</td>\n",
       "      <td>0x7484aABFef9f39464F332e632047983b67571C0a</td>\n",
       "      <td>0x5d36a202687fD6Bd0f670545334bF0B4827Cc1E2</td>\n",
       "      <td>{'type': 'BigNumber', 'hex': '0x2d4c'}</td>\n",
       "      <td>0x82169691e4026be1d950f20c2d36500b06fb6f3e0c03...</td>\n",
       "      <td>2024-10-02 06:16:34</td>\n",
       "      <td>MGL</td>\n",
       "      <td>https://gateway.pinata.cloud/ipfs/QmeYyTJzXsXS...</td>\n",
       "      <td>6</td>\n",
       "      <td>2.0</td>\n",
       "    </tr>\n",
       "  </tbody>\n",
       "</table>\n",
       "</div>"
      ],
      "text/plain": [
       "                                                   id  \\\n",
       "15  0xecc8d17aa547682ffc8b4b69c1ed59bd642fad4dc6c8...   \n",
       "\n",
       "                                      attester  \\\n",
       "15  0x7484aABFef9f39464F332e632047983b67571C0a   \n",
       "\n",
       "                                     recipient  \\\n",
       "15  0x5d36a202687fD6Bd0f670545334bF0B4827Cc1E2   \n",
       "\n",
       "                               farcasterID  \\\n",
       "15  {'type': 'BigNumber', 'hex': '0x2d4c'}   \n",
       "\n",
       "                                        projectRegUID         timeCreated  \\\n",
       "15  0x82169691e4026be1d950f20c2d36500b06fb6f3e0c03... 2024-10-02 06:16:34   \n",
       "\n",
       "   issuer                                        metadataurl  nps_score  \\\n",
       "15    MGL  https://gateway.pinata.cloud/ipfs/QmeYyTJzXsXS...          6   \n",
       "\n",
       "    pmf_score  \n",
       "15        2.0  "
      ]
     },
     "execution_count": 4,
     "metadata": {},
     "output_type": "execute_result"
    }
   ],
   "source": [
    "df_attestations_actual = pd.DataFrame(relevant_attestations)\n",
    "df_attestations_actual.tail(1)"
   ]
  },
  {
   "cell_type": "markdown",
   "id": "4d480119",
   "metadata": {},
   "source": [
    "# Create some dummy data"
   ]
  },
  {
   "cell_type": "markdown",
   "id": "874f6ccf",
   "metadata": {},
   "source": [
    "1. Number of Attestations (only want the count from Citizens and Top Delegates)\n",
    "2. Number of Attestations by Citizens\n",
    "3. Number of Attestations by Top delegates\n",
    "4. Average NPS score of Citizens and Top delegates\n",
    "5. Most positive superlative\n",
    "6. \"Can't live without\" superlative\n",
    "7. Percentage distribution of different ratings by citizens and top delegates [Extremely upset, Somewhat upset, Neutral]\n",
    "    1. Percentage distribution of different ratings by citizens\n",
    "    2. Percentage distribution of different ratings by delegates\n",
    "8. Number of elected governance members that attested\n",
    "    1. Number of each group of elected governance members that attested\n",
    "    2. Average NPS score per elected governance group\n",
    "    3. Average feeling per elected governance group"
   ]
  },
  {
   "cell_type": "code",
   "execution_count": 5,
   "id": "5e69c948",
   "metadata": {},
   "outputs": [],
   "source": [
    "import numpy as np\n",
    "import random\n",
    "import secrets"
   ]
  },
  {
   "cell_type": "code",
   "execution_count": 6,
   "id": "55e61b3e",
   "metadata": {},
   "outputs": [],
   "source": [
    "NUM_PROJECTS = 30\n",
    "NUM_ATTESTERS = 100\n",
    "NUM_ATTESTATIONS = 1000\n",
    "PMF_SCALE = 5\n",
    "NPS_SCALE = 10\n",
    "\n",
    "projects = {\n",
    "    f\"0x{secrets.token_hex(32)}\": random.random()\n",
    "    for _ in range(NUM_PROJECTS)\n",
    "}\n",
    "\n",
    "attesters = {}\n",
    "for a in range(NUM_ATTESTERS):\n",
    "    addr = f\"0x{secrets.token_hex(20)}\"\n",
    "    citizen = random.randint(1,10)\n",
    "    delegate = random.randint(1,10)    \n",
    "    attesters.update({\n",
    "        addr:{\n",
    "            'is_citizen': citizen > 3,\n",
    "            'is_top_delgate': delegate > 6\n",
    "        }\n",
    "    })\n",
    "\n",
    "attestations = []\n",
    "for i in range(NUM_ATTESTATIONS):\n",
    "    random_project = random.choice(list(projects.keys()))\n",
    "    random_attester = random.choice(list(attesters.keys()))\n",
    "    project_impact = projects.get(random_project)\n",
    "    pmf_score = random.randint(int(project_impact*PMF_SCALE), PMF_SCALE)\n",
    "    nps_score = random.randint(int(project_impact*NPS_SCALE), NPS_SCALE)\n",
    "    attestations.append({\n",
    "        'uid': f\"0x{secrets.token_hex(32)}\",\n",
    "        'attester': random_attester,\n",
    "        'projectRegUID': random_project,\n",
    "        'pmf_score': max(1,pmf_score),\n",
    "        'nps_score': max(1,nps_score),\n",
    "        **attesters[random_attester]\n",
    "    })"
   ]
  },
  {
   "cell_type": "code",
   "execution_count": 7,
   "id": "7e311a74",
   "metadata": {},
   "outputs": [
    {
     "data": {
      "text/html": [
       "<div>\n",
       "<style scoped>\n",
       "    .dataframe tbody tr th:only-of-type {\n",
       "        vertical-align: middle;\n",
       "    }\n",
       "\n",
       "    .dataframe tbody tr th {\n",
       "        vertical-align: top;\n",
       "    }\n",
       "\n",
       "    .dataframe thead th {\n",
       "        text-align: right;\n",
       "    }\n",
       "</style>\n",
       "<table border=\"1\" class=\"dataframe\">\n",
       "  <thead>\n",
       "    <tr style=\"text-align: right;\">\n",
       "      <th></th>\n",
       "      <th>uid</th>\n",
       "      <th>attester</th>\n",
       "      <th>projectRegUID</th>\n",
       "      <th>pmf_score</th>\n",
       "      <th>nps_score</th>\n",
       "      <th>is_citizen</th>\n",
       "      <th>is_top_delgate</th>\n",
       "    </tr>\n",
       "  </thead>\n",
       "  <tbody>\n",
       "    <tr>\n",
       "      <th>999</th>\n",
       "      <td>0xf62ceb87e3a6f80a98a4e8c2efcdfc186b82a183e5d0...</td>\n",
       "      <td>0xe8423d0d55ad3db2d2e12c8f60bb1c7bcffb6c77</td>\n",
       "      <td>0xefbc22cf4df5bc0f15968061c459fa6c876d7741b51e...</td>\n",
       "      <td>4</td>\n",
       "      <td>1</td>\n",
       "      <td>True</td>\n",
       "      <td>False</td>\n",
       "    </tr>\n",
       "  </tbody>\n",
       "</table>\n",
       "</div>"
      ],
      "text/plain": [
       "                                                   uid  \\\n",
       "999  0xf62ceb87e3a6f80a98a4e8c2efcdfc186b82a183e5d0...   \n",
       "\n",
       "                                       attester  \\\n",
       "999  0xe8423d0d55ad3db2d2e12c8f60bb1c7bcffb6c77   \n",
       "\n",
       "                                         projectRegUID  pmf_score  nps_score  \\\n",
       "999  0xefbc22cf4df5bc0f15968061c459fa6c876d7741b51e...          4          1   \n",
       "\n",
       "     is_citizen  is_top_delgate  \n",
       "999        True           False  "
      ]
     },
     "execution_count": 7,
     "metadata": {},
     "output_type": "execute_result"
    }
   ],
   "source": [
    "df_sim = pd.DataFrame(attestations)\n",
    "df_sim.tail(1)"
   ]
  },
  {
   "cell_type": "code",
   "execution_count": 8,
   "id": "10c86ede",
   "metadata": {},
   "outputs": [
    {
     "data": {
      "text/plain": [
       "projectRegUID\n",
       "0x1d93dc2c0b61d437e2c4beb9d806e93471664cd3b45f4674f0d8fe008afafc27    8.277778\n",
       "0x27f547a11e4ddfaa888c181b239dd4c996370c95485d988e927bc20a69a05920    8.181818\n",
       "0x2c0469ba04de85641373e91a04644a0f0042180ce6381efc668f2a7f898acb9b    4.481481\n",
       "0x3197addb2d3f675ac6976ad83ee87b6cd70cd56e04bd6dab0e4368425aed0265    9.444444\n",
       "0x3e0f7e5493a325aab054a861d5b161238d45a5072bef9a21e9244dd078567831    8.269231\n",
       "0x3f57c8deb5d2304490062e5ee01fda1dc0b9d100684db724d5e08ba6671a7c7d    8.944444\n",
       "0x548c5383763131e05dae98c800ffd32f23dce2ace5607fb16f23d7c62d613e72    7.862069\n",
       "0x5d064203a908677a8766814c6f77f6891d8363d9ea43001b8f0ac21c6362a25e    6.000000\n",
       "0x6308c9af99058f2947dc4c1cb1c0909f81718948274961b9b9c964f7dadca0b2    6.850000\n",
       "0x67cf166f33b0bd79434eca44914e2751b38b898fb579d0388fc5aa38c6ecd97a    8.357143\n",
       "0x6baba63ac23d75d296e3ffab653fde6943b1dae9c3e8cdb57c7315e2dc2a51fb    8.216216\n",
       "0x70faa8a471a1d5be20f7ad453b7203b1d671bc8dfbf641a5b1cde7bb7576cdd9    7.238095\n",
       "0x712529d38aaeabc03a484326a42ec4b33c78a99cf72cba14168faf7e380d0ffa    6.516129\n",
       "0x74550ba0e4ae2c925a67b523931320980ae6f1692de12e764234f51e817ea6ed    9.400000\n",
       "0x784cd229365da627650072e74252bae94a4d9d3a8e40a91e4e0d895016e5147e    6.142857\n",
       "0x86be180d8983cc69401225ae3b71adbb8ea7e1b17b9b608fe6e06d40644e98b3    5.888889\n",
       "0x8ae48bec0de7ae48662ea6db52ab03663c8eebb76f9f81fa4e557ff8187509f9    9.258065\n",
       "0x8f0226c30ad6b1b2f1abe27dd7e46cf6112150d8d486ac4ab0eaa2004b80be98    7.966667\n",
       "0x90986e5e221c31bdae1c0b2fbfeaf73020eb6bfe6f014d147187ef019cd925b1    7.225806\n",
       "0x9ad712b3a6b172994bf0f94b0d5ef0c6cbcde696fcbce30850d240ed456c72ea    9.589744\n",
       "0x9e4ff89e98ff7b48b77c7a0dba752ce4738c4347895b9c4511716f5773265986    8.586207\n",
       "0xba3ffadbac272fd2edbf4ec0e04f28788b5e0471b768a71462f9e8f2718ac522    8.428571\n",
       "0xbf8d340e73e4d66802e7fba037d24817d1fbcef6db7d7c9f53fda23069a1bee8    6.800000\n",
       "0xc111f4074d2b4e30b64e07d8cfac65ae51dc7a85a6d36bb40f540d214efbe0cb    4.534884\n",
       "0xd869d250ba677f52bfbf8a3ca3a88608e2e3fba22a909beb9d8b07bbd85290a9    7.121212\n",
       "0xe17fd70309ee33f63868731ce58fb5e08c3759437c0bf00e8468b1d63a818a65    7.821429\n",
       "0xe42544baa16d9ba9bece07d83adc0880e1e3a2e523c838a516f20cf0d5b9b771    8.500000\n",
       "0xe874f10b8d3b9a94265ddfd47c936085f6d514d289aa593bcb482d227d7647a4    5.806452\n",
       "0xefbc22cf4df5bc0f15968061c459fa6c876d7741b51ebef4dbebbe2a780ee612    5.911765\n",
       "0xf768221843b5e45e315572dbcc38d7451f1c806210367ecd775a24545f9f9f2f    7.488889\n",
       "Name: avg_nps_score, dtype: float64"
      ]
     },
     "execution_count": 8,
     "metadata": {},
     "output_type": "execute_result"
    }
   ],
   "source": [
    "count_total_attestations = df_sim.groupby('projectRegUID')['uid'].count().rename('count_total_attestations')\n",
    "count_citizen_attestations = df_sim[df_sim.is_citizen].groupby('projectRegUID')['uid'].count().rename('count_citizen_attestations')\n",
    "count_delegate_attestations = df_sim[df_sim.is_top_delgate].groupby('projectRegUID')['uid'].count().rename('count_delegate_attestations')\n",
    "avg_nps_score = df_sim.groupby('projectRegUID')['nps_score'].mean().rename('avg_nps_score')\n",
    "avg_nps_score"
   ]
  },
  {
   "cell_type": "code",
   "execution_count": null,
   "id": "f9cbb066",
   "metadata": {},
   "outputs": [],
   "source": []
  }
 ],
 "metadata": {
  "kernelspec": {
   "display_name": "Python 3 (ipykernel)",
   "language": "python",
   "name": "python3"
  },
  "language_info": {
   "codemirror_mode": {
    "name": "ipython",
    "version": 3
   },
   "file_extension": ".py",
   "mimetype": "text/x-python",
   "name": "python",
   "nbconvert_exporter": "python",
   "pygments_lexer": "ipython3",
   "version": "3.11.5"
  }
 },
 "nbformat": 4,
 "nbformat_minor": 5
}

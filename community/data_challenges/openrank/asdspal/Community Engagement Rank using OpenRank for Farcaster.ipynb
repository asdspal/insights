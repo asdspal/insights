{
 "cells": [
  {
   "cell_type": "markdown",
   "id": "3f3dbc21",
   "metadata": {},
   "source": [
    "## Why is Community Engagement Rank a good choice for Farcaster?\n",
    "\n",
    "Community Engagement Rank is an excellent choice for analyzing the Farcaster ecosystem for several reasons:\n",
    "\n",
    "**1. Decentralized Social Network**: Farcaster is a decentralized social protocol, making engagement metrics crucial for understanding user interactions and influence.\n",
    "\n",
    "**2. User Influence**: It helps identify the most influential and active users within the Farcaster community.\n",
    "\n",
    "**3. Content Quality**: By analyzing reactions and mentions, we can gauge the quality and impact of content shared on the platform.\n",
    "\n",
    "**4. Network Growth**: It provides insights into how the Farcaster network is growing and evolving over time.\n",
    "\n"
   ]
  },
  {
   "cell_type": "code",
   "execution_count": null,
   "id": "c0987cae",
   "metadata": {},
   "outputs": [],
   "source": [
    "#Install necessary package\n",
    "!pip install openrank_sdk "
   ]
  },
  {
   "cell_type": "markdown",
   "id": "08c3200f",
   "metadata": {},
   "source": [
    "## OpenRank: A Brief Overview\n",
    "\n",
    "OpenRank is an open-source implementation of the EigenTrust algorithm, designed to compute trust scores in decentralized networks. It's particularly useful for analyzing and ranking entities in Web3 ecosystems, such as blockchain networks, decentralized social media platforms, and other peer-to-peer systems.\n",
    "\n",
    "Key features of OpenRank include:\n",
    "\n",
    "**1. Decentralized Trust Computation**: It calculates trust scores without relying on a central authority, making it ideal for decentralized networks.\n",
    "\n",
    "**2. Customizable**: It allows for the incorporation of pre-existing trust information (pretrust) and can be adapted to various types of interaction data.\n",
    "\n",
    "**3. Scalability**: OpenRank is designed to handle large-scale networks with millions of nodes and interactions.\n",
    "\n",
    "OpenRank is a powerful algorithm that operates on reputation graph data, which is constructed from peer-to-peer trust signals within a network. At its core, OpenRank interprets and analyzes complex webs of trust relationships, answering the fundamental question: \"Who trusts whom, by how much, and for what purpose?\"\n",
    "\n",
    "In this context:\n",
    "\n",
    "    1. Who (The Truster): Represents the entity extending trust. This could be a user, a node, or any participant in the network capable of expressing trust.\n",
    "\n",
    "    2. Whom (The Trustee): Denotes the recipient of trust. This is the entity being evaluated or trusted within the network.\n",
    "\n",
    "    3. How Much: Quantifies the degree or intensity of trust from the truster to the trustee. This could be represented as a numerical value or weight.\n",
    "\n",
    "    4. What (The Context): Specifies the nature or type of trust being extended. This crucial element provides context, defining the role or specific domain in which the trust is relevant.\n",
    "\n",
    "\n",
    "In the context of our Community Engagement Rank for Farcaster, OpenRank will use the interaction data (reactions and mentions) to compute trust scores for users. These scores will reflect each user's influence and engagement level within the Farcaster community, based on how often they're interacted with and mentioned by others.\n",
    "\n",
    "The OpenRank algorithm takes two main inputs:\n",
    "\n",
    "    1. Localtrust: This is derived from the direct interactions between users, which in our case comes from the SQL query results showing reactions and mentions.\n",
    "\n",
    "    2. Pretrust: This is a set of nodes (users) that are considered trustworthy from the outset. For Farcaster, this could be based on verified users or other criteria. We will be using Power Badge users from warpcast platform.\n",
    "\n",
    "By applying OpenRank to our Farcaster data, we can obtain a nuanced and sybil-resistant ranking of users based on their community engagement, providing valuable insights into the dynamics of the Farcaster ecosystem."
   ]
  },
  {
   "cell_type": "markdown",
   "id": "8d553340",
   "metadata": {},
   "source": [
    "## Power Badges\n",
    "\n",
    "Power badges are awarded to active, engaging, and non-spammy users on Warpcast. Benefits include:\n",
    "\n",
    "    1. Profile badge\n",
    "    2. Higher search ranking\n",
    "    3. Access to restricted channels\n",
    "    4. Increased follow recommendations\n",
    "\n",
    "Developers can access the list of badge holders via API for various purposes.\n",
    "\n",
    "The selection process is based on a PageRank-like system considering:\n",
    "\n",
    "    1. Recent activity\n",
    "    2. Engagement from other power users\n",
    "    3. Absence of spam flags\n",
    "\n",
    "To increase chances of earning a power badge:\n",
    "\n",
    "    1. Use Farcaster regularly\n",
    "    2. Create content that appeals to power users\n",
    "    3. Avoid posting spam or off-topic content\n",
    "\n",
    "This system aims to recognize and reward valuable contributors to the Warpcast community."
   ]
  },
  {
   "cell_type": "markdown",
   "id": "5d45ad4b",
   "metadata": {},
   "source": [
    "## LocalTrust\n",
    "\n",
    "Our Local Trust query for Farcaster focuses on two main types of interactions:\n",
    "\n",
    "    1. Reactions: When a user reacts to another user's cast (post).\n",
    "    2. Mentions: When a user mentions another user in their cast.\n",
    "\n",
    "The query aggregates these interactions over the past 30 days to create a recent engagement score. We use the OpenRank algorithm to calculate the final rank based on these interactions."
   ]
  },
  {
   "cell_type": "markdown",
   "id": "ce632fae",
   "metadata": {},
   "source": [
    "We will use Farcaster dataset from Open Source Observer hosted on big query. \n",
    "You can either run the query directly from the notebook (you will need gcp credentials for that) or copy the query and paste in the big query editor and export the result as csv file. Remember to replace the \"YOUR_PROJECT_NAME\" with your GCP project name.\n",
    "\n",
    "   \n",
    "   \n",
    "    WITH reactions AS (\n",
    "        SELECT \n",
    "            FID,\n",
    "            CAST(TARGET_CAST_FID AS STRING) AS interaction_id,\n",
    "            COUNT(*) AS interactions\n",
    "        FROM \n",
    "            {YOUR_PROJECT_NAME}.farcaster.reactions\n",
    "        WHERE \n",
    "            TIMESTAMP >= TIMESTAMP_SUB(CURRENT_TIMESTAMP(), INTERVAL 30 DAY)\n",
    "            AND DELETED_AT IS NULL\n",
    "        GROUP BY \n",
    "            FID, TARGET_CAST_FID\n",
    "    ),\n",
    "    mentions AS (\n",
    "        SELECT \n",
    "            FID,\n",
    "            JSON_VALUE(m, '$') AS interaction_id,\n",
    "            COUNT(*) AS interactions\n",
    "        FROM \n",
    "            {YOUR_PROJECT_NAME}.farcaster.casts,\n",
    "            UNNEST(JSON_EXTRACT_ARRAY(MENTIONS)) AS m\n",
    "        WHERE \n",
    "            TIMESTAMP >= TIMESTAMP_SUB(CURRENT_TIMESTAMP(), INTERVAL 30 DAY)\n",
    "            AND DELETED_AT IS NULL\n",
    "        GROUP BY \n",
    "            FID, JSON_VALUE(m, '$')\n",
    "    )\n",
    "    SELECT fid, interaction_id, interactions\n",
    "    FROM reactions\n",
    "    UNION ALL\n",
    "    SELECT fid, interaction_id, interactions\n",
    "    FROM mentions\n",
    "    ORDER BY interactions DESC\n",
    "    LIMIT 100000\n",
    "\n"
   ]
  },
  {
   "cell_type": "markdown",
   "id": "dbcc9e98",
   "metadata": {},
   "source": [
    "## Explaination of the LocalTrust Query\n",
    "\n",
    "This query is designed to aggregate and combine interaction data from two different sources within open source observer's farcaster dataset hosted on BigQuery dataset. It uses Common Table Expressions (CTEs) to organize the data before combining the results. Here's a detailed breakdown of each part of the query:\n",
    "\n",
    "### CTE: `reactions`\n",
    "\n",
    "1. **Purpose**: \n",
    "   - This CTE aggregates interaction data from the `reactions` table.\n",
    "\n",
    "2. **SELECT Clause**:\n",
    "   - `FID`: The unique identifier for the user or entity initiating the interaction.\n",
    "   - `CAST(TARGET_CAST_FID AS STRING) AS interaction_id`: Converts the target interaction ID to a string for consistent data type handling.\n",
    "   - `COUNT(*) AS interactions`: Counts the number of interactions for each `FID` and `TARGET_CAST_FID` pair.\n",
    "\n",
    "3. **FROM Clause**:\n",
    "   - `{YOUR_PROJECT_NAME}.farcaster.reactions`: Specifies the table containing reaction data. #project name\n",
    "\n",
    "4. **WHERE Clause**:\n",
    "   - `TIMESTAMP >= TIMESTAMP_SUB(CURRENT_TIMESTAMP(), INTERVAL 30 DAY)`: Filters records to include only those from the last 30 days.\n",
    "   - `DELETED_AT IS NULL`: Ensures only active (non-deleted) records are included.\n",
    "\n",
    "5. **GROUP BY Clause**:\n",
    "   - Groups the results by `FID` and `TARGET_CAST_FID` to aggregate the interaction counts.\n",
    "\n",
    "### CTE: `mentions`\n",
    "\n",
    "1. **Purpose**: \n",
    "   - This CTE aggregates mention data from the `casts` table.\n",
    "\n",
    "2. **SELECT Clause**:\n",
    "   - `FID`: The unique identifier for the user or entity making the mention.\n",
    "   - `CAST(JSON_VALUE(m) AS STRING) AS interaction_id`: Extracts and casts each mention from the JSON array to a string.\n",
    "   - `COUNT(*) AS interactions`: Counts the number of mentions for each `FID` and mention.\n",
    "\n",
    "3. **FROM Clause**:\n",
    "   - `{YOUR_PROJECT_NAME}.farcaster.casts`: Specifies the table containing cast data.\n",
    "   - `UNNEST(JSON_EXTRACT_ARRAY(mentions)) AS m`: Flattens the JSON array of mentions into individual elements for processing.\n",
    "\n",
    "4. **WHERE Clause**:\n",
    "   - `TIMESTAMP >= TIMESTAMP_SUB(CURRENT_TIMESTAMP(), INTERVAL 30 DAY)`: Filters records to include only those from the last 30 days.\n",
    "   - `DELETED_AT IS NULL`: Ensures only active (non-deleted) records are included.\n",
    "\n",
    "5. **GROUP BY Clause**:\n",
    "   - Groups the results by `FID` and the extracted mention to aggregate the mention counts.\n",
    "\n",
    "### Final SELECT and UNION ALL\n",
    "\n",
    "1. **SELECT Clause**:\n",
    "   - Combines the results from both CTEs, selecting `fid`, `interaction_id`, and `interactions`.\n",
    "\n",
    "2. **UNION ALL**:\n",
    "   - Combines the results from the `reactions` and `mentions` CTEs into a single result set. `UNION ALL` is used to include all records from both CTEs without removing duplicates.\n",
    "\n",
    "3. **ORDER BY Clause**:\n",
    "   - Orders the combined results by the number of interactions in descending order, so the most interacted-with items appear first.\n",
    "\n",
    "4. **LIMIT Clause**:\n",
    "   - Limits the final result set to 100,000 records to manage the size of the output.\n",
    "\n",
    "### Overall Purpose\n",
    "\n",
    "The query is designed to provide a comprehensive view of interactions and mentions over the past 30 days, combining data from two different sources and presenting it in a unified format. This can be useful for analyzing user engagement or activity trends within the dataset."
   ]
  },
  {
   "cell_type": "markdown",
   "id": "dd682189",
   "metadata": {},
   "source": [
    "# Run OpenRank on Farcaster data"
   ]
  },
  {
   "cell_type": "code",
   "execution_count": 1,
   "id": "770011a5",
   "metadata": {},
   "outputs": [
    {
     "data": {
      "text/html": [
       "<div>\n",
       "<style scoped>\n",
       "    .dataframe tbody tr th:only-of-type {\n",
       "        vertical-align: middle;\n",
       "    }\n",
       "\n",
       "    .dataframe tbody tr th {\n",
       "        vertical-align: top;\n",
       "    }\n",
       "\n",
       "    .dataframe thead th {\n",
       "        text-align: right;\n",
       "    }\n",
       "</style>\n",
       "<table border=\"1\" class=\"dataframe\">\n",
       "  <thead>\n",
       "    <tr style=\"text-align: right;\">\n",
       "      <th></th>\n",
       "      <th>fid</th>\n",
       "      <th>interaction_id</th>\n",
       "      <th>interactions</th>\n",
       "    </tr>\n",
       "  </thead>\n",
       "  <tbody>\n",
       "    <tr>\n",
       "      <th>0</th>\n",
       "      <td>403507</td>\n",
       "      <td>781098</td>\n",
       "      <td>87236</td>\n",
       "    </tr>\n",
       "    <tr>\n",
       "      <th>1</th>\n",
       "      <td>538721</td>\n",
       "      <td>503116</td>\n",
       "      <td>8984</td>\n",
       "    </tr>\n",
       "    <tr>\n",
       "      <th>2</th>\n",
       "      <td>284439</td>\n",
       "      <td>8446</td>\n",
       "      <td>5764</td>\n",
       "    </tr>\n",
       "    <tr>\n",
       "      <th>3</th>\n",
       "      <td>405154</td>\n",
       "      <td>244062</td>\n",
       "      <td>3940</td>\n",
       "    </tr>\n",
       "    <tr>\n",
       "      <th>4</th>\n",
       "      <td>460287</td>\n",
       "      <td>272116</td>\n",
       "      <td>3866</td>\n",
       "    </tr>\n",
       "  </tbody>\n",
       "</table>\n",
       "</div>"
      ],
      "text/plain": [
       "      fid  interaction_id  interactions\n",
       "0  403507          781098         87236\n",
       "1  538721          503116          8984\n",
       "2  284439            8446          5764\n",
       "3  405154          244062          3940\n",
       "4  460287          272116          3866"
      ]
     },
     "execution_count": 1,
     "metadata": {},
     "output_type": "execute_result"
    }
   ],
   "source": [
    "## let read the data\n",
    "import pandas as pd\n",
    "\n",
    "localtrust = pd.read_csv(\"LocalTrust.csv\")\n",
    "localtrust.head()"
   ]
  },
  {
   "cell_type": "code",
   "execution_count": 2,
   "id": "1677407b",
   "metadata": {},
   "outputs": [],
   "source": [
    "localtrust['fid']=localtrust['fid'].astype(str)\n",
    "localtrust['interaction_id']=localtrust['interaction_id'].astype(str)"
   ]
  },
  {
   "cell_type": "code",
   "execution_count": 3,
   "id": "78af30e2",
   "metadata": {},
   "outputs": [],
   "source": [
    "localtrust = localtrust[localtrust['fid'] != localtrust['interaction_id']]\n",
    "localtrust = localtrust[localtrust['interactions']>10]"
   ]
  },
  {
   "cell_type": "code",
   "execution_count": 4,
   "id": "812bbc0b",
   "metadata": {},
   "outputs": [
    {
     "data": {
      "text/plain": [
       "fid               object\n",
       "interaction_id    object\n",
       "interactions       int64\n",
       "dtype: object"
      ]
     },
     "execution_count": 4,
     "metadata": {},
     "output_type": "execute_result"
    }
   ],
   "source": [
    "localtrust.dtypes"
   ]
  },
  {
   "cell_type": "markdown",
   "id": "9fe701fa",
   "metadata": {},
   "source": [
    "## PreTrust\n",
    "\n",
    "As said earlier, we will be use power badge users."
   ]
  },
  {
   "cell_type": "code",
   "execution_count": 12,
   "id": "322f4371",
   "metadata": {},
   "outputs": [
    {
     "name": "stdout",
     "output_type": "stream",
     "text": [
      "  % Total    % Received % Xferd  Average Speed   Time    Time     Time  Current\n",
      "                                 Dload  Upload   Total   Spent    Left  Speed\n",
      "100 11937  100 11937    0     0  19160      0 --:--:-- --:--:-- --:--:-- 19129\n"
     ]
    }
   ],
   "source": [
    "#we will user warpcast api to get the current power badge users.\n",
    "!curl https://api.warpcast.com/v2/power-badge-users | jq > power-badge.json"
   ]
  },
  {
   "cell_type": "code",
   "execution_count": 5,
   "id": "b3f24811",
   "metadata": {},
   "outputs": [],
   "source": [
    "import json\n",
    "\n",
    "with open(\"power-badge.json\", \"r\") as f:\n",
    "    powerBadgeUsers = json.load(f)"
   ]
  },
  {
   "cell_type": "code",
   "execution_count": 6,
   "id": "630c5e75",
   "metadata": {},
   "outputs": [],
   "source": [
    "pretrust = [x for x in powerBadgeUsers['result']['fids']]"
   ]
  },
  {
   "cell_type": "markdown",
   "id": "fbbaa166",
   "metadata": {},
   "source": [
    "## OpenRank"
   ]
  },
  {
   "cell_type": "code",
   "execution_count": 7,
   "id": "a1497d89",
   "metadata": {},
   "outputs": [],
   "source": [
    "#let's select only those power badge user who are in localtrust\n",
    "all_fids = set(localtrust['fid']).union(set(localtrust['interaction_id']))\n",
    "pretrust = [str(x) for x in pretrust if x in all_fids]"
   ]
  },
  {
   "cell_type": "code",
   "execution_count": 8,
   "id": "87925059",
   "metadata": {},
   "outputs": [],
   "source": [
    "# create the graphs from LocalTrust and preTrust\n",
    "\n",
    "localtrust_graph = [{'i': row['fid'], 'j':row['interaction_id'], 'v':row['interactions']} \n",
    "                                        for i, row in localtrust.iterrows()]\n",
    "pretrust_graph = [{'i':fid, 'v':10000} for fid in pretrust]"
   ]
  },
  {
   "cell_type": "code",
   "execution_count": null,
   "id": "f9852d42",
   "metadata": {},
   "outputs": [],
   "source": [
    "# Use openrank\n",
    "from openrank_sdk import EigenTrust\n",
    "\n",
    "a = EigenTrust()\n",
    "farcaster_user_rank = a.run_eigentrust(localtrust_graph, pretrust_graph)\n",
    "farcaster_user_rank[:10]"
   ]
  },
  {
   "cell_type": "code",
   "execution_count": null,
   "id": "667b54f0",
   "metadata": {},
   "outputs": [],
   "source": []
  }
 ],
 "metadata": {
  "kernelspec": {
   "display_name": "Python 3 (ipykernel)",
   "language": "python",
   "name": "python3"
  },
  "language_info": {
   "codemirror_mode": {
    "name": "ipython",
    "version": 3
   },
   "file_extension": ".py",
   "mimetype": "text/x-python",
   "name": "python",
   "nbconvert_exporter": "python",
   "pygments_lexer": "ipython3",
   "version": "3.9.17"
  }
 },
 "nbformat": 4,
 "nbformat_minor": 5
}

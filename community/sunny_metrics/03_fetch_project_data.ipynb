{
 "cells": [
  {
   "cell_type": "markdown",
   "id": "a0683d20",
   "metadata": {},
   "source": [
    "# 03 Fetch onchain data about projects\n",
    "\n",
    "Grabs lots of data from differnet sources. Requires credentials and several GB storage. Not for the faint of heart."
   ]
  },
  {
   "cell_type": "code",
   "execution_count": 1,
   "id": "def9dccc-48cc-412f-9d19-baaa588d9f71",
   "metadata": {},
   "outputs": [],
   "source": [
    "from dotenv import load_dotenv\n",
    "from google.cloud import bigquery\n",
    "from dune_client.types import QueryParameter\n",
    "from dune_client.client import DuneClient\n",
    "from dune_client.query import QueryBase\n",
    "import os\n",
    "import pandas as pd\n",
    "import re"
   ]
  },
  {
   "cell_type": "code",
   "execution_count": 2,
   "id": "a80a1b79",
   "metadata": {},
   "outputs": [],
   "source": [
    "load_dotenv()\n",
    "\n",
    "PROJECT = 'opensource-observer'\n",
    "os.environ['GOOGLE_APPLICATION_CREDENTIALS'] = \"../../oso_gcp_credentials.json\"\n",
    "client = bigquery.Client()\n",
    "\n",
    "DUNE_API_KEY = os.getenv('DUNE_API_KEY')\n",
    "dune = DuneClient(DUNE_API_KEY)"
   ]
  },
  {
   "cell_type": "code",
   "execution_count": 3,
   "id": "5cd32909",
   "metadata": {},
   "outputs": [
    {
     "data": {
      "text/html": [
       "<div>\n",
       "<style scoped>\n",
       "    .dataframe tbody tr th:only-of-type {\n",
       "        vertical-align: middle;\n",
       "    }\n",
       "\n",
       "    .dataframe tbody tr th {\n",
       "        vertical-align: top;\n",
       "    }\n",
       "\n",
       "    .dataframe thead th {\n",
       "        text-align: right;\n",
       "    }\n",
       "</style>\n",
       "<table border=\"1\" class=\"dataframe\">\n",
       "  <thead>\n",
       "    <tr style=\"text-align: right;\">\n",
       "      <th></th>\n",
       "      <th>recipient</th>\n",
       "      <th>project_type</th>\n",
       "      <th>category</th>\n",
       "      <th>address</th>\n",
       "      <th>chain</th>\n",
       "      <th>contract_type</th>\n",
       "    </tr>\n",
       "    <tr>\n",
       "      <th>uuid</th>\n",
       "      <th></th>\n",
       "      <th></th>\n",
       "      <th></th>\n",
       "      <th></th>\n",
       "      <th></th>\n",
       "      <th></th>\n",
       "    </tr>\n",
       "  </thead>\n",
       "  <tbody>\n",
       "    <tr>\n",
       "      <th>49ee3492-1af1-41e2-8ef2-f5f388470d46</th>\n",
       "      <td>0x9b7816f3eb2d35A24edD9BB4F33f05E9a2332494</td>\n",
       "      <td>App</td>\n",
       "      <td>DEX</td>\n",
       "      <td>0x9b7816f3eb2d35a24edd9bb4f33f05e9a2332494</td>\n",
       "      <td>Base</td>\n",
       "      <td>dapp_contract</td>\n",
       "    </tr>\n",
       "  </tbody>\n",
       "</table>\n",
       "</div>"
      ],
      "text/plain": [
       "                                                                       recipient  \\\n",
       "uuid                                                                               \n",
       "49ee3492-1af1-41e2-8ef2-f5f388470d46  0x9b7816f3eb2d35A24edD9BB4F33f05E9a2332494   \n",
       "\n",
       "                                     project_type category  \\\n",
       "uuid                                                         \n",
       "49ee3492-1af1-41e2-8ef2-f5f388470d46          App      DEX   \n",
       "\n",
       "                                                                         address  \\\n",
       "uuid                                                                               \n",
       "49ee3492-1af1-41e2-8ef2-f5f388470d46  0x9b7816f3eb2d35a24edd9bb4f33f05e9a2332494   \n",
       "\n",
       "                                     chain  contract_type  \n",
       "uuid                                                       \n",
       "49ee3492-1af1-41e2-8ef2-f5f388470d46  Base  dapp_contract  "
      ]
     },
     "execution_count": 3,
     "metadata": {},
     "output_type": "execute_result"
    }
   ],
   "source": [
    "projects = pd.read_csv('data/apps/project_apps_labeled.csv', index_col=0).set_index('uuid')\n",
    "projects.tail(1)"
   ]
  },
  {
   "cell_type": "code",
   "execution_count": 4,
   "id": "b9e1878e",
   "metadata": {},
   "outputs": [
    {
     "data": {
      "text/plain": [
       "contract_type\n",
       "dapp_contract       157\n",
       "trace_contract       40\n",
       "unknown              27\n",
       "token_contract       23\n",
       "factory_contract     16\n",
       "mint                  8\n",
       "swanchain             4\n",
       "kroma                 4\n",
       "cyber                 2\n",
       "orderly               2\n",
       "polynomial            2\n",
       "lisk                  1\n",
       "redstone              1\n",
       "Name: count, dtype: int64"
      ]
     },
     "execution_count": 4,
     "metadata": {},
     "output_type": "execute_result"
    }
   ],
   "source": [
    "projects['contract_type'].value_counts()"
   ]
  },
  {
   "cell_type": "code",
   "execution_count": 5,
   "id": "e1c46e7a",
   "metadata": {},
   "outputs": [],
   "source": [
    "event_data = []"
   ]
  },
  {
   "cell_type": "markdown",
   "id": "c5dc256b",
   "metadata": {},
   "source": [
    "## Part 1. Get token data from Dune"
   ]
  },
  {
   "cell_type": "code",
   "execution_count": 6,
   "id": "da3409f6",
   "metadata": {},
   "outputs": [],
   "source": [
    "this_contract_type = 'token_contract'"
   ]
  },
  {
   "cell_type": "code",
   "execution_count": 7,
   "id": "23efa34e",
   "metadata": {},
   "outputs": [],
   "source": [
    "token_addresses = list(projects[projects['contract_type'] == this_contract_type]['address'].unique())\n",
    "token_addresses_str = ',\\n\\t\\t'.join(token_addresses)\n",
    "query_sql = f\"\"\"\n",
    "    with\n",
    "      transfers as (\n",
    "        select\n",
    "          concat(blockchain, ' ', cast(contract_address as varchar)) as contract_address,\n",
    "          to_char(block_date, 'yyyy-mm-dd') as block_date,\n",
    "          tx_from,\n",
    "          tx_to\n",
    "        from\n",
    "          tokens.transfers as transfers\n",
    "        where\n",
    "          contract_address in (\n",
    "                {token_addresses_str}\n",
    "          )\n",
    "          and blockchain in ('base', 'optimism', 'zora')\n",
    "          and block_date between date('2024-02-01') and date('2024-09-01')\n",
    "      ),\n",
    "      union_events as (\n",
    "        select\n",
    "          contract_address,\n",
    "          block_date,\n",
    "          tx_from as user_address,\n",
    "          0.5 as amount\n",
    "        from\n",
    "          transfers\n",
    "        union all\n",
    "        select\n",
    "          contract_address,\n",
    "          block_date,\n",
    "          tx_to as user_address,\n",
    "          0.5 as amount\n",
    "        from\n",
    "          transfers\n",
    "      ),\n",
    "      pre_agg_events as (\n",
    "        select\n",
    "          contract_address,\n",
    "          block_date,\n",
    "          user_address,\n",
    "          sum(amount) as count_transactions\n",
    "        from\n",
    "          union_events\n",
    "        group by\n",
    "          contract_address,\n",
    "          block_date,\n",
    "          user_address\n",
    "      )\n",
    "    select\n",
    "      contract_address,\n",
    "      user_address,\n",
    "      array_agg(\n",
    "        (block_date, count_transactions)\n",
    "        order by\n",
    "          block_date\n",
    "      ) as transaction_details\n",
    "    from\n",
    "      pre_agg_events\n",
    "    group by\n",
    "      contract_address,\n",
    "      user_address\n",
    "    \"\"\""
   ]
  },
  {
   "cell_type": "code",
   "execution_count": 8,
   "id": "c4d430ab",
   "metadata": {},
   "outputs": [
    {
     "data": {
      "text/html": [
       "<div>\n",
       "<style scoped>\n",
       "    .dataframe tbody tr th:only-of-type {\n",
       "        vertical-align: middle;\n",
       "    }\n",
       "\n",
       "    .dataframe tbody tr th {\n",
       "        vertical-align: top;\n",
       "    }\n",
       "\n",
       "    .dataframe thead th {\n",
       "        text-align: right;\n",
       "    }\n",
       "</style>\n",
       "<table border=\"1\" class=\"dataframe\">\n",
       "  <thead>\n",
       "    <tr style=\"text-align: right;\">\n",
       "      <th></th>\n",
       "      <th>contract_address</th>\n",
       "      <th>user_address</th>\n",
       "      <th>transaction_details</th>\n",
       "      <th>transactions</th>\n",
       "    </tr>\n",
       "  </thead>\n",
       "  <tbody>\n",
       "    <tr>\n",
       "      <th>596152</th>\n",
       "      <td>base 0x940181a94a35a4569e4529a3cdfb74e38fd98631</td>\n",
       "      <td>0x20313461ea24b6aae8a2d4cf39751d5e6458152c</td>\n",
       "      <td>[[2024-06-12 0.5]]</td>\n",
       "      <td>[(2024-06-12, 0.5)]</td>\n",
       "    </tr>\n",
       "  </tbody>\n",
       "</table>\n",
       "</div>"
      ],
      "text/plain": [
       "                                       contract_address  \\\n",
       "596152  base 0x940181a94a35a4569e4529a3cdfb74e38fd98631   \n",
       "\n",
       "                                      user_address transaction_details  \\\n",
       "596152  0x20313461ea24b6aae8a2d4cf39751d5e6458152c  [[2024-06-12 0.5]]   \n",
       "\n",
       "               transactions  \n",
       "596152  [(2024-06-12, 0.5)]  "
      ]
     },
     "execution_count": 8,
     "metadata": {},
     "output_type": "execute_result"
    }
   ],
   "source": [
    "# query_id = dune.create_query(name='sunny_tokens', query_sql=query_sql, is_private=False)\n",
    "# query = QueryBase(name='sunny_tokens', query_id=query_id.base.query_id)\n",
    "# results_df = dune.run_query_dataframe(query)\n",
    "# results_df.to_parquet('data/raw_metric_data/dune_raw_token_transfers.parquet')\n",
    "results_df = pd.read_parquet('data/raw_metric_data/dune_raw_token_transfers.parquet')\n",
    "\n",
    "def parse_string(row):\n",
    "    matches = re.findall(r'\\[(\\d{4}-\\d{2}-\\d{2}) (\\d+\\.?\\d*)\\]', row)\n",
    "    return [(date, float(value)) for date, value in matches]\n",
    "\n",
    "results_df['transactions'] = results_df['transaction_details'].apply(parse_string)\n",
    "results_df.tail(1)"
   ]
  },
  {
   "cell_type": "code",
   "execution_count": 9,
   "id": "162c06db",
   "metadata": {},
   "outputs": [],
   "source": [
    "for uuid, project_data in projects.iterrows():\n",
    "    if project_data['contract_type'] != this_contract_type:\n",
    "        continue\n",
    "    address = project_data['address']\n",
    "    chain = project_data['chain']\n",
    "    lbl = f\"{chain.lower()} {address}\"\n",
    "    \n",
    "    for user_address, transactions in (\n",
    "        results_df[results_df['contract_address'] == lbl]\n",
    "        .set_index('user_address')\n",
    "        ['transactions']\n",
    "        .items()\n",
    "    ):\n",
    "        for (date,amount) in transactions:\n",
    "            event_data.append({\n",
    "                'uuid': uuid,\n",
    "                'chain': chain,\n",
    "                'contract_address': address,\n",
    "                'contract_type': this_contract_type,\n",
    "                'user_address': user_address,\n",
    "                'date': date,\n",
    "                'count_transactions': amount\n",
    "            })"
   ]
  },
  {
   "cell_type": "markdown",
   "id": "d750d536",
   "metadata": {},
   "source": [
    "## Part 2. Get OSO dapp transactions"
   ]
  },
  {
   "cell_type": "code",
   "execution_count": 10,
   "id": "ee8da38e",
   "metadata": {},
   "outputs": [],
   "source": [
    "this_contract_type = 'dapp_contract'"
   ]
  },
  {
   "cell_type": "code",
   "execution_count": 11,
   "id": "b91d3282",
   "metadata": {},
   "outputs": [],
   "source": [
    "dapp_addresses = list(projects[projects['contract_type'] == this_contract_type]['address'].unique())\n",
    "dapp_addresses_str = \"'\" + \"','\".join(dapp_addresses) + \"'\""
   ]
  },
  {
   "cell_type": "code",
   "execution_count": 12,
   "id": "281c75af",
   "metadata": {},
   "outputs": [],
   "source": [
    "query = f\"\"\"\n",
    "  select\n",
    "      date,\n",
    "      to_address as contract_address,\n",
    "      from_address as user_address,\n",
    "      chain,\n",
    "      transactions\n",
    "    from `{PROJECT}.static_data_sources.sunny_transactions`\n",
    "    where to_address in ({dapp_addresses_str})\n",
    "\"\"\"\n",
    "# result = client.query(query)\n",
    "# txns_df = result.to_dataframe()\n",
    "# txns_df.to_parquet('data/raw_metric_data/oso_raw_dapp_txns.parquet')\n",
    "txns_df = pd.read_parquet('data/raw_metric_data/oso_raw_dapp_txns.parquet')"
   ]
  },
  {
   "cell_type": "code",
   "execution_count": 13,
   "id": "3afbac19",
   "metadata": {},
   "outputs": [],
   "source": [
    "for uuid, project_data in projects.iterrows():\n",
    "    if project_data['contract_type'] != this_contract_type:\n",
    "        continue\n",
    "    address = project_data['address']\n",
    "    chain = project_data['chain']\n",
    "    \n",
    "    for ((user_address, date), amount) in (\n",
    "        txns_df[(txns_df['contract_address'] == address) & (txns_df['chain'] == chain)]\n",
    "        .set_index(['user_address', 'date'])\n",
    "        ['transactions']\n",
    "        .items()\n",
    "    ):\n",
    "        event_data.append({\n",
    "            'uuid': uuid,\n",
    "            'chain': chain,\n",
    "            'contract_address': address,\n",
    "            'contract_type': this_contract_type,\n",
    "            'user_address': user_address,\n",
    "            'date': date,\n",
    "            'count_transactions': amount\n",
    "        })"
   ]
  },
  {
   "cell_type": "markdown",
   "id": "2d3ad4c1",
   "metadata": {},
   "source": [
    "## Part 3: Get OSO trace events"
   ]
  },
  {
   "cell_type": "code",
   "execution_count": 14,
   "id": "0fd5d0be",
   "metadata": {},
   "outputs": [],
   "source": [
    "this_contract_type = 'trace_contract'"
   ]
  },
  {
   "cell_type": "code",
   "execution_count": 15,
   "id": "908309d8",
   "metadata": {},
   "outputs": [],
   "source": [
    "trace_addresses = list(projects[projects['contract_type'] == this_contract_type]['address'].unique())\n",
    "trace_addresses_str = \"'\" + \"','\".join(trace_addresses) + \"'\""
   ]
  },
  {
   "cell_type": "code",
   "execution_count": 16,
   "id": "be375364",
   "metadata": {},
   "outputs": [],
   "source": [
    "query = f\"\"\"\n",
    "    with traces as (\n",
    "      select\n",
    "        format_date('%Y-%m-%d', CAST(block_timestamp AS DATE)) AS date,\n",
    "        transaction_hash,\n",
    "        chain,\n",
    "        to_address as contract_address,\n",
    "        from_address as user_address\n",
    "      from `{PROJECT}.static_data_sources.sunny_traces`\n",
    "        where to_address in ({trace_addresses_str})\n",
    "\n",
    "    union all\n",
    "\n",
    "      select\n",
    "        format_date('%Y-%m-%d', CAST(block_timestamp AS DATE)) AS date,\n",
    "        transaction_hash,\n",
    "        chain,\n",
    "        from_address as contract_address,\n",
    "        to_address as user_address\n",
    "      from `{PROJECT}.static_data_sources.sunny_traces`\n",
    "        where from_address in ({trace_addresses_str})\n",
    "    )\n",
    "\n",
    "    select \n",
    "      date,\n",
    "      chain,\n",
    "      contract_address,\n",
    "      user_address,\n",
    "      approx_count_distinct(transaction_hash) as transactions\n",
    "    from traces\n",
    "    group by \n",
    "      date,\n",
    "      chain,\n",
    "      contract_address,\n",
    "      user_address\n",
    "\"\"\"\n",
    "# result = client.query(query)\n",
    "# traces_df = result.to_dataframe()\n",
    "# traces_df.to_parquet('data/raw_metric_data/oso_raw_trace_events.parquet')\n",
    "traces_df = pd.read_parquet('data/raw_metric_data/oso_raw_trace_events.parquet')"
   ]
  },
  {
   "cell_type": "code",
   "execution_count": 17,
   "id": "e6c3d58b",
   "metadata": {},
   "outputs": [],
   "source": [
    "for uuid, project_data in projects.iterrows():\n",
    "    if project_data['contract_type'] != this_contract_type:\n",
    "        continue\n",
    "    address = project_data['address']\n",
    "    chain = project_data['chain']\n",
    "    \n",
    "    for ((user_address, date), amount) in (\n",
    "        traces_df[(traces_df['contract_address'] == address) & (traces_df['chain'] == chain)]\n",
    "        .groupby(['user_address', 'date'])\n",
    "        ['transactions']\n",
    "        .sum()\n",
    "        .items()\n",
    "    ):\n",
    "        event_data.append({\n",
    "            'uuid': uuid,\n",
    "            'chain': chain,\n",
    "            'contract_address': address,\n",
    "            'contract_type': this_contract_type,\n",
    "            'user_address': user_address,\n",
    "            'date': date,\n",
    "            'count_transactions': amount\n",
    "        })"
   ]
  },
  {
   "cell_type": "markdown",
   "id": "afef9135",
   "metadata": {},
   "source": [
    "## Part 4. Consolidate and join on Farcaster data"
   ]
  },
  {
   "cell_type": "code",
   "execution_count": 18,
   "id": "e7cc76b0",
   "metadata": {},
   "outputs": [],
   "source": [
    "FARCASTER_DUMP = 'data/raw_metric_data/farcaster.parquet'\n",
    "\n",
    "fc = pd.read_parquet(FARCASTER_DUMP)\n",
    "fids = fc['fid'].to_dict()\n",
    "fusers = fc['username'].to_dict()"
   ]
  },
  {
   "cell_type": "code",
   "execution_count": 19,
   "id": "6585fc63",
   "metadata": {},
   "outputs": [
    {
     "data": {
      "text/html": [
       "<div>\n",
       "<style scoped>\n",
       "    .dataframe tbody tr th:only-of-type {\n",
       "        vertical-align: middle;\n",
       "    }\n",
       "\n",
       "    .dataframe tbody tr th {\n",
       "        vertical-align: top;\n",
       "    }\n",
       "\n",
       "    .dataframe thead th {\n",
       "        text-align: right;\n",
       "    }\n",
       "</style>\n",
       "<table border=\"1\" class=\"dataframe\">\n",
       "  <thead>\n",
       "    <tr style=\"text-align: right;\">\n",
       "      <th></th>\n",
       "      <th>uuid</th>\n",
       "      <th>chain</th>\n",
       "      <th>contract_address</th>\n",
       "      <th>contract_type</th>\n",
       "      <th>user_address</th>\n",
       "      <th>date</th>\n",
       "      <th>count_transactions</th>\n",
       "      <th>farcaster_id</th>\n",
       "      <th>farcaster_username</th>\n",
       "      <th>recipient</th>\n",
       "    </tr>\n",
       "  </thead>\n",
       "  <tbody>\n",
       "    <tr>\n",
       "      <th>5521952</th>\n",
       "      <td>1c0ae0df-9238-497d-8fa0-ad05f381cf34</td>\n",
       "      <td>Base</td>\n",
       "      <td>0x52b7fdb72db7b1279919ec1cf69d3f5cb51d1243</td>\n",
       "      <td>trace_contract</td>\n",
       "      <td>0xd120c31eb8a5e43144361e3266d701b38ea4ed63</td>\n",
       "      <td>2024-08-28</td>\n",
       "      <td>6.0</td>\n",
       "      <td>NaN</td>\n",
       "      <td>NaN</td>\n",
       "      <td>0xf3B06b503652a5E075D423F97056DFde0C4b066F</td>\n",
       "    </tr>\n",
       "  </tbody>\n",
       "</table>\n",
       "</div>"
      ],
      "text/plain": [
       "                                         uuid chain  \\\n",
       "5521952  1c0ae0df-9238-497d-8fa0-ad05f381cf34  Base   \n",
       "\n",
       "                                   contract_address   contract_type  \\\n",
       "5521952  0x52b7fdb72db7b1279919ec1cf69d3f5cb51d1243  trace_contract   \n",
       "\n",
       "                                       user_address        date  \\\n",
       "5521952  0xd120c31eb8a5e43144361e3266d701b38ea4ed63  2024-08-28   \n",
       "\n",
       "         count_transactions farcaster_id farcaster_username  \\\n",
       "5521952                 6.0          NaN                NaN   \n",
       "\n",
       "                                          recipient  \n",
       "5521952  0xf3B06b503652a5E075D423F97056DFde0C4b066F  "
      ]
     },
     "execution_count": 19,
     "metadata": {},
     "output_type": "execute_result"
    }
   ],
   "source": [
    "df = pd.DataFrame(event_data)\n",
    "df['farcaster_id'] = df['user_address'].map(fids)\n",
    "df['farcaster_username'] = df['user_address'].map(fusers)\n",
    "df['recipient'] = df['uuid'].map(projects['recipient'].to_dict())\n",
    "\n",
    "df.tail(1)"
   ]
  },
  {
   "cell_type": "code",
   "execution_count": 20,
   "id": "47e91484",
   "metadata": {},
   "outputs": [],
   "source": [
    "df.to_parquet(\"data/raw_metric_data/project_events.parquet\")"
   ]
  }
 ],
 "metadata": {
  "kernelspec": {
   "display_name": "Python 3 (ipykernel)",
   "language": "python",
   "name": "python3"
  },
  "language_info": {
   "codemirror_mode": {
    "name": "ipython",
    "version": 3
   },
   "file_extension": ".py",
   "mimetype": "text/x-python",
   "name": "python",
   "nbconvert_exporter": "python",
   "pygments_lexer": "ipython3",
   "version": "3.11.5"
  }
 },
 "nbformat": 4,
 "nbformat_minor": 5
}

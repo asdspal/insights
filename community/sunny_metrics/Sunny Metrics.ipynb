{
 "cells": [
  {
   "cell_type": "code",
   "execution_count": 7,
   "id": "5eaef169",
   "metadata": {},
   "outputs": [],
   "source": [
    "from dotenv import load_dotenv\n",
    "import json\n",
    "import os\n",
    "import pandas as pd\n",
    "import requests"
   ]
  },
  {
   "cell_type": "code",
   "execution_count": 12,
   "id": "cb6733e9",
   "metadata": {},
   "outputs": [],
   "source": [
    "load_dotenv()\n",
    "EZRF_API_KEY = os.getenv('EZRF_API_KEY')\n",
    "CHAIN_MAPPINGS = json.load(open('data/chains.json', 'r'))"
   ]
  },
  {
   "cell_type": "code",
   "execution_count": 13,
   "id": "aad13ddd",
   "metadata": {},
   "outputs": [
    {
     "name": "stdout",
     "output_type": "stream",
     "text": [
      "Data fetched successfully!\n"
     ]
    }
   ],
   "source": [
    "url = 'https://ezrf-impact.vercel.app/api/trpc/projects.list?input=%7B%22json%22%3A%7B%22limit%22%3A1000%2C%22cursor%22%3A0%7D%7D'\n",
    "headers = {\n",
    "    'content-type': 'application/json',\n",
    "    'round-id': 'the-sunnys',\n",
    "    'x-api-key': EZRF_API_KEY\n",
    "}\n",
    "response = requests.get(url, headers=headers)\n",
    "if response.status_code == 200:\n",
    "    data = response.json()\n",
    "    print(\"Data fetched successfully!\")\n",
    "else:\n",
    "    print(f\"Failed to fetch data. Status code: {response.status_code}\")"
   ]
  },
  {
   "cell_type": "code",
   "execution_count": 14,
   "id": "26ec8482",
   "metadata": {},
   "outputs": [
    {
     "name": "stdout",
     "output_type": "stream",
     "text": [
      "1000 applications received so far.\n"
     ]
    }
   ],
   "source": [
    "applications = data['result']['data']['json']\n",
    "print(len(applications), \"applications received so far.\")"
   ]
  },
  {
   "cell_type": "code",
   "execution_count": 26,
   "id": "0cbdf4fa",
   "metadata": {},
   "outputs": [
    {
     "name": "stdout",
     "output_type": "stream",
     "text": [
      "Exception at index 994: 'NoneType' object has no attribute 'get'\n"
     ]
    }
   ],
   "source": [
    "def process_application(app):\n",
    "    \n",
    "    artifact_type = []\n",
    "    address = []\n",
    "    chain = []\n",
    "    \n",
    "    profile = app.get('profile', {})\n",
    "    if not profile:\n",
    "        profile = {}\n",
    "    metadata = app.get('metadata', {})\n",
    "    awards = metadata.get('sunnyAwards', {})\n",
    "    contracts = awards.get('contracts', [])\n",
    "    \n",
    "    for contract in contracts:\n",
    "        artifact_type.append('contract')\n",
    "        address.append(contract.get('address', 'N/A'))\n",
    "        chain_id = contract.get('chainId')\n",
    "        chain.append(CHAIN_MAPPINGS.get(chain_id, 'All Superchain'))\n",
    "\n",
    "    minting_wallet_address = awards.get('mintingWalletAddress', '')\n",
    "    if minting_wallet_address:\n",
    "        artifact_type.append('mintingWallet')\n",
    "        address.append(minting_wallet_address)\n",
    "        chain.append('All Superchain') \n",
    "\n",
    "    app_data = {\n",
    "        'id': app['id'],\n",
    "        'attester': app['attester'],\n",
    "        'recipient': app['recipient'],\n",
    "        'time': app['time'],\n",
    "        'name': app['name'],\n",
    "        'schemaId': app['schemaId'],\n",
    "        'status': app['status'],\n",
    "        'round': app['round'],\n",
    "        'profile_name': profile.get('name', ''),\n",
    "        'profile_image': profile.get('profileImageUrl', ''),\n",
    "        'profile_banner': profile.get('bannerImageUrl', ''),\n",
    "        'metadata_name': metadata.get('name', ''),\n",
    "        'metadata_bio': metadata.get('bio', ''),\n",
    "        'metadata_website': metadata.get('websiteUrl', ''),\n",
    "        'sunnyAwards_project_type': awards.get('projectType', ''),\n",
    "        'sunnyAwards_category': awards.get('category', ''),\n",
    "        'sunnyAwards_category_details': awards.get('categoryDetails', ''),\n",
    "        'sunnyAwards_avatar_url': awards.get('avatarUrl', ''),\n",
    "        'sunnyAwards_cover_image_url': awards.get('coverImageUrl', ''),\n",
    "        'artifact_type': artifact_type,\n",
    "        'address': address,\n",
    "        'chain': chain\n",
    "    }\n",
    "    \n",
    "    return app_data\n",
    "\n",
    "normalized_data = []\n",
    "for (i,app) in enumerate(applications):\n",
    "    try:\n",
    "        normalized_app = process_application(app)\n",
    "        normalized_data.append(normalized_app)\n",
    "    except Exception as e:\n",
    "        print(f\"Exception at index {i}:\", e)\n",
    "        break"
   ]
  },
  {
   "cell_type": "code",
   "execution_count": 28,
   "id": "2ebea22a",
   "metadata": {},
   "outputs": [
    {
     "data": {
      "text/plain": [
       "{'id': '0x3fe449ac8bc01a83a60565e558b6bb71926e29f0132a37925f0f87ee5240ceae',\n",
       " 'refUID': '0x0000000000000000000000000000000000000000000000000000000000000000',\n",
       " 'attester': '0x8Bc704386DCE0C4f004194684AdC44Edf6e85f07',\n",
       " 'recipient': '0x0000000000000000000000000000000000000000',\n",
       " 'revoked': False,\n",
       " 'schemaId': '0xf8757b1e38ff1b0c1893e47f7d815367332bec28fea4b4abdcdfda3b1d1b9061',\n",
       " 'time': 1725267693,\n",
       " 'name': 'Superchain enables creativity',\n",
       " 'metadataPtr': 'https://cdn.charmverse.io/attestations/0xf8757b1e38ff1b0c1893e47f7d815367332bec28fea4b4abdcdfda3b1d1b9061/project-4c777e80-f963-450b-a965-892a5dc5b319/metadata.json',\n",
       " 'metadataType': {'type': 'BigNumber', 'hex': '0x00'},\n",
       " 'type': '0x6170706c69636174696f6e000000000000000000000000000000000000000000',\n",
       " 'round': '0x636d30617975733335303030357a777962347674757265753100000000000000',\n",
       " 'uuid': '4c777e80-f963-450b-a965-892a5dc5b319',\n",
       " 'profile': None,\n",
       " 'metadata': {'name': 'Superchain enables creativity',\n",
       "  'bio': 'In my opinion, how the Superchain enables creativity is by collaborating between the Superchain (as a \"forum\") and a sense of Optimism (as determination and encouragement within oneself). so that Superchain can very accurately be said to be --enabling creativity--. Like an arrow target that always gets the archer\\'s focus and best results.\\n\\n#Keep Optimistic and carry out activity with creativity',\n",
       "  'websiteUrl': 'https://warpcast.com/theorapiridwan',\n",
       "  'contributionLinks': [{'description': 'Website',\n",
       "    'type': 'Other',\n",
       "    'url': 'https://warpcast.com/theorapiridwan'}],\n",
       "  'sunnyAwards': {'projectType': 'creator',\n",
       "   'category': 'Other Media NFTs',\n",
       "   'categoryDetails': '',\n",
       "   'contracts': [],\n",
       "   'mintingWalletAddress': '0x5BAa6501CDB8be1eaA576a90f0E9b5d99a801294',\n",
       "   'projectReferences': {'charmverseId': '4c777e80-f963-450b-a965-892a5dc5b319',\n",
       "    'agoraProjectRefUID': '0x71717757152317defa33a0f9b8b95cc4112f3ed71a2985535f8ebeffde3dfcca'},\n",
       "   'avatarUrl': 'https://cdn.charmverse.io/user-content/acc36e38-a500-43a6-a9b8-27eda4543759/53ab13fb-1a50-4081-8e75-adc002d7bb2d/IMG_1287.png',\n",
       "   'coverImageUrl': 'https://cdn.charmverse.io/user-content/acc36e38-a500-43a6-a9b8-27eda4543759/3d97bef6-6bb8-4cfc-8002-a380b605244c/THE-BEST-(4).png'}},\n",
       " 'status': 'pending'}"
      ]
     },
     "execution_count": 28,
     "metadata": {},
     "output_type": "execute_result"
    }
   ],
   "source": [
    "applications[993]"
   ]
  },
  {
   "cell_type": "code",
   "execution_count": null,
   "id": "0b34585a",
   "metadata": {},
   "outputs": [],
   "source": []
  }
 ],
 "metadata": {
  "kernelspec": {
   "display_name": "Python 3 (ipykernel)",
   "language": "python",
   "name": "python3"
  },
  "language_info": {
   "codemirror_mode": {
    "name": "ipython",
    "version": 3
   },
   "file_extension": ".py",
   "mimetype": "text/x-python",
   "name": "python",
   "nbconvert_exporter": "python",
   "pygments_lexer": "ipython3",
   "version": "3.11.5"
  }
 },
 "nbformat": 4,
 "nbformat_minor": 5
}

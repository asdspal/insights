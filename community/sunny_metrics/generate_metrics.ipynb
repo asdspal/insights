{
 "cells": [
  {
   "cell_type": "code",
   "execution_count": 1,
   "id": "386f24ff-3441-48d0-a840-abd547c45aba",
   "metadata": {},
   "outputs": [],
   "source": [
    "# ! pip install flipside"
   ]
  },
  {
   "cell_type": "code",
   "execution_count": 1,
   "id": "9a11ad4b-b5c1-4c62-9964-e96d92e121c5",
   "metadata": {},
   "outputs": [],
   "source": [
    "from dotenv import load_dotenv\n",
    "import inspect\n",
    "import os\n",
    "import pandas as pd\n",
    "\n",
    "from utils import init_flipside, execute_query\n",
    "\n",
    "from queries import (\n",
    "    bridge,\n",
    "    dex,\n",
    "    farcaster,\n",
    "    lending,\n",
    "    marketplace,\n",
    "    nft,\n",
    "    rwa,\n",
    "    staking\n",
    ")"
   ]
  },
  {
   "cell_type": "code",
   "execution_count": 2,
   "id": "d361f10a",
   "metadata": {},
   "outputs": [],
   "source": [
    "load_dotenv()\n",
    "FLIPSIDE_API_KEY = os.getenv('FLIPSIDE_API_KEY')\n",
    "flipside = init_flipside(FLIPSIDE_API_KEY)\n",
    "apps = pd.read_csv('data/applications_reviewed.csv', index_col=0)"
   ]
  },
  {
   "cell_type": "code",
   "execution_count": 3,
   "id": "4479a417-d1c6-486f-b024-03c9838dd0eb",
   "metadata": {},
   "outputs": [],
   "source": [
    "METRIC_MODULES = {\n",
    "    'Art NFTs': {\n",
    "        \"module\": nft,\n",
    "        \"params\": [\"address\"]\n",
    "    },\n",
    "    'Other Media NFTs': {\n",
    "        \"module\": nft,\n",
    "        \"params\": [\"address\"]\n",
    "    },\n",
    "    'Bridges': {\n",
    "        \"module\": bridge,\n",
    "        \"params\": [\"chain\", \"address\"]\n",
    "    },\n",
    "    'DEX': {\n",
    "        \"module\": dex,\n",
    "        \"params\": [\"chain\", \"address\"]\n",
    "    },\n",
    "    'Channels': {\n",
    "        \"module\": farcaster,\n",
    "        \"params\": [\"warpcast_url\"]\n",
    "    },\n",
    "    'Frames': {\n",
    "        \"module\": None, # needs to be updated\n",
    "        \"params\": [\"warpcast_url\"]\n",
    "    },\n",
    "    'Lending': {\n",
    "        \"module\": lending,\n",
    "        \"params\": [\"chain\", \"address\"]\n",
    "    },\n",
    "    'Art Marketplace': {\n",
    "        \"module\": marketplace,\n",
    "        \"params\": [\"chain\", \"address\"]\n",
    "    },\n",
    "    'Other Media Marketplace': {\n",
    "        \"module\": marketplace,\n",
    "        \"params\": [\"chain\", \"address\"]\n",
    "    },\n",
    "    'Real World Assets': {\n",
    "        \"module\": rwa,\n",
    "        \"params\": [\"chain\", \"address\"]\n",
    "    },\n",
    "    'Staking': {\n",
    "        \"module\": staking,\n",
    "        \"params\": [\"chain\", \"address\"]\n",
    "    },\n",
    "    'Community & Curation': {\n",
    "        \"module\": None,\n",
    "        \"params\": [\"chain\", \"address\"]\n",
    "    },\n",
    "    'Gaming': {\n",
    "        \"module\": None,\n",
    "        \"params\": [\"chain\", \"address\"]\n",
    "    },\n",
    "    'Airdrop': {\n",
    "        \"module\": None,\n",
    "        \"params\": [\"chain\", \"address\"]\n",
    "    },\n",
    "    'Meme Community': {\n",
    "        \"module\": None,\n",
    "        \"params\": [\"chain\", \"address\"]\n",
    "    },\n",
    "    'Payments': {\n",
    "        \"module\": None,\n",
    "        \"params\": [\"chain\", \"address\"]\n",
    "    },    \n",
    "    'Donations': {\n",
    "        \"module\": None,\n",
    "        \"params\": [\"chain\", \"address\"]\n",
    "    },\n",
    "    'Identity': {\n",
    "        \"module\": None,\n",
    "        \"params\": [\"chain\", \"address\"]\n",
    "    },\n",
    "    'Betting & Prediction Markets': {\n",
    "        \"module\": None,\n",
    "        \"params\": [\"chain\", \"address\"]\n",
    "    },\n",
    "}"
   ]
  },
  {
   "cell_type": "code",
   "execution_count": 4,
   "id": "f320e099",
   "metadata": {},
   "outputs": [],
   "source": [
    "def query_project_metrics(project_data):    \n",
    "    uid = project_data['id']\n",
    "    category = project_data['category']\n",
    "    module_name = METRIC_MODULES.get(category).get('module')\n",
    "    if not module_name:\n",
    "        return\n",
    "    \n",
    "    metric_modules = inspect.getmembers(module_name, inspect.isfunction)\n",
    "    expected_params = METRIC_MODULES.get(category).get('params', [])\n",
    "    params = [project_data.get(p) for p in expected_params]\n",
    "    if len(params) != len(expected_params):\n",
    "        print(\"Unable to find params:\", expected_params)\n",
    "        return\n",
    "    \n",
    "    metrics = []\n",
    "    project_info = {'id': uid, 'category': category}\n",
    "    project_info.update(dict(zip(expected_params, params)))\n",
    "    for (query_name, query_fn) in metric_modules:\n",
    "        sql = query_fn(*params)\n",
    "        value = execute_query(flipside, sql, project_info)\n",
    "        metric_info = project_info.copy()\n",
    "        metric_info.update({'query_name': query_name, 'value': value})\n",
    "        metrics.append(metric_info)\n",
    "    return metrics"
   ]
  },
  {
   "cell_type": "code",
   "execution_count": 6,
   "id": "995a583f-895e-4a78-82f6-bb84fe334907",
   "metadata": {},
   "outputs": [
    {
     "ename": "TypeError",
     "evalue": "artnft_nam() missing 1 required positional argument: 'wallet_address'",
     "output_type": "error",
     "traceback": [
      "\u001b[0;31m---------------------------------------------------------------------------\u001b[0m",
      "\u001b[0;31mTypeError\u001b[0m                                 Traceback (most recent call last)",
      "Cell \u001b[0;32mIn[6], line 1\u001b[0m\n\u001b[0;32m----> 1\u001b[0m results \u001b[38;5;241m=\u001b[39m query_project_metrics(apps\u001b[38;5;241m.\u001b[39miloc[\u001b[38;5;241m1\u001b[39m])\n\u001b[1;32m      2\u001b[0m results\n",
      "Cell \u001b[0;32mIn[4], line 19\u001b[0m, in \u001b[0;36mquery_project_metrics\u001b[0;34m(project_data)\u001b[0m\n\u001b[1;32m     17\u001b[0m project_info\u001b[38;5;241m.\u001b[39mupdate(\u001b[38;5;28mdict\u001b[39m(\u001b[38;5;28mzip\u001b[39m(expected_params, params)))\n\u001b[1;32m     18\u001b[0m \u001b[38;5;28;01mfor\u001b[39;00m (query_name, query_fn) \u001b[38;5;129;01min\u001b[39;00m metric_modules:\n\u001b[0;32m---> 19\u001b[0m     sql \u001b[38;5;241m=\u001b[39m query_fn(\u001b[38;5;241m*\u001b[39mparams)\n\u001b[1;32m     20\u001b[0m     value \u001b[38;5;241m=\u001b[39m execute_query(flipside, sql, project_info)\n\u001b[1;32m     21\u001b[0m     metric_info \u001b[38;5;241m=\u001b[39m project_info\u001b[38;5;241m.\u001b[39mcopy()\n",
      "\u001b[0;31mTypeError\u001b[0m: artnft_nam() missing 1 required positional argument: 'wallet_address'"
     ]
    }
   ],
   "source": [
    "results = query_project_metrics(apps.iloc[1])\n",
    "results"
   ]
  },
  {
   "cell_type": "code",
   "execution_count": 7,
   "id": "7a76855c-2160-42b3-a127-92ccca570eac",
   "metadata": {},
   "outputs": [
    {
     "data": {
      "text/plain": [
       "id                        0x5a587244ecf18246e881cda06bac1ece7c0995bb2faf...\n",
       "recipient                        0x0000000000000000000000000000000000000000\n",
       "time                                                             1724723573\n",
       "name                                                           1001 raisons\n",
       "profile_name                                                           kawz\n",
       "profile_url                                       https://warpcast.com/kawz\n",
       "metadata_name                                                  1001 raisons\n",
       "metadata_website                       https://www.sound.xyz/medmc/releases\n",
       "project_type                                                        Creator\n",
       "category                                                           Art NFTs\n",
       "address_type                                                  mintingWallet\n",
       "address                          0x8f59aa0f586d6d941152b9075b344cdc42e9b024\n",
       "chain_id                                                                NaN\n",
       "chain                                                        All Superchain\n",
       "auto_validation                                                          OK\n",
       "passed_auto_validation                                                 True\n",
       "Name: 1, dtype: object"
      ]
     },
     "execution_count": 7,
     "metadata": {},
     "output_type": "execute_result"
    }
   ],
   "source": [
    "apps.iloc[1]"
   ]
  },
  {
   "cell_type": "code",
   "execution_count": null,
   "id": "0d925bc5-6624-41bb-ab3c-132195bed164",
   "metadata": {},
   "outputs": [],
   "source": []
  }
 ],
 "metadata": {
  "kernelspec": {
   "display_name": "Python 3 (ipykernel)",
   "language": "python",
   "name": "python3"
  },
  "language_info": {
   "codemirror_mode": {
    "name": "ipython",
    "version": 3
   },
   "file_extension": ".py",
   "mimetype": "text/x-python",
   "name": "python",
   "nbconvert_exporter": "python",
   "pygments_lexer": "ipython3",
   "version": "3.11.7"
  }
 },
 "nbformat": 4,
 "nbformat_minor": 5
}

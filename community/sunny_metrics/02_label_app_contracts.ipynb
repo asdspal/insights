{
 "cells": [
  {
   "cell_type": "markdown",
   "id": "ada1b478",
   "metadata": {},
   "source": [
    "# 02 Label apps based on the type of contract\n",
    "\n",
    "This notebook filters the apps based on what type of contract they have:\n",
    "\n",
    "- token_contract: ERC20 token contracts. Metrics are derived from token transfer event data (Dune).\n",
    "\n",
    "- dapp_contract: Regular smart contracts. Metrics are derived from raw transaction data (Goldsky). \n",
    "\n",
    "- factory_contract: Contracts used to generate other contracts. Metrics pendings.\n",
    "\n",
    "- trace_contract: Something else, but that has events in traces."
   ]
  },
  {
   "cell_type": "code",
   "execution_count": 1,
   "id": "b4d8529c",
   "metadata": {},
   "outputs": [],
   "source": [
    "from google.cloud import bigquery\n",
    "import os\n",
    "import pandas as pd"
   ]
  },
  {
   "cell_type": "code",
   "execution_count": 2,
   "id": "eaef0a19",
   "metadata": {},
   "outputs": [],
   "source": [
    "os.environ['GOOGLE_APPLICATION_CREDENTIALS'] = \"../../oso_gcp_credentials.json\"\n",
    "client = bigquery.Client()\n",
    "PROJECT = 'opensource-observer'\n",
    "CURRENT_CHAINS = ['Optimism', 'Base', 'Zora', 'Mode', 'Frax', 'Metal']"
   ]
  },
  {
   "cell_type": "code",
   "execution_count": 3,
   "id": "f890019e",
   "metadata": {},
   "outputs": [],
   "source": [
    "all_apps = pd.read_csv('data/apps/applications_reviewed.csv')"
   ]
  },
  {
   "cell_type": "markdown",
   "id": "e4f4fe58",
   "metadata": {},
   "source": [
    "## Part 1. Token contracts"
   ]
  },
  {
   "cell_type": "code",
   "execution_count": 4,
   "id": "8e532265",
   "metadata": {},
   "outputs": [],
   "source": [
    "token_list = pd.read_csv('data/raw_metric_data/dune_token_list.csv', low_memory=False)\n",
    "\n",
    "tokens = {\n",
    "    'Base': [],\n",
    "    'Optimism': [],    \n",
    "    'Zora': []\n",
    "}\n",
    "\n",
    "for _,row in token_list.iterrows():\n",
    "    chain = row['blockchain'].title()\n",
    "    addresses = row['token_addresses']\n",
    "    addresses = addresses[1:-1]\n",
    "    for a in addresses.split(' '):\n",
    "        if len(a) == 42:\n",
    "            tokens[chain].append(a.lower())"
   ]
  },
  {
   "cell_type": "code",
   "execution_count": 5,
   "id": "6f1361c4",
   "metadata": {},
   "outputs": [
    {
     "name": "stdout",
     "output_type": "stream",
     "text": [
      "[Base]: Aerodrome Finance\n",
      "[Base]: baby Dragon\n",
      "[Base]: Bario Entertainment System\n",
      "[Base]: Based Bodega\n",
      "[Base]: BasedChad\n",
      "[Base]: $BDOOGS\n",
      "[Base]: BetBase\n",
      "[*Cyber*]: Bitmon \n",
      "[*Lisk*]: Bitsave Protocol\n",
      "[Base]: BMX\n",
      "[Base]: BMX\n",
      "[Base]: Boregon Trail\n",
      "[Base]: BUILD\n",
      "[Base]: BUZZAR\n",
      "[*SwanChain*]: Chainnode\n",
      "[*Kroma*]: Clutch\n",
      "[*Mint*]: Comet Protocol\n",
      "[*Mint*]: coNFT\n",
      "[*Redstone*]: Dark Forest Ares \n",
      "[Optimism]: Demo STG Project - Contract - Prelaunch\n",
      "[Base]: doginme memecoin\n",
      "[*Kroma*]: EFIHUB\n",
      "[Optimism]: Glo Dollar\n",
      "[Base]: Gloom\n",
      "[Optimism]: Idle\n",
      "[*Mint*]: ImaginAIryNFTs\n",
      "[Optimism]: JEFE TOKEN\n",
      "[*SwanChain*]: Lagrange\n",
      "[Optimism]: Lido Finance\n",
      "[Base]: Lizard\n",
      "[*Orderly*]: LogX\n",
      "[Optimism]: MagicalTux\n",
      "[*Mint*]: Mint Forest\n",
      "[*Mint*]: MintSwap\n",
      "[*Kroma*]: motoDEX\n",
      "[*SwanChain*]: Multichain.Storage\n",
      "[*Mint*]: NERZO\n",
      "[*Kroma*]: NFTFeed\n",
      "[*Mint*]: OmniHub\n",
      "[*Mint*]: OpenALCHI\n",
      "[*Orderly*]: Orderly Network\n",
      "[*Lisk*]: Owlto Finance\n",
      "[*Kroma*]: Owlto Finance\n",
      "[*Mint*]: Owlto Finance\n",
      "[*SwanChain*]: Owlto Finance\n",
      "[Base]: Peapods Finance\n",
      "[Base]: Pixotchi\n",
      "[*Polynomial*]: Polynomial Trade\n",
      "[*Polynomial*]: Polynomial Trade\n",
      "[Base]: Radiant Capital\n",
      "[Optimism]: Savings-USX $sUSX\n",
      "[Base]: /send\n",
      "[*Mint*]: StreamNFT\n",
      "[*SwanChain*]: SwanSwap\n",
      "[Base]: SwapBased\n",
      "[Optimism]: Unitus\n",
      "[Optimism]: Velodrome Finance\n",
      "[*Cyber*]: XO - AI-powered Matchmaking Protocol\n"
     ]
    }
   ],
   "source": [
    "contract_labels = {}\n",
    "for _,app in all_apps.iterrows():\n",
    "    \n",
    "    chain = app['chain']\n",
    "    if not isinstance(chain, str):\n",
    "        continue\n",
    "    if chain == 'All Superchain':\n",
    "        continue\n",
    "    if chain not in CURRENT_CHAINS:\n",
    "        contract_labels.update({app['uuid']: chain.lower()})\n",
    "        print(f\"[*{chain}*]: {app['name']}\")\n",
    "        continue\n",
    "        \n",
    "    address = app['address']\n",
    "    if tokens.get(chain):\n",
    "        if address in tokens[chain]:\n",
    "            contract_labels.update({app['uuid']: 'token_contract'})\n",
    "            print(f\"[{chain}]: {app['name']}\")\n",
    "            continue\n",
    "    \n",
    "    contract_labels.update({app['uuid']: 'unknown'})"
   ]
  },
  {
   "cell_type": "markdown",
   "id": "e5e68b9d",
   "metadata": {},
   "source": [
    "## Part 2. Dapp contracts"
   ]
  },
  {
   "cell_type": "code",
   "execution_count": 6,
   "id": "1ac96aa6",
   "metadata": {},
   "outputs": [
    {
     "data": {
      "text/plain": [
       "280"
      ]
     },
     "execution_count": 6,
     "metadata": {},
     "output_type": "execute_result"
    }
   ],
   "source": [
    "other_projects = [k for k,v in contract_labels.items() if v == 'unknown']\n",
    "contract_addresses = all_apps[all_apps['uuid'].isin(other_projects)]['address'].unique()\n",
    "contract_addresses_str = \"'\" + \"','\".join(contract_addresses) + \"'\"\n",
    "len(other_projects)"
   ]
  },
  {
   "cell_type": "code",
   "execution_count": 7,
   "id": "2f32910f",
   "metadata": {},
   "outputs": [],
   "source": [
    "query = f\"\"\"\n",
    "select \n",
    "    to_address, chain\n",
    "    from `{PROJECT}.static_data_sources.sunny_contract_lookup`\n",
    "    where\n",
    "        to_address in ({contract_addresses_str})\n",
    "        and txns >= 30\n",
    "\"\"\"\n",
    "result = client.query(query)\n",
    "dapp_contracts = result.to_dataframe()"
   ]
  },
  {
   "cell_type": "code",
   "execution_count": 8,
   "id": "e45c2a77",
   "metadata": {},
   "outputs": [
    {
     "name": "stdout",
     "output_type": "stream",
     "text": [
      "[Base]: 0x\n",
      "[Optimism]: AI Frames Creator\n",
      "[Base]: AI\n",
      "[Optimism]: Air3\n",
      "[Base]: Air3 on Base\n",
      "[Optimism]: Amazing Hunt\n",
      "[Optimism]: Another World\n",
      "[Base]: Aragon \n",
      "[Base]: Arcadia Finance\n",
      "[Base]: Avantis \n",
      "[Optimism]: Balancer\n",
      "[Mode]: Balancer\n",
      "[Base]: Balancer\n",
      "[Optimism]: Balancer\n",
      "[Base]: Balancer\n",
      "[Base]: Based Bits\n",
      "[Base]: Basepaint\n",
      "[Base]: BaseSwap \n",
      "[Optimism]: Beefy\n",
      "[Optimism]: Beefy\n",
      "[Base]: Beefy\n",
      "[Mode]: Beefy\n",
      "[Base]: Beefy\n",
      "[Base]: BerryLab\n",
      "[Optimism]: BLOBz\n",
      "[Base]: BLOBz on Base\n",
      "[Mode]: BLOBz on Mode\n",
      "[Zora]: BLOBz on Zora\n",
      "[Base]: BLOCKLORDS\n",
      "[Zora]: BLOCKS\n",
      "[Base]: BMX by Morphex\n",
      "[Base]: BMX\n",
      "[Base]: BMX\n",
      "[Base]: BMX\n",
      "[Base]: BMX\n",
      "[Base]: BMX\n",
      "[Optimism]: Bored Town\n",
      "[Base]: BSX\n",
      "[Base]: Cat Town | Gacha\n",
      "[Base]: Cat Town\n",
      "[Base]: Cat Town\n",
      "[Base]: CC: App Type 8.20.24\n",
      "[Mode]: Charged Particles - Web3 Packs\n",
      "[Base]: Checkin: Location-based “Checkin and Earn” social to connect IRL and onchain\n",
      "[Base]: Chibi Clash Kingdoms\n",
      "[Base]: Collectr\n",
      "[Base]: Coop Records Music\n",
      "[Optimism]: Copin.io\n",
      "[Base]: CryptoRank Token & NFT Bridge\n",
      "[Base]: Cyber Power\n",
      "[Base]: Daimo\n",
      "[Base]: Da Performers\n",
      "[Base]: datalatte\n",
      "[Base]: Degen Name Service\n",
      "[Base]: dHEDGE Base\n",
      "[Optimism]: dHEDGE\n",
      "[Base]: Dot\n",
      "[Base]: EFIHUB\n",
      "[Optimism]: Ethereum Ecosystem\n",
      "[Optimism]: Event Horizon DEX\n",
      "[Optimism]: Event Horizon DEX\n",
      "[Optimism]: Event Horizon DEX\n",
      "[Optimism]: Event Horizon DEX\n",
      "[Optimism]: Event Horizon DEX\n",
      "[Optimism]: Event Horizon DEX\n",
      "[Optimism]: Event Horizon DEX\n",
      "[Optimism]: Event Horizon DEX\n",
      "[Optimism]: Event Horizon DEX\n",
      "[Optimism]: Event Horizon DEX\n",
      "[Base]: Extra Finance\n",
      "[Optimism]: Extra Finance\n",
      "[Base]: Extra Finance\n",
      "[Optimism]: Extra Finance\n",
      "[Optimism]: far.quest - Farcaster Super App\n",
      "[Base]: Feed\n",
      "[Base]: Flappycaster\n",
      "[Optimism]: Fractal Visions\n",
      "[Base]: fxhash\n",
      "[Base]: Gambit Finance\n",
      "[Base]: Gaslite Drop\n",
      "[Optimism]: GiveStation\n",
      "[Base]: Guild.xyz\n",
      "[Optimism]: herocast\n",
      "[Base]: HOMES\n",
      "[Base]: I'm Tired Of Being Hypersurveilled: Art Collection\n",
      "[Base]: Intract\n",
      "[Mode]: Ionic\n",
      "[Mode]: Ironclad Finance\n",
      "[Optimism]: Kiwi News\n",
      "[Base]: Kroma Power\n",
      "[Optimism]: L2Pass\n",
      "[Base]: L2Pass\n",
      "[Base]: L2Pass\n",
      "[Zora]: L2Pass\n",
      "[Zora]: L2Pass\n",
      "[Optimism]: L2Pass\n",
      "[Optimism]: Let's Get HAI\n",
      "[Base]: MACH10\n",
      "[Optimism]: Merkl\n",
      "[Base]: Micro3\n",
      "[Base]: Mind3\n",
      "[Base]: Mint Club\n",
      "[Base]: Mintify\n",
      "[Base]: Mint Power\n",
      "[Base]: Mint Retreat\n",
      "[Mode]: Mode Spray\n",
      "[Base]: Moonwell\n",
      "[Base]: Moshicam\n",
      "[Base]: motoDEX\n",
      "[Base]: Namespace - ENS Subname Sorcery\n",
      "[Base]: NFTarot\n",
      "[Optimism]: NFTFeed\n",
      "[Zora]: NFT HOOK\n",
      "[Base]: NPC Labs\n",
      "[Optimism]: Omni X\n",
      "[Base]: Omni X\n",
      "[Base]: Omni X\n",
      "[Zora]: Omni X\n",
      "[Base]: Onchain Affiliates\n",
      "[Base]: Onchain Blobs - Randomly generated onchain blobs minted via a Farcaster frame\n",
      "[Base]: onchain gaias\n",
      "[Base]: OP The Superchain\n",
      "[Optimism]: OptiChads NFT Community\n",
      "[Optimism]: Opti.Domains\n",
      "[Optimism]: Optimism Fractal Respect Game\n",
      "[Optimism]: Overtime Markets\n",
      "[Zora]: Owlto Finance\n",
      "[Base]: Owlto Finance\n",
      "[Base]: Owlto Finance\n",
      "[Mode]: Owlto Finance\n",
      "[Base]: Owlto Finance\n",
      "[Optimism]: Owlto Finance\n",
      "[Base]: ParaSwap\n",
      "[Base]: Payflow\n",
      "[Optimism]: Pin Save\n",
      "[Base]: PokPok Protocol\n",
      "[Optimism]: PoolTogether\n",
      "[Zora]: PSILOCYBIN\n",
      "[Base]: Quidli\n",
      "[Base]: Radiant Capital\n",
      "[Base]: Radiant Capital\n",
      "[Base]: Radiant Capital\n",
      "[Base]: Rodeo\n",
      "[Optimism]: RubyScore\n",
      "[Zora]: RubyScore\n",
      "[Base]: RubyScore\n",
      "[Base]: RubyScore\n",
      "[Zora]: RubyScore\n",
      "[Base]: Safaricaster\n",
      "[Base]: Scoop\n",
      "[Base]: /send\n",
      "[Base]: Smellcheckmate\n",
      "[Optimism]: Socket protocol\n",
      "[Base]: Songbirdz\n",
      "[Base]: Starta x Degen Bridge\n",
      "[Mode]: Sturdy\n",
      "[Base]: stVol\n",
      "[Optimism]: Sunnypunx\n",
      "[Base]: Sunnys\n",
      "[Base]: Supa\n",
      "[Base]: Super BASE\n",
      "[Base]: SuperBoring\n",
      "[Base]: Superbridge\n",
      "[Base]: Superform\n",
      "[Base]: Super FRAXTAL\n",
      "[Base]: Super MINT\n",
      "[Base]: Super MODE\n",
      "[Base]: Super REDSTONE\n",
      "[Base]: Super ZORA\n",
      "[Zora]: Surreal\n",
      "[Mode]: SwapMode\n",
      "[Mode]: SwapMode\n",
      "[Base]: Swaye\n",
      "[Base]: SynFutures\n",
      "[Base]: Target Onchain 🎯\n",
      "[Base]: Tasseo\n",
      "[Optimism]: Thales Protocol\n",
      "[Base]: The MVHQ App\n",
      "[Base]: Time.fun\n",
      "[Optimism]: TLX\n",
      "[Base]: Toros (Base)\n",
      "[Optimism]: Toros (Optimism)\n",
      "[Base]: Virtuals Protocol\n",
      "[Base]: VRNouns\n",
      "[Base]: we are so early\n",
      "[Base]: WebHash.com\n",
      "[Base]: Welcome Onchain\n",
      "[Optimism]: WOOFi\n",
      "[Base]: Yunan90\n",
      "[Zora]: zora's christmas memories\n"
     ]
    }
   ],
   "source": [
    "for _,app in all_apps.iterrows():\n",
    "    chain = app['chain']\n",
    "    address = app['address']\n",
    "    uuid = app['uuid']\n",
    "    temp_ = dapp_contracts[(dapp_contracts['to_address']==address) & (dapp_contracts['chain']==chain)]\n",
    "    if len(temp_) == 1:\n",
    "        contract_labels[uuid] = 'dapp_contract'\n",
    "        print(f\"[{chain}]: {app['name']}\")"
   ]
  },
  {
   "cell_type": "markdown",
   "id": "bc4ff7be",
   "metadata": {},
   "source": [
    "## Part 3. Factory contracts"
   ]
  },
  {
   "cell_type": "code",
   "execution_count": 9,
   "id": "6e4a8480",
   "metadata": {},
   "outputs": [
    {
     "data": {
      "text/plain": [
       "90"
      ]
     },
     "execution_count": 9,
     "metadata": {},
     "output_type": "execute_result"
    }
   ],
   "source": [
    "other_projects = [k for k,v in contract_labels.items() if v == 'unknown']\n",
    "other_addresses = all_apps[all_apps['uuid'].isin(other_projects)]['address'].unique()\n",
    "other_addresses_str = \"'\" + \"','\".join(other_addresses) + \"'\"\n",
    "len(other_projects)"
   ]
  },
  {
   "cell_type": "code",
   "execution_count": 12,
   "id": "13fe4b09",
   "metadata": {},
   "outputs": [],
   "source": [
    "query = f\"\"\"\n",
    "select \n",
    "    factory_address, chain\n",
    "    from `{PROJECT}.static_data_sources.sunny_factory_lookup`\n",
    "    where factory_address in ({other_addresses_str})\n",
    "\"\"\"\n",
    "result = client.query(query)\n",
    "factory_contracts = result.to_dataframe()\n",
    "factory_contracts['chain'] = factory_contracts['chain'].str.title()"
   ]
  },
  {
   "cell_type": "code",
   "execution_count": 13,
   "id": "edf9d45c",
   "metadata": {},
   "outputs": [
    {
     "name": "stdout",
     "output_type": "stream",
     "text": [
      "[Base]: 5050IO\n",
      "[Base]: AlfaFrens\n",
      "[Base]: Automod\n",
      "[Base]: Bond\n",
      "[Base]: Crypto: The Game S2\n",
      "[Base]: Crypto: The Game S2\n",
      "[Base]: Flat Money\n",
      "[Base]: Glass\n",
      "[Base]: HALP\n",
      "[Mode]: Kim Exchange\n",
      "[Optimism]: Light\n",
      "[Base]: LottoPGF\n",
      "[Base]: NFTs2Me\n",
      "[Optimism]: Pairwise\n",
      "[Base]: Party.app + Party Protocol\n",
      "[Optimism]: Sushiswap\n",
      "[Base]: Vault\n"
     ]
    }
   ],
   "source": [
    "for _,app in all_apps.iterrows():\n",
    "    chain = app['chain']\n",
    "    address = app['address']\n",
    "    uuid = app['uuid']\n",
    "    temp_ = factory_contracts[(factory_contracts['factory_address']==address) & (factory_contracts['chain']==chain)]\n",
    "    if len(temp_) == 1:\n",
    "        contract_labels[uuid] = 'factory_contract'\n",
    "        print(f\"[{chain}]: {app['name']}\")"
   ]
  },
  {
   "cell_type": "markdown",
   "id": "1248b93e",
   "metadata": {},
   "source": [
    "## Part 4. Trace contracts"
   ]
  },
  {
   "cell_type": "code",
   "execution_count": 14,
   "id": "15f873c4",
   "metadata": {},
   "outputs": [
    {
     "data": {
      "text/plain": [
       "73"
      ]
     },
     "execution_count": 14,
     "metadata": {},
     "output_type": "execute_result"
    }
   ],
   "source": [
    "other_projects = [k for k,v in contract_labels.items() if v == 'unknown']\n",
    "trace_addresses = all_apps[all_apps['uuid'].isin(other_projects)]['address'].unique()\n",
    "trace_addresses_str = \"'\" + \"','\".join(trace_addresses) + \"'\"\n",
    "len(other_projects)"
   ]
  },
  {
   "cell_type": "code",
   "execution_count": 15,
   "id": "7945a172",
   "metadata": {},
   "outputs": [],
   "source": [
    "query = f\"\"\"\n",
    "select \n",
    "    *\n",
    "    from `{PROJECT}.static_data_sources.sunny_trace_lookup`\n",
    "    where address in ({trace_addresses_str})\n",
    "\"\"\"\n",
    "result = client.query(query)\n",
    "trace_contracts = result.to_dataframe()"
   ]
  },
  {
   "cell_type": "code",
   "execution_count": 16,
   "id": "38e9e4d3",
   "metadata": {},
   "outputs": [
    {
     "name": "stdout",
     "output_type": "stream",
     "text": [
      "[Base]: Academy\n",
      "[Optimism]: ArbiLearn\n",
      "[Optimism]: ArbiLearn\n",
      "[Base]: ArtGridz\n",
      "[Base]: Attesta_Mesta\n",
      "[Optimism]: BCard\n",
      "[Base]: Definitive Finance\n",
      "[Optimism]: Degen Deals\n",
      "[Base]: Degenfans gated frames\n",
      "[Base]: Dragon Academy\n",
      "[Base]: DUDEGEN\n",
      "[Base]: Feedback Forge - Decentralized Feedback Platform\n",
      "[Base]: HAM\n",
      "[Base]: KRASH WORLD: DA GAME PASS\n",
      "[Optimism]: Metronome\n",
      "[Mode]: ModeMax\n",
      "[Base]: Nouns Boy\n",
      "[Base]: nounspace\n",
      "[Base]: Onchain Mecha\n",
      "[Optimism]: OP Land\n",
      "[Base]: Privy\n",
      "[Base]: Recipes Onchain\n",
      "[Optimism]: Scry\n",
      "[Base]: Seamless Protocol\n",
      "[Base]: /send\n",
      "[Base]: /send\n",
      "[Optimism]: Silo Finance\n",
      "[Optimism]: Silo Finance\n",
      "[Optimism]: Silo Finance\n",
      "[Optimism]: Silo Finance\n",
      "[Optimism]: Silo Finance\n",
      "[Base]: Snickerdoodle\n",
      "[Base]: song.camp: mint your music\n",
      "[Base]: Spotlight\n",
      "[Base]: SuperchainSynergyHub\n",
      "[Base]: Talent Protocol\n",
      "[Base]: Team Super Onchain \n",
      "[Base]: TOCD Studio\n",
      "[Base]: Top Test\n",
      "[Base]: Trash NFTs\n",
      "[Optimism]: Travenesia\n",
      "[Base]: Uniswap Position\n",
      "[Optimism]: Vesper Finance\n",
      "[Base]: Votecaster\n"
     ]
    }
   ],
   "source": [
    "for _,app in all_apps.iterrows():\n",
    "    chain = app['chain']\n",
    "    address = app['address']\n",
    "    uuid = app['uuid']\n",
    "    temp_ = trace_contracts[(trace_contracts['address']==address) & (trace_contracts['chain']==chain)]\n",
    "    if len(temp_) >= 1:\n",
    "        contract_labels[uuid] = 'trace_contract'\n",
    "        print(f\"[{chain}]: {app['name']}\")"
   ]
  },
  {
   "cell_type": "markdown",
   "id": "71497f7a",
   "metadata": {},
   "source": [
    "## Part 5. Check what's left and dump it"
   ]
  },
  {
   "cell_type": "code",
   "execution_count": 17,
   "id": "0a3f3ed1",
   "metadata": {},
   "outputs": [
    {
     "data": {
      "text/plain": [
       "29"
      ]
     },
     "execution_count": 17,
     "metadata": {},
     "output_type": "execute_result"
    }
   ],
   "source": [
    "other_projects = [k for k,v in contract_labels.items() if v == 'unknown']\n",
    "len(other_projects)"
   ]
  },
  {
   "cell_type": "code",
   "execution_count": 18,
   "id": "b4e2b5da",
   "metadata": {},
   "outputs": [],
   "source": [
    "project_apps = pd.read_csv('data/apps/project_apps.csv', index_col=0)\n",
    "project_apps['contract_type'] = project_apps['uuid'].map(contract_labels)"
   ]
  },
  {
   "cell_type": "code",
   "execution_count": 19,
   "id": "65f85396",
   "metadata": {},
   "outputs": [],
   "source": [
    "project_apps.to_csv('data/apps/project_apps_labeled.csv')"
   ]
  }
 ],
 "metadata": {
  "kernelspec": {
   "display_name": "Python 3 (ipykernel)",
   "language": "python",
   "name": "python3"
  },
  "language_info": {
   "codemirror_mode": {
    "name": "ipython",
    "version": 3
   },
   "file_extension": ".py",
   "mimetype": "text/x-python",
   "name": "python",
   "nbconvert_exporter": "python",
   "pygments_lexer": "ipython3",
   "version": "3.11.5"
  }
 },
 "nbformat": 4,
 "nbformat_minor": 5
}

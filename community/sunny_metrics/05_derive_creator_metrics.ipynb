{
 "cells": [
  {
   "cell_type": "markdown",
   "id": "76142388",
   "metadata": {},
   "source": [
    "# Creator Metrics\n",
    "\n",
    "This script processes a CSV from [this Dune Query](https://dune.com/queries/4087193) and derives metrics the following NFT creator metrics:\n",
    "\n",
    "- num drops\n",
    "- num unique minters\n",
    "- num txns\n",
    "- USD value of txns"
   ]
  },
  {
   "cell_type": "code",
   "execution_count": 1,
   "id": "def9dccc-48cc-412f-9d19-baaa588d9f71",
   "metadata": {},
   "outputs": [
    {
     "name": "stderr",
     "output_type": "stream",
     "text": [
      "2024-09-23 05:18:30,348 INFO numexpr.utils NumExpr defaulting to 8 threads.\n"
     ]
    }
   ],
   "source": [
    "from dotenv import load_dotenv\n",
    "from dune_client.types import QueryParameter\n",
    "from dune_client.client import DuneClient\n",
    "from dune_client.query import QueryBase\n",
    "import json\n",
    "import os\n",
    "import pandas as pd"
   ]
  },
  {
   "cell_type": "code",
   "execution_count": 2,
   "id": "94beb845",
   "metadata": {},
   "outputs": [],
   "source": [
    "load_dotenv()\n",
    "\n",
    "DUNE_API_KEY = os.getenv('DUNE_API_KEY')\n",
    "dune = DuneClient(DUNE_API_KEY)"
   ]
  },
  {
   "cell_type": "markdown",
   "id": "6d9826bf",
   "metadata": {},
   "source": [
    "## Part 1. Parse the creator data"
   ]
  },
  {
   "cell_type": "code",
   "execution_count": 3,
   "id": "981729a3",
   "metadata": {},
   "outputs": [],
   "source": [
    "all_apps = pd.read_csv('data/apps/applications_reviewed.csv')\n",
    "app_map = all_apps.set_index('uuid')['name'].to_dict()"
   ]
  },
  {
   "cell_type": "code",
   "execution_count": 4,
   "id": "e4db6784-6845-49d9-a496-06f78ca28555",
   "metadata": {},
   "outputs": [
    {
     "data": {
      "text/html": [
       "<div>\n",
       "<style scoped>\n",
       "    .dataframe tbody tr th:only-of-type {\n",
       "        vertical-align: middle;\n",
       "    }\n",
       "\n",
       "    .dataframe tbody tr th {\n",
       "        vertical-align: top;\n",
       "    }\n",
       "\n",
       "    .dataframe thead th {\n",
       "        text-align: right;\n",
       "    }\n",
       "</style>\n",
       "<table border=\"1\" class=\"dataframe\">\n",
       "  <thead>\n",
       "    <tr style=\"text-align: right;\">\n",
       "      <th></th>\n",
       "      <th>uuid</th>\n",
       "      <th>recipient</th>\n",
       "      <th>project_type</th>\n",
       "      <th>category</th>\n",
       "      <th>address</th>\n",
       "    </tr>\n",
       "  </thead>\n",
       "  <tbody>\n",
       "    <tr>\n",
       "      <th>1368</th>\n",
       "      <td>568706f3-8127-448f-b0b1-56c28e4f3ed1</td>\n",
       "      <td>0xf56E55e35d2CCa5A34F5Ba568454974424aEA0F4</td>\n",
       "      <td>Creator</td>\n",
       "      <td>Art NFTs</td>\n",
       "      <td>0xf56e55e35d2cca5a34f5ba568454974424aea0f4</td>\n",
       "    </tr>\n",
       "  </tbody>\n",
       "</table>\n",
       "</div>"
      ],
      "text/plain": [
       "                                      uuid  \\\n",
       "1368  568706f3-8127-448f-b0b1-56c28e4f3ed1   \n",
       "\n",
       "                                       recipient project_type  category  \\\n",
       "1368  0xf56E55e35d2CCa5A34F5Ba568454974424aEA0F4      Creator  Art NFTs   \n",
       "\n",
       "                                         address  \n",
       "1368  0xf56e55e35d2cca5a34f5ba568454974424aea0f4  "
      ]
     },
     "execution_count": 4,
     "metadata": {},
     "output_type": "execute_result"
    }
   ],
   "source": [
    "apps = pd.read_csv('data/apps/creator_apps.csv', index_col=0)\n",
    "apps = apps.drop(columns=['chain']).drop_duplicates()\n",
    "creator_addresses = list(apps['address'].unique())\n",
    "apps_to_addresses = apps.set_index('uuid')['address'].to_dict()\n",
    "apps.tail(1)"
   ]
  },
  {
   "cell_type": "code",
   "execution_count": 5,
   "id": "c4548787",
   "metadata": {},
   "outputs": [],
   "source": [
    "app_dict = {}\n",
    "for _,app in apps.iterrows():\n",
    "    recipient = app['recipient'].lower()\n",
    "    uuid = app['uuid']\n",
    "    minting_address = app['address'].lower()\n",
    "    if recipient not in app_dict:\n",
    "        app_dict.update({\n",
    "            recipient: {\n",
    "                'mintingAddressList': [minting_address],\n",
    "                'uuidList': [uuid]\n",
    "            }\n",
    "        })\n",
    "    else:\n",
    "        app_dict[recipient]['mintingAddressList'].append(minting_address)\n",
    "        app_dict[recipient]['uuidList'].append(uuid)\n",
    "\n",
    "app_json = []        \n",
    "for recipient, record in app_dict.items():\n",
    "    app_json.append({\n",
    "        'recipientAddress': recipient,\n",
    "        'mintingAddressList': list(set(record['mintingAddressList'])),\n",
    "        'uuidList': list(set(record['uuidList'])),\n",
    "    })\n",
    "        \n",
    "with open(\"data/apps/creator_address_to_uuid.json\", \"w\") as f:\n",
    "    json.dump(app_json, f, indent=2)"
   ]
  },
  {
   "cell_type": "markdown",
   "id": "7413efa4",
   "metadata": {},
   "source": [
    "## Part 2. Grab NFT mint data from Dune"
   ]
  },
  {
   "cell_type": "code",
   "execution_count": 6,
   "id": "bcd4ffee",
   "metadata": {},
   "outputs": [],
   "source": [
    "creator_addresses_str = ',\\n\\t\\t'.join(creator_addresses)\n",
    "query_sql = f\"\"\"\n",
    "    select\n",
    "        blockchain,\n",
    "        project,\n",
    "        buyer,\n",
    "        tx_to,\n",
    "        tx_from,\n",
    "        nft_contract_address,\n",
    "        project_contract_address,\n",
    "        coalesce(amount_usd, 0) as amount_usd,\n",
    "        number_of_items\n",
    "    from nft.mints\n",
    "        where\n",
    "            block_date between date('2024-06-01') and date('2024-09-01')\n",
    "            and blockchain in ('base', 'optimism', 'zora')\n",
    "            and tx_from in  (\n",
    "                {creator_addresses_str}\n",
    "            )\n",
    "\"\"\""
   ]
  },
  {
   "cell_type": "code",
   "execution_count": 7,
   "id": "7db0d81f",
   "metadata": {},
   "outputs": [
    {
     "data": {
      "text/html": [
       "<div>\n",
       "<style scoped>\n",
       "    .dataframe tbody tr th:only-of-type {\n",
       "        vertical-align: middle;\n",
       "    }\n",
       "\n",
       "    .dataframe tbody tr th {\n",
       "        vertical-align: top;\n",
       "    }\n",
       "\n",
       "    .dataframe thead th {\n",
       "        text-align: right;\n",
       "    }\n",
       "</style>\n",
       "<table border=\"1\" class=\"dataframe\">\n",
       "  <thead>\n",
       "    <tr style=\"text-align: right;\">\n",
       "      <th></th>\n",
       "      <th>blockchain</th>\n",
       "      <th>project</th>\n",
       "      <th>buyer</th>\n",
       "      <th>tx_to</th>\n",
       "      <th>creator_address</th>\n",
       "      <th>nft_contract_address</th>\n",
       "      <th>project_contract_address</th>\n",
       "      <th>amount_usd</th>\n",
       "      <th>number_of_items</th>\n",
       "    </tr>\n",
       "  </thead>\n",
       "  <tbody>\n",
       "    <tr>\n",
       "      <th>56075</th>\n",
       "      <td>Base</td>\n",
       "      <td>basecolors</td>\n",
       "      <td>0x00409fc839a2ec2e6d12305423d37cd011279c09</td>\n",
       "      <td>0x7bc1c072742d8391817eb4eb2317f98dc72c61db</td>\n",
       "      <td>0x00409fc839a2ec2e6d12305423d37cd011279c09</td>\n",
       "      <td>0x7bc1c072742d8391817eb4eb2317f98dc72c61db</td>\n",
       "      <td>0x7bc1c072742d8391817eb4eb2317f98dc72c61db</td>\n",
       "      <td>3.427170</td>\n",
       "      <td>1</td>\n",
       "    </tr>\n",
       "    <tr>\n",
       "      <th>56076</th>\n",
       "      <td>Base</td>\n",
       "      <td>Unknown</td>\n",
       "      <td>0x1a1c37c145a1eab58c43f003ebb55c18083b5987</td>\n",
       "      <td>0xad14d16d5e980900d5d87153b1de44bd8b02892d</td>\n",
       "      <td>0x1a1c37c145a1eab58c43f003ebb55c18083b5987</td>\n",
       "      <td>0xad14d16d5e980900d5d87153b1de44bd8b02892d</td>\n",
       "      <td>0xad14d16d5e980900d5d87153b1de44bd8b02892d</td>\n",
       "      <td>0.328370</td>\n",
       "      <td>1</td>\n",
       "    </tr>\n",
       "    <tr>\n",
       "      <th>56077</th>\n",
       "      <td>Base</td>\n",
       "      <td>basecolors</td>\n",
       "      <td>0xd91c4283ebbc00af162b73418ec4ab0b3c159900</td>\n",
       "      <td>0x7bc1c072742d8391817eb4eb2317f98dc72c61db</td>\n",
       "      <td>0xd91c4283ebbc00af162b73418ec4ab0b3c159900</td>\n",
       "      <td>0x7bc1c072742d8391817eb4eb2317f98dc72c61db</td>\n",
       "      <td>0x7bc1c072742d8391817eb4eb2317f98dc72c61db</td>\n",
       "      <td>0.000000</td>\n",
       "      <td>1</td>\n",
       "    </tr>\n",
       "    <tr>\n",
       "      <th>56078</th>\n",
       "      <td>Base</td>\n",
       "      <td>Unknown</td>\n",
       "      <td>0x5d85e0403f815ce6b88fa7653ee84e46e5f59b95</td>\n",
       "      <td>0xfee588791cda1d01ccfc80b51efa00c0be5b129e</td>\n",
       "      <td>0x5d85e0403f815ce6b88fa7653ee84e46e5f59b95</td>\n",
       "      <td>0x1d2550d198197df1a10af515cf2ea0d790889b93</td>\n",
       "      <td>0xfee588791cda1d01ccfc80b51efa00c0be5b129e</td>\n",
       "      <td>2.771984</td>\n",
       "      <td>1</td>\n",
       "    </tr>\n",
       "    <tr>\n",
       "      <th>56079</th>\n",
       "      <td>Base</td>\n",
       "      <td>zora</td>\n",
       "      <td>0x4412e1fd47b780c59976694a778999698e1fe3a8</td>\n",
       "      <td>0x1bbea2cc3b2c41774687fd00684ad12f9a666557</td>\n",
       "      <td>0x589ffbbda0eacd5a9c2ba208b379c886b2630503</td>\n",
       "      <td>0x1bbea2cc3b2c41774687fd00684ad12f9a666557</td>\n",
       "      <td>0x1bbea2cc3b2c41774687fd00684ad12f9a666557</td>\n",
       "      <td>0.000000</td>\n",
       "      <td>1</td>\n",
       "    </tr>\n",
       "  </tbody>\n",
       "</table>\n",
       "</div>"
      ],
      "text/plain": [
       "      blockchain     project                                       buyer  \\\n",
       "56075       Base  basecolors  0x00409fc839a2ec2e6d12305423d37cd011279c09   \n",
       "56076       Base     Unknown  0x1a1c37c145a1eab58c43f003ebb55c18083b5987   \n",
       "56077       Base  basecolors  0xd91c4283ebbc00af162b73418ec4ab0b3c159900   \n",
       "56078       Base     Unknown  0x5d85e0403f815ce6b88fa7653ee84e46e5f59b95   \n",
       "56079       Base        zora  0x4412e1fd47b780c59976694a778999698e1fe3a8   \n",
       "\n",
       "                                            tx_to  \\\n",
       "56075  0x7bc1c072742d8391817eb4eb2317f98dc72c61db   \n",
       "56076  0xad14d16d5e980900d5d87153b1de44bd8b02892d   \n",
       "56077  0x7bc1c072742d8391817eb4eb2317f98dc72c61db   \n",
       "56078  0xfee588791cda1d01ccfc80b51efa00c0be5b129e   \n",
       "56079  0x1bbea2cc3b2c41774687fd00684ad12f9a666557   \n",
       "\n",
       "                                  creator_address  \\\n",
       "56075  0x00409fc839a2ec2e6d12305423d37cd011279c09   \n",
       "56076  0x1a1c37c145a1eab58c43f003ebb55c18083b5987   \n",
       "56077  0xd91c4283ebbc00af162b73418ec4ab0b3c159900   \n",
       "56078  0x5d85e0403f815ce6b88fa7653ee84e46e5f59b95   \n",
       "56079  0x589ffbbda0eacd5a9c2ba208b379c886b2630503   \n",
       "\n",
       "                             nft_contract_address  \\\n",
       "56075  0x7bc1c072742d8391817eb4eb2317f98dc72c61db   \n",
       "56076  0xad14d16d5e980900d5d87153b1de44bd8b02892d   \n",
       "56077  0x7bc1c072742d8391817eb4eb2317f98dc72c61db   \n",
       "56078  0x1d2550d198197df1a10af515cf2ea0d790889b93   \n",
       "56079  0x1bbea2cc3b2c41774687fd00684ad12f9a666557   \n",
       "\n",
       "                         project_contract_address  amount_usd number_of_items  \n",
       "56075  0x7bc1c072742d8391817eb4eb2317f98dc72c61db    3.427170               1  \n",
       "56076  0xad14d16d5e980900d5d87153b1de44bd8b02892d    0.328370               1  \n",
       "56077  0x7bc1c072742d8391817eb4eb2317f98dc72c61db    0.000000               1  \n",
       "56078  0xfee588791cda1d01ccfc80b51efa00c0be5b129e    2.771984               1  \n",
       "56079  0x1bbea2cc3b2c41774687fd00684ad12f9a666557    0.000000               1  "
      ]
     },
     "execution_count": 7,
     "metadata": {},
     "output_type": "execute_result"
    }
   ],
   "source": [
    "# query_id = dune.create_query(name='sunny_nft_mints', query_sql=query_sql, is_private=False)\n",
    "# query = QueryBase(name='sunny_nft_mints', query_id=query_id.base.query_id)\n",
    "# results_df = dune.run_query_dataframe(query)\n",
    "# results_df.to_parquet('data/raw_metric_data/dune_raw_nft_mints.parquet')\n",
    "nft_creators = pd.read_parquet('data/raw_metric_data/dune_raw_nft_mints.parquet')\n",
    "nft_creators.rename(columns={'tx_from': 'creator_address'}, inplace=True)\n",
    "nft_creators['blockchain'] = nft_creators['blockchain'].apply(lambda x: x.title())\n",
    "nft_creators.tail()"
   ]
  },
  {
   "cell_type": "code",
   "execution_count": 8,
   "id": "f5c955c3",
   "metadata": {},
   "outputs": [
    {
     "data": {
      "text/html": [
       "<div>\n",
       "<style scoped>\n",
       "    .dataframe tbody tr th:only-of-type {\n",
       "        vertical-align: middle;\n",
       "    }\n",
       "\n",
       "    .dataframe tbody tr th {\n",
       "        vertical-align: top;\n",
       "    }\n",
       "\n",
       "    .dataframe thead th {\n",
       "        text-align: right;\n",
       "    }\n",
       "</style>\n",
       "<table border=\"1\" class=\"dataframe\">\n",
       "  <thead>\n",
       "    <tr style=\"text-align: right;\">\n",
       "      <th></th>\n",
       "      <th>uuid</th>\n",
       "      <th>recipient</th>\n",
       "      <th>project_type</th>\n",
       "      <th>category</th>\n",
       "      <th>address</th>\n",
       "    </tr>\n",
       "  </thead>\n",
       "  <tbody>\n",
       "    <tr>\n",
       "      <th>1368</th>\n",
       "      <td>568706f3-8127-448f-b0b1-56c28e4f3ed1</td>\n",
       "      <td>0xf56E55e35d2CCa5A34F5Ba568454974424aEA0F4</td>\n",
       "      <td>Creator</td>\n",
       "      <td>Art NFTs</td>\n",
       "      <td>0xf56e55e35d2cca5a34f5ba568454974424aea0f4</td>\n",
       "    </tr>\n",
       "  </tbody>\n",
       "</table>\n",
       "</div>"
      ],
      "text/plain": [
       "                                      uuid  \\\n",
       "1368  568706f3-8127-448f-b0b1-56c28e4f3ed1   \n",
       "\n",
       "                                       recipient project_type  category  \\\n",
       "1368  0xf56E55e35d2CCa5A34F5Ba568454974424aEA0F4      Creator  Art NFTs   \n",
       "\n",
       "                                         address  \n",
       "1368  0xf56e55e35d2cca5a34f5ba568454974424aea0f4  "
      ]
     },
     "execution_count": 8,
     "metadata": {},
     "output_type": "execute_result"
    }
   ],
   "source": [
    "apps.tail(1)"
   ]
  },
  {
   "cell_type": "markdown",
   "id": "49552559",
   "metadata": {},
   "source": [
    "# Part 3. Derive the metrics"
   ]
  },
  {
   "cell_type": "code",
   "execution_count": 9,
   "id": "b0f15128",
   "metadata": {},
   "outputs": [],
   "source": [
    "metrics_by_address = pd.concat([\n",
    "    nft_creators.groupby('creator_address')['nft_contract_address'].nunique().rename('num_drops'),\n",
    "    nft_creators.groupby('creator_address')['buyer'].nunique().rename('num_unique_minters'),\n",
    "    nft_creators.groupby('creator_address')['buyer'].count().rename('num_transactions'),\n",
    "    nft_creators.groupby('creator_address')['amount_usd'].sum().rename('usd_value_of_transactions')\n",
    "], axis=1)"
   ]
  },
  {
   "cell_type": "code",
   "execution_count": 10,
   "id": "434a6981",
   "metadata": {},
   "outputs": [],
   "source": [
    "metrics = []\n",
    "errors = []\n",
    "for uuid, app in apps.set_index('uuid').iterrows():\n",
    "    \n",
    "    name = app_map.get(uuid)\n",
    "    address = app['address']\n",
    "    recipient = app['recipient']\n",
    "    \n",
    "    if address not in metrics_by_address.index:\n",
    "        errors.append({\n",
    "            'uuid': uuid,\n",
    "            **app,\n",
    "            'status': 'no_nft_activity_90D'\n",
    "        })\n",
    "        continue\n",
    "    \n",
    "    creator_metrics = metrics_by_address.loc[address].to_dict()\n",
    "    \n",
    "    metrics.append({\n",
    "        'uuid': uuid,\n",
    "        **app,\n",
    "        'status': 'metrics_available',\n",
    "        **creator_metrics,\n",
    "    })"
   ]
  },
  {
   "cell_type": "code",
   "execution_count": 11,
   "id": "bde79ac1",
   "metadata": {},
   "outputs": [],
   "source": [
    "df_metrics = pd.DataFrame(metrics)\n",
    "df_metrics.to_csv('data/clean_metric_data/metrics_creators.csv')"
   ]
  },
  {
   "cell_type": "markdown",
   "id": "bdf1aa6d",
   "metadata": {},
   "source": [
    "## Part 4. Derive metrics by recipient address"
   ]
  },
  {
   "cell_type": "code",
   "execution_count": 12,
   "id": "e17f68ea",
   "metadata": {},
   "outputs": [],
   "source": [
    "recipient_mapping = (\n",
    "    all_apps\n",
    "    .groupby(['recipient', 'address'])\n",
    "    ['uuid']\n",
    "    .unique()\n",
    "    .apply(list)\n",
    "    .to_dict()\n",
    ")"
   ]
  },
  {
   "cell_type": "code",
   "execution_count": 13,
   "id": "1dbbe095",
   "metadata": {},
   "outputs": [],
   "source": [
    "recipient_metrics = []\n",
    "for (recipient,address),uuid_list in recipient_mapping.items():\n",
    "    \n",
    "    dff = nft_creators[nft_creators.creator_address == address]\n",
    "    if len(dff) < 1:\n",
    "        continue\n",
    "    \n",
    "    creator_metrics = {\n",
    "        'recipient': recipient,\n",
    "        'minting_wallet': address,\n",
    "        \n",
    "        'num_drops': dff['nft_contract_address'].nunique(),\n",
    "        'num_unique_minters': dff['buyer'].nunique(),\n",
    "        'num_transactions': dff['buyer'].count(),\n",
    "        'usd_value_of_transactions': dff['amount_usd'].sum(),\n",
    "        \n",
    "        'uuid_list': uuid_list\n",
    "    }\n",
    "    recipient_metrics.append(creator_metrics)"
   ]
  },
  {
   "cell_type": "code",
   "execution_count": 14,
   "id": "2cf54698",
   "metadata": {},
   "outputs": [],
   "source": [
    "df_recipient_metrics = pd.DataFrame(recipient_metrics)\n",
    "df_recipient_metrics.to_csv('data/clean_metric_data/metrics_creators_by_recipient.csv')"
   ]
  }
 ],
 "metadata": {
  "kernelspec": {
   "display_name": "Python 3 (ipykernel)",
   "language": "python",
   "name": "python3"
  },
  "language_info": {
   "codemirror_mode": {
    "name": "ipython",
    "version": 3
   },
   "file_extension": ".py",
   "mimetype": "text/x-python",
   "name": "python",
   "nbconvert_exporter": "python",
   "pygments_lexer": "ipython3",
   "version": "3.11.5"
  }
 },
 "nbformat": 4,
 "nbformat_minor": 5
}
